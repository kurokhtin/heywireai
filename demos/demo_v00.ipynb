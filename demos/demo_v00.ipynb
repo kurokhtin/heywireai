{
 "cells": [
  {
   "cell_type": "code",
   "execution_count": 52,
   "id": "2f014864",
   "metadata": {},
   "outputs": [
    {
     "name": "stdout",
     "output_type": "stream",
     "text": [
      "The Burbank-based Walt Disney Co. will slash 7,000 jobs as part of a $5.5 billion cost-cutting effort, CEO Bob Iger announced Wednesday.The possibility of layoffs at Disney has been rumored for weeks, with Iger regaining his footing in the CEO’s office following the surprise ouster of CEO Bob Chapek in November. Iger broke the news during an earnings call Wednesday afternoon, following the release of the company’s first-quarter earnings report. Iger said he is targeting $5.5 billion in cost savings “across the company.”\n"
     ]
    }
   ],
   "source": [
    "import os\n",
    "import openai\n",
    "from dotenv import load_dotenv\n",
    "import requests\n",
    "from bs4 import BeautifulSoup\n",
    "import warnings\n",
    "\n",
    "load_dotenv()\n",
    "openai.api_key = os.getenv(\"OPENAI_API_KEY\")\n",
    "\n",
    "#Parsing url\n",
    "warnings.filterwarnings('ignore', message='Unverified HTTPS request')\n",
    "url = \"http://socalnews.com/la-story-3.html\"\n",
    "response = requests.get(url, verify=False)\n",
    "soup = BeautifulSoup(response.text, \"html.parser\")\n",
    "soup_text = soup.get_text()\n",
    "small_text_example = \"The Burbank-based Walt Disney Co. will slash 7,000 jobs as part of a $5.5 billion cost-cutting effort, CEO Bob Iger announced Wednesday.The possibility of layoffs at Disney has been rumored for weeks, with Iger regaining his footing in the CEO’s office following the surprise ouster of CEO Bob Chapek in November. Iger broke the news during an earnings call Wednesday afternoon, following the release of the company’s first-quarter earnings report. Iger said he is targeting $5.5 billion in cost savings “across the company.”\"\n",
    "\n",
    "def split_text(text, chunk_size=1000):\n",
    "    chunks = []\n",
    "    start = 0\n",
    "    while start < len(text):\n",
    "        end = start + chunk_size\n",
    "        if end < len(text) and text[end] not in '.?!':\n",
    "            while end < len(text) and text[end] not in '.?!':\n",
    "                end += 1\n",
    "        chunks.append(text[start:end + 1].strip())\n",
    "        start = end + 1\n",
    "    return chunks\n",
    "\n",
    "def openai_edit(text, i = \"Rewrite it in narrative style\") :\n",
    "    response = openai.Edit.create(\n",
    "      model = \"text-davinci-edit-001\",\n",
    "      input = text,\n",
    "      instruction = i\n",
    "    )   \n",
    "    return response['choices'][0]['text']\n",
    "\n",
    "def openai_complete(text, i = \"in a narrative style rewrite text below\") :\n",
    "    response = openai.Completion.create(\n",
    "        model = \"text-davinci-003\",\n",
    "        prompt = i+\"\\n\"+ text +\"\",\n",
    "        temperature = 0.5,\n",
    "        max_tokens = 2048,\n",
    "        top_p = 1,\n",
    "        frequency_penalty = 0.2,\n",
    "    )       \n",
    "    return response['choices'][-1]['text']\n",
    "\n",
    "def rewrite_text(chunks, func):\n",
    "    rewritten_text = \"\"\n",
    "    for chunk in chunks:\n",
    "        chunk_rewritten_text = func(chunk)\n",
    "        rewritten_text += chunk_rewritten_text\n",
    "    return rewritten_text\n",
    "    \n",
    "text_chunks = split_text(soup_text)\n",
    "\n",
    "print(small_text_example)\n"
   ]
  },
  {
   "cell_type": "code",
   "execution_count": 47,
   "id": "d85cdd8c",
   "metadata": {},
   "outputs": [
    {
     "name": "stdout",
     "output_type": "stream",
     "text": [
      "Example #1\n",
      "Model: Edit\n",
      "\n",
      "The Burbank-based Walt Disney Co. announced Wednesday it will slash 7,000 jobs as part of a $5.5 billion cost-cutting effort.\n",
      "The possibility of layoffs had been rumored for weeks, with CEO Bob Iger regaining his footing in the CEO’s office following the surprise ouster of former CEO Bob Chapek in November.\n",
      "Iger announced this during an earnings call Wednesday, following the release of the company’s first-quarter earnings report.\n",
      "Iger said he is targeting $5.5 billion in cost savings “across the company.”\n",
      "\n"
     ]
    }
   ],
   "source": [
    "# new_text = rewrite_text(text_chunks, openai_edit)\n",
    "edit_model = openai_edit(small_text_example)\n",
    "print(\"Example #1\\nModel: Edit\\n\\n\" +edit_model)"
   ]
  },
  {
   "cell_type": "code",
   "execution_count": 48,
   "id": "8b49a2cb",
   "metadata": {},
   "outputs": [
    {
     "name": "stdout",
     "output_type": "stream",
     "text": [
      "Example #2\n",
      "Model: Edit\n",
      "\n",
      "Earlier today, the Burbank-based Walt Disney Co. announced a plan to slash 7,000 jobs as part of a $5.5 billion cost-cutting effort.\n",
      "CEO Bob Iger announced the plan during the company’s first-quarter earnings call on Wednesday.\n",
      "The possibility of layoffs at Disney has been rumored for weeks, with Iger regaining his footing in the CEO’s office following the surprise ouster of CEO Bob Chapek in November.\n",
      "Iger said he is targeting $5.5 billion in cost savings “across the company.”\n",
      "\n"
     ]
    }
   ],
   "source": [
    "edit_model = openai_edit(small_text_example)\n",
    "print(\"Example #2\\nModel: Edit\\n\\n\" +edit_model)"
   ]
  },
  {
   "cell_type": "code",
   "execution_count": 56,
   "id": "a830eb92",
   "metadata": {},
   "outputs": [
    {
     "name": "stdout",
     "output_type": "stream",
     "text": [
      "Example #1\n",
      "Model: Complete\n",
      "\n",
      "On Wednesday, Bob Iger, CEO of the Burbank-based Walt Disney Company, confirmed weeks of speculation that the company would be cutting 7,000 jobs as part of a $5.5 billion cost-cutting effort. Iger made the announcement during an earnings call following the release of the company’s first-quarter earnings report. He stated that these reductions will be spread “across the company” and are necessary in order to reach their goal of $5.5 billion in cost savings. This news comes shortly after Iger took back his role as CEO following the unexpected departure of Bob Chapek in November.\n"
     ]
    }
   ],
   "source": [
    "complete_model = openai_complete(small_text_example)\n",
    "print(\"Example #1\\nModel: Complete\" +complete_model)"
   ]
  },
  {
   "cell_type": "code",
   "execution_count": 55,
   "id": "5e19a7c5",
   "metadata": {},
   "outputs": [
    {
     "name": "stdout",
     "output_type": "stream",
     "text": [
      "Example #2\n",
      "Model: Complete\n",
      "\n",
      "Bob Iger, CEO of the Burbank-based Walt Disney Co., announced on Wednesday that the company will lay off 7,000 employees in a $5.5 billion cost-cutting effort. This news follows weeks of speculation and rumors after Bob Chapek was unexpectedly removed from the CEO's office in November. Iger made the announcement during an earnings call after the release of the company's first-quarter earnings report. He stated that the company is aiming for $5.5 billion in savings \"across the company.\"\n"
     ]
    }
   ],
   "source": [
    "complete_model = openai_complete(small_text_example)\n",
    "print(\"Example #2\\nModel: Complete\" +complete_model)"
   ]
  },
  {
   "cell_type": "code",
   "execution_count": null,
   "id": "6873ff7b",
   "metadata": {},
   "outputs": [],
   "source": []
  }
 ],
 "metadata": {
  "kernelspec": {
   "display_name": "Python 3 (ipykernel)",
   "language": "python",
   "name": "python3"
  },
  "language_info": {
   "codemirror_mode": {
    "name": "ipython",
    "version": 3
   },
   "file_extension": ".py",
   "mimetype": "text/x-python",
   "name": "python",
   "nbconvert_exporter": "python",
   "pygments_lexer": "ipython3",
   "version": "3.11.1"
  }
 },
 "nbformat": 4,
 "nbformat_minor": 5
}
