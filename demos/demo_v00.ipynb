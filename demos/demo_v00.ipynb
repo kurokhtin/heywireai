{
 "cells": [
  {
   "cell_type": "code",
   "execution_count": 2,
   "id": "2f014864",
   "metadata": {},
   "outputs": [
    {
     "name": "stdout",
     "output_type": "stream",
     "text": [
      "Bass Inauguration, 3rd LdDate: 12-11-2022 8:50 PM - Word Count: 1283Bass Inauguration, 3rd Ld\r\n",
      "   Karen Bass Inaugurated as Mayor, to Hold News Conference\r\n",
      "   Eds: UPDATES with Bass to hold news conference, in 7th graf. Bass'\r\n",
      "office can be reached at press@karenbass.com.\r\n",
      "   By ERIC HE\r\n",
      "   City News Service\r\n",
      "   LOS ANGELES (CNS) - Karen Bass was sworn in as the 43rd mayor of Los\r\n",
      "Angeles today in a historic inauguration at the Microsoft Theater, becoming the\r\n",
      "first woman and second Black person to lead the city.\r\n",
      "   Bass was sworn in by Vice President Kamala Harris, a former California\r\n",
      "senator and the first woman to serve as the nation's second-in-command.\r\n",
      "   Nearly every major city official, along with Gov. Gavin Newsom,\r\n",
      "attended the ceremony.\r\n",
      "   ``Making history with each of you today is a monumental moment in my\r\n",
      "life and for Los Angeles,'' Bass said in her speech.\r\n",
      "   Bass addressed what she described as an ``inflection point in our\r\n",
      "history,'' with issues including ``the pandemic, the rapidly changing economy,\r\n",
      "the rapidly changing climate, the cost of living, (and) 40,000 people sleeping\r\n",
      "on the street.''\r\n",
      "   ``I believe that times of inflection require reflection -- I believe,\r\n",
      "it's time for Angelenos to remind ourselves where we come from and who we\r\n",
      "are,'' she said.\r\n",
      "   Bass scheduled a news conference at 9 a.m. Monday to declare a state\r\n",
      "of emergency on homelessness as her first act as mayor. Her reference to that\r\n",
      "action drew a standing ovation. The emergency declaration will ``recognize the\r\n",
      "severity of our crisis and break new ground to maximize our ability to urgently\r\n",
      "move people inside, and do so for good.\r\n",
      "   ``It will create the structure necessary for us to have a true,\r\n",
      "unified and citywide strategy to set us on the path to solve homelessness,''\r\n",
      "Bass said.\r\n",
      "   Bass' plan also includes housing 17,000 homeless people in her first\r\n",
      "year. She said Los Angeles has earned the ``shameful crown'' of having some of\r\n",
      "the most overcrowded neighborhoods in the country and called for residents to\r\n",
      "``welcome housing to every neighborhood.''\r\n",
      "   ``We know our mission: We must build housing in every neighborhood,''\r\n",
      "Bass said. ``We cannot continue to overcrowd neighborhoods that are already\r\n",
      "overcrowded.''\r\n",
      "   On crime, Bass sought a strategy to make neighborhoods safe ``that is\r\n",
      "informed by our communities,'' which includes launching an Office of Community\r\n",
      "Safety.\r\n",
      "   ``Of course, we must stop crimes in progress and hold people\r\n",
      "accountable,'' Bass said. ``Some neighborhoods have asked for additional\r\n",
      "officers, and we will deliver. But what neighborhoods are asking for and what\r\n",
      "they need is as diverse as our city.''\r\n",
      "   Sunday's ceremony was initially scheduled to take place outside City\r\n",
      "Hall, but rain in the forecast led to a venue shift indoors. Instead, Bass was\r\n",
      "sworn in on the theater's stage, with two large ``LA'' letters in the mold of\r\n",
      "the LAX sign to her right and a picture of the Spring Street City Hall steps\r\n",
      "behind the stage.\r\n",
      "   ``In our city's 241-year history, we've never witnessed a day like\r\n",
      "today as Los Angeles came together to celebrate the swearing in of Mayor Karen\r\n",
      "Bass,'' said Mark Gonzalez, chair of the Los Angeles County Democratic Party,\r\n",
      "in a statement.\r\n",
      "   Surprise performers at the inauguration included Stevie Wonder, who\r\n",
      "sang ``Keep Our Love Alive'' and ``Living for the City,'' and Chloe Bailey and\r\n",
      "Las Cafeteras. Amanda Gorman, the first National Youth Poet Laureate, who also\r\n",
      "delivered a poem at President Joe Biden's inauguration, said in her reading\r\n",
      "Sunday that ``the time of never before is officially past.''\r\n",
      "   ``For where there's will, there's women,'' Gorman said. ``And where\r\n",
      "there's women, there's forever a way.''\r\n",
      "   Sunday's event marked the first mayoral inauguration in Los Angeles in\r\n",
      "nearly a decade, with outgoing mayor Eric Garcetti holding the post since 2013.\r\n",
      "   Bass defeated developer Rick Caruso on Nov. 8 in an expensive and at-\r\n",
      "times contentious race.\r\n",
      "   She will inherit leadership of a city grappling with a scandal that\r\n",
      "has embroiled City Hall for the past two months, after three council members\r\n",
      "and a top county labor official took part in a recorded conversation in October\r\n",
      "2021 that included racist comments and attempts to manipulate redistricting.\r\n",
      "   The fallout has continued to roil City Hall, with Councilman Kevin de\r\n",
      "León -- one of the participants in the conversation -- unexpectedly returning\r\n",
      "to the chamber on Friday, setting off chaos as he continues to defy calls to\r\n",
      "resign. De León later fought with an activist at a holiday tree lighting event\r\n",
      "on Friday evening.\r\n",
      "   City Council President Paul Krekorian, who swore in five new city\r\n",
      "council members and a new city attorney and city controller at Sunday's\r\n",
      "ceremony, said that there is no leader more capable of bringing the city\r\n",
      "together than Bass.\r\n",
      "   ``This is a time of unprecedented challenges in our city, but today as\r\n",
      "I look out at this audience and see the people with us, I know that this is\r\n",
      "also a time of unprecedented opportunity,'' Krekorian said.\r\n",
      "   Krekorian added that Bass will have a ``very strong part in the Los\r\n",
      "Angeles City Council,'' a positive sign for Bass -- who will need to have the\r\n",
      "council renew her state of emergency for homelessness every month.\r\n",
      "   Bass, 69, grew up in the midst of the civil rights movement with three\r\n",
      "brothers in the Venice and Fairfax neighborhoods. She was drawn to\r\n",
      "community activism after watching the movement on television, volunteering for\r\n",
      "Robert F. Kennedy's 1968 presidential campaign when she was 14. Bass said while\r\n",
      "her parents did not live to see her take elected office, ``their love, support\r\n",
      "and guidance is why I stand before you today.''\r\n",
      "   Bass' father fled the Jim Crow south during the great African American\r\n",
      "migration after World War II and found work as a letter carrier. His\r\n",
      "paycheck supported Bass and her siblings, and allowed her mother to choose to\r\n",
      "be a homemaker.\r\n",
      "   ``When I think about the dreams of working people today, I reflect on\r\n",
      "the fact that my mother and father were able to buy a home in Los Angeles for\r\n",
      "their family of six with one paycheck,'' Bass said.\r\n",
      "   Bass' organizing career began in 1990 when she founded Community\r\n",
      "Coalition, a South Los Angeles social justice group in response to the crack\r\n",
      "cocaine crisis. In 2004, Bass was the only Black woman in the state Legislature\r\n",
      "when she was elected to the Assembly. Four years later, she became the first\r\n",
      "Black woman to lead the chamber. Bass was elected to the U.S. House of\r\n",
      "Representatives in 2010 and chaired the Congressional Black Caucus in 2019 and\r\n",
      "2020.\r\n",
      "   State Senate President pro-Tempore Toni Atkins said that Bass didn't\r\n",
      "run for mayor for ``credit or photo-opps.''\r\n",
      "   ``She is here to work,'' Atkins said. ``She is here because she loves\r\n",
      "this city, she loves its people. She is here to answer the call to serve. And\r\n",
      "that is who she is.''\r\n",
      "   The new mayor called for the city to focus on solutions rather than\r\n",
      "jurisdiction, to link arms rather than point fingers.\r\n",
      "   ``If we just focus on bringing people inside, comprehensively\r\n",
      "addressing their needs, and moving them to permanent housing with a way to pay\r\n",
      "their bills, we will save lives and save our city,'' Bass said. ``That is my\r\n",
      "mission as your mayor.''\r\n",
      "   Bass said her father taught her to be a critical thinker, and to\r\n",
      "understand the historical context of national and international events.\r\n",
      "   ``My daily conversations with him led me to make a lifetime commitment\r\n",
      "to do whatever I can to change the world,'' she said.\r\n",
      "   Through the ``unaffordability, the difficulty, the struggle working\r\n",
      "people face today in Los Angeles,'' Bass said that Angelenos have ``never, ever\r\n",
      "given up.''\r\n",
      "   ``And our magic, L.A. magic, it's still here,'' she said.\r\n",
      "   Copyright 2022, City News Service, Inc.\n",
      "\r\n",
      "CNS-12-11-2022 20:50\n"
     ]
    }
   ],
   "source": [
    "import os\n",
    "import openai\n",
    "from dotenv import load_dotenv\n",
    "import requests\n",
    "from bs4 import BeautifulSoup\n",
    "import warnings\n",
    "import re\n",
    "\n",
    "load_dotenv()\n",
    "openai.api_key = os.getenv(\"OPENAI_API_KEY\")\n",
    "\n",
    "def url_to_string(url):\n",
    "    warnings.filterwarnings('ignore', message='Unverified HTTPS request')\n",
    "    response = requests.get(url, verify=False)\n",
    "    soup = BeautifulSoup(response.text, \"html.parser\")\n",
    "    return soup.get_text()\n",
    "\n",
    "def split_text(text, chunk_size=1000):\n",
    "    chunks = []\n",
    "    start = 0\n",
    "    while start < len(text):\n",
    "        end = start + chunk_size\n",
    "        if end < len(text) and text[end] not in '.?!':\n",
    "            while end < len(text) and text[end] not in '.?!':\n",
    "                end += 1\n",
    "        chunks.append(text[start:end + 1].strip())\n",
    "        start = end + 1\n",
    "    return chunks\n",
    "\n",
    "def openai_edit(text, i = \"Rewrite it in narrative style\") :\n",
    "    response = openai.Edit.create(\n",
    "      model = \"text-davinci-edit-001\",\n",
    "      input = text,\n",
    "      instruction = i\n",
    "    )   \n",
    "    return response['choices'][0]['text']\n",
    "\n",
    "def openai_complete(text, i = \"in a narrative style rewrite text below\") :\n",
    "    response = openai.Completion.create(\n",
    "        model = \"text-davinci-003\",\n",
    "        prompt = i+\"\\n\"+ text +\"\",\n",
    "        temperature = 0.5,\n",
    "        max_tokens = 2048,\n",
    "        top_p = 1,\n",
    "        frequency_penalty = 0.2,\n",
    "    )       \n",
    "    return response['choices'][-1]['text']\n",
    "\n",
    "def rewrite_text(chunks, func):\n",
    "    rewritten_text = \"\"\n",
    "    for chunk in chunks:\n",
    "        chunk_rewritten_text = func(chunk)\n",
    "        rewritten_text += chunk_rewritten_text\n",
    "    return rewritten_text\n",
    "    \n",
    "text = url_to_string('http://socalnews.com/la-story-3.html')\n",
    "text_chunks = split_text(text)\n",
    "\n",
    "small_text_example = \"The Burbank-based Walt Disney Co. will slash 7,000 jobs as part of a $5.5 billion cost-cutting effort, CEO Bob Iger announced Wednesday.The possibility of layoffs at Disney has been rumored for weeks, with Iger regaining his footing in the CEO’s office following the surprise ouster of CEO Bob Chapek in November. Iger broke the news during an earnings call Wednesday afternoon, following the release of the company’s first-quarter earnings report. Iger said he is targeting $5.5 billion in cost savings “across the company.”\"\n",
    "print(text)\n"
   ]
  },
  {
   "cell_type": "code",
   "execution_count": 47,
   "id": "d85cdd8c",
   "metadata": {},
   "outputs": [
    {
     "name": "stdout",
     "output_type": "stream",
     "text": [
      "Example #1\n",
      "Model: Edit\n",
      "\n",
      "The Burbank-based Walt Disney Co. announced Wednesday it will slash 7,000 jobs as part of a $5.5 billion cost-cutting effort.\n",
      "The possibility of layoffs had been rumored for weeks, with CEO Bob Iger regaining his footing in the CEO’s office following the surprise ouster of former CEO Bob Chapek in November.\n",
      "Iger announced this during an earnings call Wednesday, following the release of the company’s first-quarter earnings report.\n",
      "Iger said he is targeting $5.5 billion in cost savings “across the company.”\n",
      "\n"
     ]
    }
   ],
   "source": [
    "# new_text = rewrite_text(text_chunks, openai_edit)\n",
    "edit_model = openai_edit(small_text_example)\n",
    "print(\"Example #1\\nModel: Edit\\n\\n\" +edit_model)"
   ]
  },
  {
   "cell_type": "code",
   "execution_count": 48,
   "id": "8b49a2cb",
   "metadata": {},
   "outputs": [
    {
     "name": "stdout",
     "output_type": "stream",
     "text": [
      "Example #2\n",
      "Model: Edit\n",
      "\n",
      "Earlier today, the Burbank-based Walt Disney Co. announced a plan to slash 7,000 jobs as part of a $5.5 billion cost-cutting effort.\n",
      "CEO Bob Iger announced the plan during the company’s first-quarter earnings call on Wednesday.\n",
      "The possibility of layoffs at Disney has been rumored for weeks, with Iger regaining his footing in the CEO’s office following the surprise ouster of CEO Bob Chapek in November.\n",
      "Iger said he is targeting $5.5 billion in cost savings “across the company.”\n",
      "\n"
     ]
    }
   ],
   "source": [
    "edit_model = openai_edit(small_text_example)\n",
    "print(\"Example #2\\nModel: Edit\\n\\n\" +edit_model)"
   ]
  },
  {
   "cell_type": "code",
   "execution_count": 56,
   "id": "7c7a3f6d",
   "metadata": {},
   "outputs": [
    {
     "name": "stdout",
     "output_type": "stream",
     "text": [
      "Example #1\n",
      "Model: Complete\n",
      "\n",
      "On Wednesday, Bob Iger, CEO of the Burbank-based Walt Disney Company, confirmed weeks of speculation that the company would be cutting 7,000 jobs as part of a $5.5 billion cost-cutting effort. Iger made the announcement during an earnings call following the release of the company’s first-quarter earnings report. He stated that these reductions will be spread “across the company” and are necessary in order to reach their goal of $5.5 billion in cost savings. This news comes shortly after Iger took back his role as CEO following the unexpected departure of Bob Chapek in November.\n"
     ]
    }
   ],
   "source": [
    "complete_model = openai_complete(small_text_example)\n",
    "print(\"Example #1\\nModel: Complete\" +complete_model)"
   ]
  },
  {
   "cell_type": "code",
   "execution_count": 55,
   "id": "b2e1f189",
   "metadata": {},
   "outputs": [
    {
     "name": "stdout",
     "output_type": "stream",
     "text": [
      "Example #2\n",
      "Model: Complete\n",
      "\n",
      "Bob Iger, CEO of the Burbank-based Walt Disney Co., announced on Wednesday that the company will lay off 7,000 employees in a $5.5 billion cost-cutting effort. This news follows weeks of speculation and rumors after Bob Chapek was unexpectedly removed from the CEO's office in November. Iger made the announcement during an earnings call after the release of the company's first-quarter earnings report. He stated that the company is aiming for $5.5 billion in savings \"across the company.\"\n"
     ]
    }
   ],
   "source": [
    "complete_model = openai_complete(small_text_example)\n",
    "print(\"Example #2\\nModel: Complete\" +complete_model)"
   ]
  },
  {
   "cell_type": "code",
   "execution_count": 29,
   "id": "32dc5aa8",
   "metadata": {},
   "outputs": [
    {
     "name": "stdout",
     "output_type": "stream",
     "text": [
      "[('Bass Inauguration', 'PERSON'),\n",
      " ('12', 'CARDINAL'),\n",
      " ('8:50 PM', 'TIME'),\n",
      " ('3rd', 'ORDINAL'),\n",
      " ('Hold News Conference\\r\\n\\xa0\\xa0 Eds', 'ORG'),\n",
      " ('Bass', 'PERSON'),\n",
      " ('7th', 'ORDINAL'),\n",
      " ('Bass', 'PERSON'),\n",
      " ('ERIC HE\\r\\n\\xa0\\xa0 City News Service', 'PERSON'),\n",
      " ('LOS ANGELES', 'GPE'),\n",
      " ('CNS', 'ORG'),\n",
      " ('Karen Bass', 'PERSON'),\n",
      " ('43rd', 'ORDINAL'),\n",
      " ('Los\\r\\nAngeles', 'GPE'),\n",
      " ('today', 'DATE'),\n",
      " ('the Microsoft Theater', 'ORG'),\n",
      " ('first', 'ORDINAL'),\n",
      " ('second', 'ORDINAL'),\n",
      " ('Bass', 'PERSON'),\n",
      " ('Kamala Harris', 'PERSON'),\n",
      " ('California', 'GPE'),\n",
      " ('first', 'ORDINAL'),\n",
      " ('second', 'ORDINAL'),\n",
      " ('Gavin Newsom', 'PERSON'),\n",
      " ('today', 'DATE'),\n",
      " ('Los Angeles', 'GPE'),\n",
      " ('Bass', 'PERSON'),\n",
      " ('Bass', 'PERSON'),\n",
      " ('40,000', 'CARDINAL'),\n",
      " ('Angelenos', 'PERSON'),\n",
      " ('Bass', 'PERSON'),\n",
      " ('9 a.m.', 'TIME'),\n",
      " ('Monday', 'DATE'),\n",
      " ('first', 'ORDINAL'),\n",
      " ('Bass', 'PERSON'),\n",
      " ('Bass', 'PERSON'),\n",
      " ('17,000', 'CARDINAL'),\n",
      " ('her first\\r\\nyear', 'DATE'),\n",
      " ('Los Angeles', 'GPE'),\n",
      " ('Bass', 'PERSON'),\n",
      " ('Bass', 'PERSON'),\n",
      " ('an Office of Community\\r\\nSafety', 'ORG'),\n",
      " ('Bass', 'PERSON'),\n",
      " ('Sunday', 'DATE'),\n",
      " ('City\\r\\nHall', 'FAC'),\n",
      " ('Bass', 'PERSON'),\n",
      " ('two', 'CARDINAL'),\n",
      " ('LA', 'GPE'),\n",
      " ('LAX', 'ORG'),\n",
      " ('241-year', 'DATE'),\n",
      " ('a day', 'DATE'),\n",
      " ('today', 'DATE'),\n",
      " ('Los Angeles', 'GPE'),\n",
      " ('Bass', 'PERSON'),\n",
      " ('Mark Gonzalez', 'PERSON'),\n",
      " ('the Los Angeles County Democratic Party', 'ORG'),\n",
      " ('Stevie Wonder', 'PERSON'),\n",
      " ('Keep Our Love', 'WORK_OF_ART'),\n",
      " ('Living for the City', 'WORK_OF_ART'),\n",
      " ('Chloe Bailey', 'PERSON'),\n",
      " ('Las Cafeteras', 'ORG'),\n",
      " ('Amanda Gorman', 'PERSON'),\n",
      " ('first', 'ORDINAL'),\n",
      " (\"Joe Biden's\", 'PERSON'),\n",
      " ('Sunday', 'DATE'),\n",
      " ('Gorman', 'PERSON'),\n",
      " ('Sunday', 'DATE'),\n",
      " ('first', 'ORDINAL'),\n",
      " ('Los Angeles', 'GPE'),\n",
      " ('nearly a decade', 'DATE'),\n",
      " ('Eric Garcetti', 'PERSON'),\n",
      " ('2013', 'DATE'),\n",
      " ('Bass', 'PERSON'),\n",
      " ('Rick Caruso', 'PERSON'),\n",
      " ('Nov. 8', 'DATE'),\n",
      " ('City Hall', 'FAC'),\n",
      " ('the past two months', 'DATE'),\n",
      " ('three', 'CARDINAL'),\n",
      " ('October\\r\\n2021', 'DATE'),\n",
      " ('City Hall', 'FAC'),\n",
      " ('Councilman Kevin de\\r\\nLeón', 'PERSON'),\n",
      " ('Friday', 'DATE'),\n",
      " ('De León', 'PERSON'),\n",
      " ('Friday', 'DATE'),\n",
      " ('evening', 'TIME'),\n",
      " ('City Council', 'ORG'),\n",
      " ('Paul Krekorian', 'PERSON'),\n",
      " ('five', 'CARDINAL'),\n",
      " ('new city', 'GPE'),\n",
      " ('Sunday', 'DATE'),\n",
      " ('Bass', 'PERSON'),\n",
      " ('today', 'DATE'),\n",
      " ('Krekorian', 'PERSON'),\n",
      " ('Krekorian', 'PERSON'),\n",
      " ('Bass', 'PERSON'),\n",
      " ('the Los\\r\\nAngeles City Council', 'ORG'),\n",
      " ('Bass', 'PERSON'),\n",
      " ('every month', 'DATE'),\n",
      " ('Bass', 'PERSON'),\n",
      " ('69', 'DATE'),\n",
      " ('three', 'CARDINAL'),\n",
      " ('Venice', 'GPE'),\n",
      " ('Fairfax', 'GPE'),\n",
      " (\"Robert F. Kennedy's\", 'PERSON'),\n",
      " ('1968', 'DATE'),\n",
      " ('14', 'DATE'),\n",
      " ('Bass', 'PERSON'),\n",
      " ('today', 'DATE'),\n",
      " ('Bass', 'PERSON'),\n",
      " ('the Jim Crow', 'ORG'),\n",
      " ('African American', 'NORP'),\n",
      " ('World War II', 'EVENT'),\n",
      " ('Bass', 'PERSON'),\n",
      " ('today', 'DATE'),\n",
      " ('Los Angeles', 'GPE'),\n",
      " ('six', 'CARDINAL'),\n",
      " ('one', 'CARDINAL'),\n",
      " ('Bass', 'PERSON'),\n",
      " ('Bass', 'PERSON'),\n",
      " ('1990', 'DATE'),\n",
      " ('Community\\r\\nCoalition', 'ORG'),\n",
      " ('South Los Angeles', 'GPE'),\n",
      " ('2004', 'DATE'),\n",
      " ('Bass', 'PERSON'),\n",
      " ('Legislature', 'ORG'),\n",
      " ('Assembly', 'ORG'),\n",
      " ('Four years later', 'DATE'),\n",
      " ('first', 'ORDINAL'),\n",
      " ('Bass', 'PERSON'),\n",
      " ('the U.S. House', 'ORG'),\n",
      " ('2010', 'DATE'),\n",
      " ('the Congressional Black Caucus', 'ORG'),\n",
      " ('2019', 'DATE'),\n",
      " ('Senate', 'ORG'),\n",
      " ('Toni Atkins', 'PERSON'),\n",
      " ('Bass', 'PERSON'),\n",
      " ('Atkins', 'PERSON'),\n",
      " ('Bass', 'PERSON'),\n",
      " ('Bass', 'PERSON'),\n",
      " ('daily', 'DATE'),\n",
      " ('today', 'DATE'),\n",
      " ('Los Angeles', 'GPE'),\n",
      " ('Bass', 'PERSON'),\n",
      " ('Angelenos', 'PERSON'),\n",
      " ('L.A.', 'GPE'),\n",
      " ('2022', 'DATE'),\n",
      " ('City News Service', 'ORG')]\n"
     ]
    }
   ],
   "source": [
    "import nltk\n",
    "from nltk.tokenize import word_tokenize\n",
    "from nltk.tag import pos_tag\n",
    "from nltk.chunk import ne_chunk\n",
    "# import spacy\n",
    "import en_core_web_sm\n",
    "from pprint import pprint\n",
    "\n",
    "def text_to_ents(text):\n",
    "    nlp = en_core_web_sm.load()\n",
    "    doc = nlp(text)\n",
    "    return doc.ents\n",
    "\n",
    "entities = text_to_ents(text)\n",
    "pprint([(X.text, X.label_) for X in entities])"
   ]
  },
  {
   "cell_type": "code",
   "execution_count": 4,
   "id": "b5460907",
   "metadata": {},
   "outputs": [
    {
     "data": {
      "text/plain": [
       "Counter({'PERSON': 52,\n",
       "         'CARDINAL': 9,\n",
       "         'TIME': 3,\n",
       "         'ORDINAL': 11,\n",
       "         'ORG': 17,\n",
       "         'GPE': 15,\n",
       "         'DATE': 33,\n",
       "         'FAC': 3,\n",
       "         'WORK_OF_ART': 2,\n",
       "         'NORP': 1,\n",
       "         'EVENT': 1})"
      ]
     },
     "execution_count": 4,
     "metadata": {},
     "output_type": "execute_result"
    }
   ],
   "source": [
    "from collections import Counter\n",
    "labels = [x.label_ for x in entities]\n",
    "Counter(labels)"
   ]
  },
  {
   "cell_type": "code",
   "execution_count": 5,
   "id": "472dce77",
   "metadata": {},
   "outputs": [
    {
     "data": {
      "text/plain": [
       "[('Bass', 29), ('today', 7), ('first', 6)]"
      ]
     },
     "execution_count": 5,
     "metadata": {},
     "output_type": "execute_result"
    }
   ],
   "source": [
    "items = [x.text for x in entities]\n",
    "Counter(items).most_common(3)"
   ]
  },
  {
   "cell_type": "code",
   "execution_count": 104,
   "id": "d4535aae",
   "metadata": {},
   "outputs": [
    {
     "data": {
      "text/html": [
       "Tracking run with wandb version 0.13.10"
      ],
      "text/plain": [
       "<IPython.core.display.HTML object>"
      ]
     },
     "metadata": {},
     "output_type": "display_data"
    },
    {
     "data": {
      "text/html": [
       "Run data is saved locally in <code>C:\\Users\\beaconproduction\\sites\\local\\python\\heywire\\openai\\demos\\wandb\\run-20230210_165403-a9o6v818</code>"
      ],
      "text/plain": [
       "<IPython.core.display.HTML object>"
      ]
     },
     "metadata": {},
     "output_type": "display_data"
    },
    {
     "data": {
      "text/html": [
       "Syncing run <strong><a href='https://wandb.ai/heywire/HeywireAI/runs/a9o6v818' target=\"_blank\">sleek-snowflake-21</a></strong> to <a href='https://wandb.ai/heywire/HeywireAI' target=\"_blank\">Weights & Biases</a> (<a href='https://wandb.me/run' target=\"_blank\">docs</a>)<br/>"
      ],
      "text/plain": [
       "<IPython.core.display.HTML object>"
      ]
     },
     "metadata": {},
     "output_type": "display_data"
    },
    {
     "data": {
      "text/html": [
       " View project at <a href='https://wandb.ai/heywire/HeywireAI' target=\"_blank\">https://wandb.ai/heywire/HeywireAI</a>"
      ],
      "text/plain": [
       "<IPython.core.display.HTML object>"
      ]
     },
     "metadata": {},
     "output_type": "display_data"
    },
    {
     "data": {
      "text/html": [
       " View run at <a href='https://wandb.ai/heywire/HeywireAI/runs/a9o6v818' target=\"_blank\">https://wandb.ai/heywire/HeywireAI/runs/a9o6v818</a>"
      ],
      "text/plain": [
       "<IPython.core.display.HTML object>"
      ]
     },
     "metadata": {},
     "output_type": "display_data"
    }
   ],
   "source": [
    "import wandb\n",
    "\n",
    "run = wandb.init(project='HeywireAI', entity=\"heywire\")\n",
    "wandb.config = {\n",
    "  \"learning_rate\": 0.001,\n",
    "  \"epochs\": 100,\n",
    "  \"batch_size\": 128\n",
    "}\n",
    "prediction_table = wandb.Table(columns=[\"original_story\", \"prompt\", \"completion\"])\n",
    "\n",
    "def generate_story(article_text, entities, summary):\n",
    "\n",
    "    mod = \"text-davinci-003\"\n",
    "    prompt = \"Generate a story that involves the following entities and origin example:\"\n",
    "    \n",
    "    completions = openai.Completion.create(\n",
    "        model=mod,\n",
    "        prompt=prompt,\n",
    "        max_tokens=1024,\n",
    "        stop=None,\n",
    "        temperature=0.5,\n",
    "    )\n",
    "\n",
    "    entity_string = \"\\n\".join([f\"- {entity.text}: {entity.label_}\" for entity in entities])\n",
    "    \n",
    "    if summary:\n",
    "        story_prompt = f\"Original example: {summary}\\n Entities: {entity_string}\\n\\nBegin story:\"\n",
    "    else:\n",
    "        story_prompt = f\"{entity_string}\\n\\nBegin story:\"\n",
    "    \n",
    "    story_completions = openai.Completion.create(\n",
    "        model=mod,\n",
    "        prompt=story_prompt,\n",
    "        max_tokens=int(4096 - (len(story_prompt) / 3)),\n",
    "        n=1,\n",
    "        stop=None,\n",
    "        temperature=0.5,\n",
    "    )\n",
    "    \n",
    "    full_prompt = f\"{prompt}\\n{story_prompt}:\"\n",
    "    \n",
    "    prediction_table.add_data(article_text, full_prompt, story_completions['choices'][0]['text'])\n",
    "    \n",
    "    return story_completions['choices'][0]['text']"
   ]
  },
  {
   "cell_type": "code",
   "execution_count": 40,
   "id": "ce31a3b2",
   "metadata": {},
   "outputs": [
    {
     "name": "stdout",
     "output_type": "stream",
     "text": [
      "\n",
      "\n",
      "Karen Bass was inaugurated as the 43rd mayor of Los Angeles today, at the Microsoft Theater. Bass, first elected to the Los Angeles City Council in 2007, and re-elected to the council in 2011 and 2015, was sworn in by California Senator Kamala Harris during a ceremony attended by Governor Gavin Newsom.\n",
      "\n",
      "Bass addressed a crowd of 40,000 Angelenos gathered at City Hall, saying she was humbled to have been chosen as the city's first female African American mayor. She noted that the inauguration marked the 241-year anniversary of the first day of the City of Los Angeles.\n",
      "\n",
      "The ceremony featured musical performances by Mark Gonzalez, Stevie Wonder, Chloe Bailey, and Las Cafeteras, as well as a poem by Amanda Gorman, the first person to hold the title of Youth Poet Laureate of the United States. Gorman read her poem at the inauguration of President Joe Biden's on Sunday.\n",
      "\n",
      "Bass, who was elected mayor of Los Angeles on November 8, 2020, also noted that the inauguration was taking place after two months of protests against police brutality and racism in the city.\n",
      "\n",
      "She said the city had been working on the goals of the protests for the past three years, and that she was looking forward to the next three. Bass said she had already begun to make progress in her first year, including the creation of an Office of Community Safety.\n",
      "\n",
      "On Sunday, Bass also announced that Los Angeles would be the first major city in the nation to create a Department of Transportation, which will be responsible for making the city more bike and pedestrian friendly.\n",
      "\n",
      "Bass said she was also looking forward to the next two years, when the city will celebrate its 69th anniversary, and the next three years, when Venice and Fairfax will be celebrating the 50th anniversary of Robert F. Kennedy's assassination in 1968.\n",
      "\n",
      "Bass noted that the city had made great progress in the past 14 years, including the creation of the Community Coalition in South Los Angeles in 2004, and her election to the California Legislature in 2008, and then to the U.S. House of Representatives in 2010.\n",
      "\n",
      "She also noted that she had been the first woman to chair the Congressional Black Caucus in 2019, and the first woman to serve as Speaker of the California Assembly in 2020.\n",
      "\n",
      "Bass said her commitment to the people of Los Angeles was to work hard every day to make the city a better place. She said she was looking forward to the next four years, to making sure that all Angelenos have access to the same opportunities, and to ensuring that the city continues to be a safe and prosperous place to live.\n",
      "\n",
      "\n",
      "Harvey Weinstein, the disgraced movie mogul, is due in court on LdDate, 12-01-2022, at 5:36 PM. He is facing 963Harvey charges in his 2nd court appearance in the afternoon at 9:30 a.m. TOMORROW in the Dept. 110 Criminal Courts Building at 210 W. Temple St. in LOS ANGELES. \n",
      "\n",
      "CNS reported today that Weinstein is accused of four counts of rape and one count of sexual assault. Weinstein is expected to appear in court on Friday and his defense team is expected to argue that the alleged incidents occurred more than 70 seven years ago. \n",
      "\n",
      "Gavin Newsom's wife, Jennifer Siebel Newsom, has spoken out against Weinstein in the past. Weinstein is also accused of raping a woman at a Beverly Hills hotel room 17 years ago. He is facing four counts of rape, one count of sexual assault and one count of sexual battery.\n",
      "\n",
      "Weinstein is also accused of sexual assault by Alan Jackson in Los Angeles five years ago. Weinstein is accused of four counts of rape and two counts of sexual battery by Marlene Martinez. Jackson is also accused of one count of sexual battery against Weinstein.\n",
      "\n",
      "Weinstein is also accused of sexually assaulting Jane in 2010 and 2013. Jane is seeking $2 million in damages from Weinstein. Weinstein is also accused of two counts of sexual battery by Jennifer Siebel Newsom and 100% of the proceeds from the lawsuit will be donated to the #MeToo movement.\n",
      "\n",
      "Harvey Weinstein is due in court on Thursday to face charges of eight counts of sexual assault and battery. The alleged assaults occurred between October 2005 and September 2013. Weinstein is accused of one count of rape, one count of sexual assault, four counts of sexual battery and two counts of forcible rape. \n",
      "\n",
      "Weinstein is also accused of rape by Paul Thompson in 2010 and 2013. Bob Weinstein, his brother, is the co-founder of Miramax Films, which produced movies such as ``Good Will Hunting'' and ``Shakespeare In Love. Matt Damon, Ben Affleck, Gwyneth Paltrow and Quentin Tarantino have all spoken out against Weinstein. \n",
      "\n",
      "Thompson is seeking $2 million in damages from Weinstein. Weinstein is expected to appear in court on Thursday in New York. His trial is expected to begin in 2022. According to City News Service, the date for the trial is 01-2022.\n",
      "\n",
      "\n",
      "Officials from the Los Angeles Natural History Museum, the California Department of Fish and Wildlife, and the National Park Service are planning a memorial hike in Griffith Park to honor the iconic mountain lion P-22. \n",
      "\n",
      "The hike will take place on Saturday, December 18th, 2022 at 4 p.m. at the Charlie Turner Trailhead, 2840, and will be led by City Councilwoman Nithya Raman's office. The hike will honor the beloved mountain lion that was found dead in Los Angeles several days ago. \n",
      "\n",
      "Karen Tongson, a spokesperson for the California Department of Fish and Wildlife, said P-22 was found dead in the Hollywood Hills near the Los Angeles Zoo, where he had lived for more than 10 years. \n",
      "\n",
      "Chuck Bonham, director of the California Department of Fish and Wildlife, said P-22 was estimated to be about 11 or 12 years old when he died. He was first spotted in the Santa Monica Mountains in 2012 and weighed 123 pounds. \n",
      "\n",
      "The memorial hike is being organized by the Los Angeles Natural History Museum, the California Department of Fish and Wildlife, and the National Park Service. It will begin at the Charlie Turner Trailhead at 4 p.m. on Saturday and will be led by City Councilwoman Nithya Raman's office. \n",
      "\n",
      "The hike will take participants from the trailhead to the Hollywood Hills, where P-22 lived for more than 10 years. It will also include stops at the San Diego Zoo, the 405 and 101 freeways, Griffith Park, and the Los Angeles Zoo. \n",
      "\n",
      "The hike is intended to honor P-22 and celebrate the life of the beloved mountain lion. Christian, a spokesperson for the Los Angeles Natural History Museum, said the hike is a way for Angelenos to come together to remember P-22 and celebrate his life. \n",
      "\n",
      "Gavin Newsom, the governor of California, also released a statement honoring P-22. He said, “P-22 was an icon of the Southland and a symbol of the resilience of wildlife in the face of the urban environment.” \n",
      "\n",
      "The memorial hike is being organized in partnership with the Mountain Lion Foundation, and Gerry Hans, Executive Director of the organization, said it was FoGP that first suggested the idea. \n",
      "\n",
      "P-22 was first spotted in the Santa Monica Mountains in 2012 and was estimated to be about 11 or 12 years old when he died. He was a beloved mountain lion who was known for his incredible journey from the Santa Monica Mountains to Griffith Park, a distance of about nine miles. \n",
      "\n",
      "The memorial hike will be the first of several events that will be held in honor of P-22 in the coming year. The Los Angeles Natural History Museum will also be hosting an event called “The Story of P-22” on February 12, 2017. \n",
      "\n",
      "Miguel Ordeñana, Community Science Manager at the Natural History Museum of Los Angeles County, said the event will include a discussion about the life of P-22 and the importance of mountain lions in the L.A. landscape. \n",
      "\n",
      "The memorial hike is being organized by the Natural History Museum of Los Angeles County, the California Department of Fish and Wildlife, and the National Park Service. It will take place on Saturday, December 18th, 2022 at 4 p.m. at the Charlie Turner Trailhead, 2840. \n",
      "\n",
      "The hike is free and open to the public and will be led by City Councilwoman Nithya Raman's office. Participants are encouraged to bring a donation of $85 million for the Wallis Annenberg Wildlife Crossing in Agoura Hills, which is scheduled to open in 2025. \n",
      "\n",
      "The memorial hike is a way for Angelenos to come together to remember P-22 and celebrate his life. P-22 was a beloved mountain lion who was known for his incredible journey from the Santa Monica Mountains to Griffith Park, a distance of about nine miles. He was first spotted in the Santa Monica Mountains in 2012 and was estimated to be about 11 or 12 years old when he died. \n",
      "\n",
      "The hike is also intended to raise awareness about mountain lions and the importance of preserving their habitat in the Santa Monica Mountains and beyond. The National Park Service, the California Department of Fish and Wildlife, and the Los Angeles Zoo are all partnering with the Natural History Museum of Los Angeles County to make the event a success. \n",
      "\n",
      "The memorial hike will be followed by a celebration of P-22's life at the Liberty Canyon in the Hollywood Hills on Sunday evening. The celebration will include music, food, and activities for all ages. \n",
      "\n",
      "The memorial hike for P-22 is a way for Angelenos to come together to remember the beloved mountain lion and celebrate his life. It will be held on Saturday, December 18th, 2022 at 4 p.m. at the Charlie Turner Trailhead, 2840. Everyone is invited to join in the celebration and\n"
     ]
    },
    {
     "name": "stdout",
     "output_type": "stream",
     "text": [
      "\n",
      "\n",
      "Robert Luna was appointed as the new sheriff of Los Angeles County on Saturday, replacing Jim McDonnell, who held the post for the past four years. Luna, who was previously the Long Beach police chief, was sworn in during a ceremony held at the Hall of Administration in downtown Los Angeles.\n",
      "\n",
      "The ceremony was attended by more than 18,000 people, including Los Angeles Mayor Alex Villanueva and Long Beach Mayor Robert Garcia. Luna was also joined by Supervisor Holly Mitchell and other county officials.\n",
      "\n",
      "In his speech, Luna thanked McDonnell for his service to the county and said he was honored to be the first sheriff in roughly a century to come from the Long Beach Police Department. He also thanked the people of Los Angeles County for their support in the Nov. 8 election, when he was elected to the post with more than 60 percent of the vote.\n",
      "\n",
      "Luna then discussed his plans for the department, which include increasing the number of deputies to more than 18,000 and implementing new tan-and-green uniforms. He also spoke about the need to address police reform in the wake of the death of George Floyd in Minneapolis in May 2020.\n",
      "\n",
      "Finally, Luna introduced the new command staff, which includes Jason Skeen, the new chief of Personnel Command, and April Tardy, the new chief of Central Patrol Division. Skeen has been with the department for 28 years, while Tardy has been a part of the department for more than 36 years.\n",
      "\n",
      "Luna ended his speech by thanking the people of Los Angeles County for their support, and said he was looking forward to the next four years of service.\n",
      "\n",
      "\n",
      "Michael Avenatti was sentenced to 14 years in prison today by U.S. District Judge James V. Selna in Orange County, California. The sentence is the result of Avenatti's conviction on charges related to his extortion of Nike and defrauding of his former client Stormy Daniels and other clients. The sentence is longer than the five years requested by prosecutors and the 12 months requested by Avenatti's lawyers.\n",
      "\n",
      "Avenatti, a 51-year-old Newport Beach attorney, was convicted in February of all three counts he faced: honest services wire fraud, extortion and transmission of interstate communications with intent to extort. He was found guilty of attempting to extort Nike for at least $85 million and defrauding Daniels of about $300,000.\n",
      "\n",
      "At the sentencing hearing in Santa Ana, Selna said Avenatti had committed \"a very serious offense\" and that \"a substantial term of imprisonment is required.\" He imposed a sentence of 14 years in prison, followed by five years of supervised release.\n",
      "\n",
      "Avenatti had already been sentenced in the Nike case in New York to three years in prison and in the Daniels case in California to 17 1/2 years, but Selna said he would run the sentences concurrently. This means Avenatti will only serve 14 years, rather than the combined total of about 19 years.\n",
      "\n",
      "In addition to the prison sentence, Selna ordered Avenatti to pay restitution of $10,810,709 to victims in four separate cases, including the IRS. Avenatti was also ordered to pay a $250,000 fine and to forfeit $2.75 million.\n",
      "\n",
      "Avenatti had been in custody since last year, when he was arrested in Palm Springs, California, on charges of violating the terms of his release in the New York case. U.S. District Judge Brett Sagel had ordered him to stay in the Southern District of New York, but Avenatti had gone to California.\n",
      "\n",
      "At the sentencing hearing, Avenatti's lawyer, Alexis Gardner, compared Avenatti to David, the biblical figure who fought Goliath. She said Avenatti had taken on \"some of the most powerful Goliaths in the world,\" including Donald Trump and Nike.\n",
      "\n",
      "Gardner said Avenatti had been punished enough by the time he'd already served in jail and by the \"public humiliation\" he had suffered. She asked Selna to sentence Avenatti to only six years in prison.\n",
      "\n",
      "Avenatti had faced a maximum sentence of 335 years in prison for the three convictions.\n",
      "\n",
      "Selna said on Monday that he believed Avenatti had a \"history of deception\" and had \"abused the trust of those around him.\" He noted that Avenatti had failed to pay $8 million in taxes and had failed to pay $12.35 million in restitution to a former client.\n",
      "\n",
      "The judge also noted that Avenatti had lied to the IRS about the amount of money he had made from Tully's Coffee and had lied to the court about his finances. He said Avenatti had \"failed to pay taxes for about four years\" and had \"failed to pay about $3.2 million in taxes and about $1.6 million in trust taxes\" to the IRS.\n",
      "\n",
      "Avenatti's lawyer, Dean Steward, argued that his client had made mistakes, but had also done a lot of good in his life. He said Avenatti had worked hard, graduating from George Washington University Law School and becoming a successful lawyer in California.\n",
      "\n",
      "Steward said Avenatti had been the first lawyer to take on Donald Trump and that he had done it pro bono. He said Avenatti had also represented workers at McDonald's in St. Louis who were trying to unionize, and that he had taken on the first case of its kind in the country.\n",
      "\n",
      "Steward also said Avenatti had been the first lawyer to represent a group of homeless people in Venice, California, who were being evicted from their camp on Terminal Island. He said Avenatti had also attended Alcoholics Anonymous meetings and had been sober since March 15.\n",
      "\n",
      "Before being sentenced, Avenatti apologized to the court and to the victims of his crimes. He said he had been \"a fool\" and that he had made mistakes. He said he had been \"deeply ashamed\" of his actions.\n",
      "\n",
      "Avenatti had been facing charges in four separate cases in New York, California, the Central District of California and the Southern District of New York. In the New York case, U.S. Attorney Geoffrey Berman's office accused him of attempting to extort Nike. In the California case, U.S. Attorney Nichola Hanna's office accused him of defrauding Daniels.\n",
      "\n",
      "In the Central District case, U.S. Attorney Martin Estrada accused Avenatti of attempting to embezzle money from a client. In the Southern District case, U.S. Attorney Ranee Katzenstein accused Avenatti of attempting to\n",
      "\n",
      "\n",
      "On December 4, Orange County's COVID-19 cases surpassed 2,359,862, with at least one new case reported daily. According to the Orange County Health Care Agency, 219,228 cases were reported in the last seven-day lag, with 16,517 new cases reported in the last week.\n",
      "\n",
      "Andrew Noymer, a professor of public health and sociology at UC Irvine, said Orange County's COVID-19 cases began to rise last winter, but the surge really began in mid-February. Noymer said Orange County saw a sharp increase in cases in the summer, and it has continued to rise ever since.\n",
      "\n",
      "As of November 30, Orange County had 388 new cases reported, with 38 new hospitalizations and 48 new deaths. Noymer said the numbers started to increase again after the Christmas holiday and have been steadily rising ever since.\n",
      "\n",
      "Noymer said the Orange County Health Care Agency reported 1,421,959 cases of COVID-19 since the pandemic began, with 1,425,506 cases reported this year alone. He said the majority of cases have been in people up to 4 years old, with 16,779 cases reported in children 11 and younger.\n",
      "\n",
      "Noymer said the data also showed that 36.7% of cases were in people ages 12 to 17, 69.7% were in people ages 18 to 49, 8.6% were in people ages 50 to 64, and 13% were in people 65 and older. He said the numbers are similar to what was reported last week, with 8.3% in people ages 50 to 64 and 13.4% in people 65 and older.\n",
      "\n",
      "Noymer said the number of new daily cases has been increasing since early February, with 100,000 new cases reported in the last seven-day lag. He said the seven-day average of new cases has been steadily increasing, with 9.1 cases reported per 100,000 people and 13.4 cases reported per 100,000 people in the last seven-day lag.\n",
      "\n",
      "The OCHCA reported that 65.4% of all COVID-19 tests came back positive in the last seven-day lag, up from 66.6% the week before. As of December 4, Orange County had 4,449 new cases of COVID-19 reported, with 687,334 total cases since the pandemic began.\n",
      "\n",
      "Noymer said the data also showed that Seventeen new deaths were reported in the last week, with 7,594 total deaths since the pandemic began. Nine new hospitalizations were also reported this month, with 97,120 total hospitalizations since the pandemic began.\n",
      "\n",
      "Noymer said the data showed that the percentage of positive tests has been steadily increasing since October, with 36.7% of tests coming back positive in October, 42.2% in November, and 66.6% in the last week. He said the numbers could continue to increase into 2022 if the current trend continues.\n",
      "\n",
      "City News Service reported that Orange County public health officials are urging residents to take precautions to help prevent the spread of COVID-19, such as wearing a face covering, washing hands frequently, and avoiding large gatherings.\n"
     ]
    },
    {
     "data": {
      "text/html": [
       "Waiting for W&B process to finish... <strong style=\"color:green\">(success).</strong>"
      ],
      "text/plain": [
       "<IPython.core.display.HTML object>"
      ]
     },
     "metadata": {},
     "output_type": "display_data"
    },
    {
     "data": {
      "text/html": [
       " View run <strong style=\"color:#cdcd00\">vague-dragon-7</strong> at: <a href='https://wandb.ai/heywire/HeywireAI/runs/bua1vyg4' target=\"_blank\">https://wandb.ai/heywire/HeywireAI/runs/bua1vyg4</a><br/>Synced 5 W&B file(s), 1 media file(s), 1 artifact file(s) and 0 other file(s)"
      ],
      "text/plain": [
       "<IPython.core.display.HTML object>"
      ]
     },
     "metadata": {},
     "output_type": "display_data"
    },
    {
     "data": {
      "text/html": [
       "Find logs at: <code>.\\wandb\\run-20230210_123023-bua1vyg4\\logs</code>"
      ],
      "text/plain": [
       "<IPython.core.display.HTML object>"
      ]
     },
     "metadata": {},
     "output_type": "display_data"
    }
   ],
   "source": [
    "articles = [\n",
    "    'https://socalnews.com/la-story-3.html',\n",
    "    'https://socalnews.com/la-story-4.html',\n",
    "    'https://socalnews.com/la-story-5.html',\n",
    "    'https://socalnews.com/la-story-6.html',\n",
    "    'https://socalnews.com/orange-story3.htm',\n",
    "    'https://socalnews.com/orange-story4.htm'\n",
    "]\n",
    "\n",
    "def stories_run(stories):\n",
    "    for story in stories:\n",
    "        article_text = url_to_string(story)\n",
    "        ents = text_to_ents(article_text)\n",
    "        new_story = generate_story(article_text, ents)\n",
    "        print(new_story)\n",
    "    \n",
    "    wandb.log({'predictions': prediction_table})\n",
    "    wandb.finish()\n",
    "    return\n",
    "\n",
    "stories_run(articles)"
   ]
  },
  {
   "cell_type": "code",
   "execution_count": 94,
   "id": "062ce9a4",
   "metadata": {},
   "outputs": [
    {
     "data": {
      "text/plain": [
       "\"The emergency declaration will ``recognize the severity of our crisis and break new ground to maximize our ability to urgently move people inside, and do so for good. Sunday's ceremony was initially scheduled to take place outside City Hall, but rain in the forecast led to a venue shift indoors. Surprise performers at the inauguration included Stevie Wonder, who sang ``Keep Our Love Alive'' and ``Living for the City,'' and Chloe Bailey and Las Cafeteras. Amanda Gorman, the first National Youth Poet Laureate, who also delivered a poem at President Joe Biden's inauguration, said in her reading Sunday that ``the time of never before is officially past.'' Bass' father fled the Jim Crow south during the great African American migration after World War II and found work as a letter carrier. ``When I think about the dreams of working people today, I reflect on the fact that my mother and father were able to buy a home in Los Angeles for their family of six with one paycheck,'' Bass said. Bass' organizing career began in 1990 when she founded Community Coalition, a South Los Angeles social justice group in response to the crack cocaine crisis. State Senate President pro-Tempore Toni Atkins said that Bass didn't run for mayor for ``credit or photo-opps.''\""
      ]
     },
     "execution_count": 94,
     "metadata": {},
     "output_type": "execute_result"
    }
   ],
   "source": [
    "from __future__ import absolute_import\n",
    "from __future__ import division, print_function, unicode_literals\n",
    "\n",
    "from sumy.parsers.html import HtmlParser\n",
    "from sumy.parsers.plaintext import PlaintextParser\n",
    "from sumy.nlp.tokenizers import Tokenizer\n",
    "from sumy.summarizers.lsa import LsaSummarizer as Summarizer\n",
    "from sumy.nlp.stemmers import Stemmer\n",
    "from sumy.utils import get_stop_words\n",
    "\n",
    "def get_summary(article, count):\n",
    "    LANGUAGE = \"english\"\n",
    "    SENTENCES_COUNT = count\n",
    "\n",
    "    if __name__ == \"__main__\":\n",
    "        parser = PlaintextParser.from_string(article, Tokenizer(LANGUAGE))\n",
    "        stemmer = Stemmer(LANGUAGE)\n",
    "\n",
    "        summarizer = Summarizer(stemmer)\n",
    "        summarizer.stop_words = get_stop_words(LANGUAGE)\n",
    "\n",
    "        summary = \" \".join(str(sentence) for sentence in summarizer(parser.document, SENTENCES_COUNT))\n",
    "        return summary\n",
    "\n",
    "s = get_summary(text, 8)\n",
    "s"
   ]
  },
  {
   "cell_type": "code",
   "execution_count": 102,
   "id": "6dcbe6a0",
   "metadata": {},
   "outputs": [
    {
     "name": "stdout",
     "output_type": "stream",
     "text": [
      "1350.0\n"
     ]
    },
    {
     "data": {
      "text/plain": [
       "'\\nKaren Bass was inaugurated as the 43rd mayor of Los Angeles on Sunday at the Microsoft Theater, making her the first woman and second African American to hold the office. Bass was sworn in by California\\'s first and second female U.S. senators, Kamala Harris and Dianne Feinstein, and was joined by Gov. Gavin Newsom and other state and local officials. \\n\\nBass, who was elected in November with more than 40,000 votes, thanked Angelenos for their support. “It’s been nine days since the election and I’m already getting to work,\" she said, adding that she was already preparing for her first day in office on Monday at 9 a.m.\\n\\nBass, who previously served in the state legislature and the U.S. House, is the first mayor of Los Angeles in nearly a decade who is not Eric Garcetti. After being elected in 2013, Garcetti was reelected in 2017 and was term-limited from running again. \\n\\nBass won the election with a campaign focused on economic and racial justice, and on Sunday she promised to continue to fight for those causes. She also promised to create an Office of Community Safety, which she said would be “a new model of public safety that puts people first.” \\n\\nThe inauguration ceremony was originally scheduled to take place outside City Hall, but rain in the forecast led to a venue shift indoors. Among the surprise performers at the event were Stevie Wonder, who sang “Keep Our Love Alive” and “Living for the City,” and Chloe Bailey and Las Cafeteras. Amanda Gorman, the first National Youth Poet Laureate, who also delivered a poem at President Joe Biden\\'s inauguration, said in her reading Sunday that “the time of never before is officially past.” \\n\\nBass\\' father fled the Jim Crow south during the great African American migration after World War II and found work as a letter carrier. “When I think about the dreams of working people today, I reflect on the fact that my mother and father were able to buy a home in Los Angeles for their family of six with one paycheck,” Bass said. \\n\\nBass\\' organizing career began in 1990 when she founded Community Coalition, a South Los Angeles social justice group in response to the crack cocaine crisis. State Senate President pro-Tempore Toni Atkins said that Bass didn\\'t run for mayor for “credit or photo-opps.”\\n\\n“Karen Bass has been the mayor of Los Angeles for the past two months,” Atkins said. “She has been the one leading the way, holding news conferences, and making sure that the public is informed on what is happening in our city.” \\n\\nBass was elected in November with more than 40,000 votes, and on Friday, the Los Angeles City Council unanimously approved her nomination of Mark Gonzalez as the city’s new police chief. Gonzalez, a member of the Los Angeles County Democratic Party, was sworn in at the ceremony on Sunday. \\n\\nStevie Wonder, Chloe Bailey and Las Cafeteras performed at the ceremony, and Amanda Gorman, the first National Youth Poet Laureate, delivered a poem. Gorman said in her reading that “the time of never before is officially past.” \\n\\nBass\\' father fled the Jim Crow south during the great African American migration after World War II and found work as a letter carrier. “When I think about the dreams of working people today, I reflect on the fact that my mother and father were able to buy a home in Los Angeles for their family of six with one paycheck,” Bass said. \\n\\nBass\\' organizing career began in 1990 when she founded Community Coalition, a South Los Angeles social justice group in response to the crack cocaine crisis. Bass was elected to the state legislature in 2004 and to Congress in 2010, where she was a member of the Congressional Black Caucus. In 2019, she was elected to the state Senate. \\n\\nAt the inauguration ceremony, Bass said she would be holding daily press conferences starting today, and that she would be meeting with Angelenos every month. She also announced that she would be launching a new initiative to celebrate the 241-year anniversary of the founding of Los Angeles on a day that will be known as “LA Day.” \\n\\nBass also announced that she would be launching a new program to make LAX more accessible for Angelenos, and that she would be making a special effort to honor the legacy of Robert F. Kennedy\\'s visit to Los Angeles in 1968, which was 14 days before his assassination. \\n\\nBass said she was committed to making Los Angeles a city that works for all its residents. “We are the city of dreams, and together we will make those dreams come true,” she said.'"
      ]
     },
     "execution_count": 102,
     "metadata": {},
     "output_type": "execute_result"
    }
   ],
   "source": [
    "new_story_summary = generate_story(text, entities, s)\n",
    "new_story_summary"
   ]
  },
  {
   "cell_type": "code",
   "execution_count": 103,
   "id": "e012322b",
   "metadata": {},
   "outputs": [
    {
     "data": {
      "text/html": [
       "Waiting for W&B process to finish... <strong style=\"color:green\">(success).</strong>"
      ],
      "text/plain": [
       "<IPython.core.display.HTML object>"
      ]
     },
     "metadata": {},
     "output_type": "display_data"
    },
    {
     "data": {
      "text/html": [
       " View run <strong style=\"color:#cdcd00\">noble-grass-20</strong> at: <a href='https://wandb.ai/heywire/HeywireAI/runs/suu77zoo' target=\"_blank\">https://wandb.ai/heywire/HeywireAI/runs/suu77zoo</a><br/>Synced 5 W&B file(s), 1 media file(s), 1 artifact file(s) and 0 other file(s)"
      ],
      "text/plain": [
       "<IPython.core.display.HTML object>"
      ]
     },
     "metadata": {},
     "output_type": "display_data"
    },
    {
     "data": {
      "text/html": [
       "Find logs at: <code>.\\wandb\\run-20230210_165248-suu77zoo\\logs</code>"
      ],
      "text/plain": [
       "<IPython.core.display.HTML object>"
      ]
     },
     "metadata": {},
     "output_type": "display_data"
    },
    {
     "name": "stdout",
     "output_type": "stream",
     "text": [
      "\n",
      "Karen Bass was inaugurated as the 43rd mayor of Los Angeles on Sunday at the Microsoft Theater, making her the first woman and second African American to hold the office. Bass was sworn in by California's first and second female U.S. senators, Kamala Harris and Dianne Feinstein, and was joined by Gov. Gavin Newsom and other state and local officials. \n",
      "\n",
      "Bass, who was elected in November with more than 40,000 votes, thanked Angelenos for their support. “It’s been nine days since the election and I’m already getting to work,\" she said, adding that she was already preparing for her first day in office on Monday at 9 a.m.\n",
      "\n",
      "Bass, who previously served in the state legislature and the U.S. House, is the first mayor of Los Angeles in nearly a decade who is not Eric Garcetti. After being elected in 2013, Garcetti was reelected in 2017 and was term-limited from running again. \n",
      "\n",
      "Bass won the election with a campaign focused on economic and racial justice, and on Sunday she promised to continue to fight for those causes. She also promised to create an Office of Community Safety, which she said would be “a new model of public safety that puts people first.” \n",
      "\n",
      "The inauguration ceremony was originally scheduled to take place outside City Hall, but rain in the forecast led to a venue shift indoors. Among the surprise performers at the event were Stevie Wonder, who sang “Keep Our Love Alive” and “Living for the City,” and Chloe Bailey and Las Cafeteras. Amanda Gorman, the first National Youth Poet Laureate, who also delivered a poem at President Joe Biden's inauguration, said in her reading Sunday that “the time of never before is officially past.” \n",
      "\n",
      "Bass' father fled the Jim Crow south during the great African American migration after World War II and found work as a letter carrier. “When I think about the dreams of working people today, I reflect on the fact that my mother and father were able to buy a home in Los Angeles for their family of six with one paycheck,” Bass said. \n",
      "\n",
      "Bass' organizing career began in 1990 when she founded Community Coalition, a South Los Angeles social justice group in response to the crack cocaine crisis. State Senate President pro-Tempore Toni Atkins said that Bass didn't run for mayor for “credit or photo-opps.”\n",
      "\n",
      "“Karen Bass has been the mayor of Los Angeles for the past two months,” Atkins said. “She has been the one leading the way, holding news conferences, and making sure that the public is informed on what is happening in our city.” \n",
      "\n",
      "Bass was elected in November with more than 40,000 votes, and on Friday, the Los Angeles City Council unanimously approved her nomination of Mark Gonzalez as the city’s new police chief. Gonzalez, a member of the Los Angeles County Democratic Party, was sworn in at the ceremony on Sunday. \n",
      "\n",
      "Stevie Wonder, Chloe Bailey and Las Cafeteras performed at the ceremony, and Amanda Gorman, the first National Youth Poet Laureate, delivered a poem. Gorman said in her reading that “the time of never before is officially past.” \n",
      "\n",
      "Bass' father fled the Jim Crow south during the great African American migration after World War II and found work as a letter carrier. “When I think about the dreams of working people today, I reflect on the fact that my mother and father were able to buy a home in Los Angeles for their family of six with one paycheck,” Bass said. \n",
      "\n",
      "Bass' organizing career began in 1990 when she founded Community Coalition, a South Los Angeles social justice group in response to the crack cocaine crisis. Bass was elected to the state legislature in 2004 and to Congress in 2010, where she was a member of the Congressional Black Caucus. In 2019, she was elected to the state Senate. \n",
      "\n",
      "At the inauguration ceremony, Bass said she would be holding daily press conferences starting today, and that she would be meeting with Angelenos every month. She also announced that she would be launching a new initiative to celebrate the 241-year anniversary of the founding of Los Angeles on a day that will be known as “LA Day.” \n",
      "\n",
      "Bass also announced that she would be launching a new program to make LAX more accessible for Angelenos, and that she would be making a special effort to honor the legacy of Robert F. Kennedy's visit to Los Angeles in 1968, which was 14 days before his assassination. \n",
      "\n",
      "Bass said she was committed to making Los Angeles a city that works for all its residents. “We are the city of dreams, and together we will make those dreams come true,” she said.\n"
     ]
    }
   ],
   "source": [
    "wandb.log({'predictions': prediction_table})\n",
    "wandb.finish()\n",
    "print(new_story_summary)"
   ]
  },
  {
   "cell_type": "code",
   "execution_count": null,
   "id": "aeb92f0d",
   "metadata": {},
   "outputs": [],
   "source": []
  }
 ],
 "metadata": {
  "kernelspec": {
   "display_name": "Python 3 (ipykernel)",
   "language": "python",
   "name": "python3"
  },
  "language_info": {
   "codemirror_mode": {
    "name": "ipython",
    "version": 3
   },
   "file_extension": ".py",
   "mimetype": "text/x-python",
   "name": "python",
   "nbconvert_exporter": "python",
   "pygments_lexer": "ipython3",
   "version": "3.11.1"
  }
 },
 "nbformat": 4,
 "nbformat_minor": 5
}
