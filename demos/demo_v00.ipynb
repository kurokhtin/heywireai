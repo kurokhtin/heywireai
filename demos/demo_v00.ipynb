{
 "cells": [
  {
   "cell_type": "code",
   "execution_count": 1,
   "id": "2f014864",
   "metadata": {},
   "outputs": [
    {
     "name": "stderr",
     "output_type": "stream",
     "text": [
      "C:\\Users\\beaconproduction\\sites\\local\\python\\heywire\\openai\\venv\\Lib\\site-packages\\requests\\__init__.py:102: RequestsDependencyWarning: urllib3 (1.26.14) or chardet (5.1.0)/charset_normalizer (2.0.7) doesn't match a supported version!\n",
      "  warnings.warn(\"urllib3 ({}) or chardet ({})/charset_normalizer ({}) doesn't match a supported \"\n"
     ]
    },
    {
     "name": "stdout",
     "output_type": "stream",
     "text": [
      "Bass Inauguration, 3rd LdDate: 12-11-2022 8:50 PM - Word Count: 1283Bass Inauguration, 3rd Ld\r\n",
      "   Karen Bass Inaugurated as Mayor, to Hold News Conference\r\n",
      "   Eds: UPDATES with Bass to hold news conference, in 7th graf. Bass'\r\n",
      "office can be reached at press@karenbass.com.\r\n",
      "   By ERIC HE\r\n",
      "   City News Service\r\n",
      "   LOS ANGELES (CNS) - Karen Bass was sworn in as the 43rd mayor of Los\r\n",
      "Angeles today in a historic inauguration at the Microsoft Theater, becoming the\r\n",
      "first woman and second Black person to lead the city.\r\n",
      "   Bass was sworn in by Vice President Kamala Harris, a former California\r\n",
      "senator and the first woman to serve as the nation's second-in-command.\r\n",
      "   Nearly every major city official, along with Gov. Gavin Newsom,\r\n",
      "attended the ceremony.\r\n",
      "   ``Making history with each of you today is a monumental moment in my\r\n",
      "life and for Los Angeles,'' Bass said in her speech.\r\n",
      "   Bass addressed what she described as an ``inflection point in our\r\n",
      "history,'' with issues including ``the pandemic, the rapidly changing economy,\r\n",
      "the rapidly changing climate, the cost of living, (and) 40,000 people sleeping\r\n",
      "on the street.''\r\n",
      "   ``I believe that times of inflection require reflection -- I believe,\r\n",
      "it's time for Angelenos to remind ourselves where we come from and who we\r\n",
      "are,'' she said.\r\n",
      "   Bass scheduled a news conference at 9 a.m. Monday to declare a state\r\n",
      "of emergency on homelessness as her first act as mayor. Her reference to that\r\n",
      "action drew a standing ovation. The emergency declaration will ``recognize the\r\n",
      "severity of our crisis and break new ground to maximize our ability to urgently\r\n",
      "move people inside, and do so for good.\r\n",
      "   ``It will create the structure necessary for us to have a true,\r\n",
      "unified and citywide strategy to set us on the path to solve homelessness,''\r\n",
      "Bass said.\r\n",
      "   Bass' plan also includes housing 17,000 homeless people in her first\r\n",
      "year. She said Los Angeles has earned the ``shameful crown'' of having some of\r\n",
      "the most overcrowded neighborhoods in the country and called for residents to\r\n",
      "``welcome housing to every neighborhood.''\r\n",
      "   ``We know our mission: We must build housing in every neighborhood,''\r\n",
      "Bass said. ``We cannot continue to overcrowd neighborhoods that are already\r\n",
      "overcrowded.''\r\n",
      "   On crime, Bass sought a strategy to make neighborhoods safe ``that is\r\n",
      "informed by our communities,'' which includes launching an Office of Community\r\n",
      "Safety.\r\n",
      "   ``Of course, we must stop crimes in progress and hold people\r\n",
      "accountable,'' Bass said. ``Some neighborhoods have asked for additional\r\n",
      "officers, and we will deliver. But what neighborhoods are asking for and what\r\n",
      "they need is as diverse as our city.''\r\n",
      "   Sunday's ceremony was initially scheduled to take place outside City\r\n",
      "Hall, but rain in the forecast led to a venue shift indoors. Instead, Bass was\r\n",
      "sworn in on the theater's stage, with two large ``LA'' letters in the mold of\r\n",
      "the LAX sign to her right and a picture of the Spring Street City Hall steps\r\n",
      "behind the stage.\r\n",
      "   ``In our city's 241-year history, we've never witnessed a day like\r\n",
      "today as Los Angeles came together to celebrate the swearing in of Mayor Karen\r\n",
      "Bass,'' said Mark Gonzalez, chair of the Los Angeles County Democratic Party,\r\n",
      "in a statement.\r\n",
      "   Surprise performers at the inauguration included Stevie Wonder, who\r\n",
      "sang ``Keep Our Love Alive'' and ``Living for the City,'' and Chloe Bailey and\r\n",
      "Las Cafeteras. Amanda Gorman, the first National Youth Poet Laureate, who also\r\n",
      "delivered a poem at President Joe Biden's inauguration, said in her reading\r\n",
      "Sunday that ``the time of never before is officially past.''\r\n",
      "   ``For where there's will, there's women,'' Gorman said. ``And where\r\n",
      "there's women, there's forever a way.''\r\n",
      "   Sunday's event marked the first mayoral inauguration in Los Angeles in\r\n",
      "nearly a decade, with outgoing mayor Eric Garcetti holding the post since 2013.\r\n",
      "   Bass defeated developer Rick Caruso on Nov. 8 in an expensive and at-\r\n",
      "times contentious race.\r\n",
      "   She will inherit leadership of a city grappling with a scandal that\r\n",
      "has embroiled City Hall for the past two months, after three council members\r\n",
      "and a top county labor official took part in a recorded conversation in October\r\n",
      "2021 that included racist comments and attempts to manipulate redistricting.\r\n",
      "   The fallout has continued to roil City Hall, with Councilman Kevin de\r\n",
      "León -- one of the participants in the conversation -- unexpectedly returning\r\n",
      "to the chamber on Friday, setting off chaos as he continues to defy calls to\r\n",
      "resign. De León later fought with an activist at a holiday tree lighting event\r\n",
      "on Friday evening.\r\n",
      "   City Council President Paul Krekorian, who swore in five new city\r\n",
      "council members and a new city attorney and city controller at Sunday's\r\n",
      "ceremony, said that there is no leader more capable of bringing the city\r\n",
      "together than Bass.\r\n",
      "   ``This is a time of unprecedented challenges in our city, but today as\r\n",
      "I look out at this audience and see the people with us, I know that this is\r\n",
      "also a time of unprecedented opportunity,'' Krekorian said.\r\n",
      "   Krekorian added that Bass will have a ``very strong part in the Los\r\n",
      "Angeles City Council,'' a positive sign for Bass -- who will need to have the\r\n",
      "council renew her state of emergency for homelessness every month.\r\n",
      "   Bass, 69, grew up in the midst of the civil rights movement with three\r\n",
      "brothers in the Venice and Fairfax neighborhoods. She was drawn to\r\n",
      "community activism after watching the movement on television, volunteering for\r\n",
      "Robert F. Kennedy's 1968 presidential campaign when she was 14. Bass said while\r\n",
      "her parents did not live to see her take elected office, ``their love, support\r\n",
      "and guidance is why I stand before you today.''\r\n",
      "   Bass' father fled the Jim Crow south during the great African American\r\n",
      "migration after World War II and found work as a letter carrier. His\r\n",
      "paycheck supported Bass and her siblings, and allowed her mother to choose to\r\n",
      "be a homemaker.\r\n",
      "   ``When I think about the dreams of working people today, I reflect on\r\n",
      "the fact that my mother and father were able to buy a home in Los Angeles for\r\n",
      "their family of six with one paycheck,'' Bass said.\r\n",
      "   Bass' organizing career began in 1990 when she founded Community\r\n",
      "Coalition, a South Los Angeles social justice group in response to the crack\r\n",
      "cocaine crisis. In 2004, Bass was the only Black woman in the state Legislature\r\n",
      "when she was elected to the Assembly. Four years later, she became the first\r\n",
      "Black woman to lead the chamber. Bass was elected to the U.S. House of\r\n",
      "Representatives in 2010 and chaired the Congressional Black Caucus in 2019 and\r\n",
      "2020.\r\n",
      "   State Senate President pro-Tempore Toni Atkins said that Bass didn't\r\n",
      "run for mayor for ``credit or photo-opps.''\r\n",
      "   ``She is here to work,'' Atkins said. ``She is here because she loves\r\n",
      "this city, she loves its people. She is here to answer the call to serve. And\r\n",
      "that is who she is.''\r\n",
      "   The new mayor called for the city to focus on solutions rather than\r\n",
      "jurisdiction, to link arms rather than point fingers.\r\n",
      "   ``If we just focus on bringing people inside, comprehensively\r\n",
      "addressing their needs, and moving them to permanent housing with a way to pay\r\n",
      "their bills, we will save lives and save our city,'' Bass said. ``That is my\r\n",
      "mission as your mayor.''\r\n",
      "   Bass said her father taught her to be a critical thinker, and to\r\n",
      "understand the historical context of national and international events.\r\n",
      "   ``My daily conversations with him led me to make a lifetime commitment\r\n",
      "to do whatever I can to change the world,'' she said.\r\n",
      "   Through the ``unaffordability, the difficulty, the struggle working\r\n",
      "people face today in Los Angeles,'' Bass said that Angelenos have ``never, ever\r\n",
      "given up.''\r\n",
      "   ``And our magic, L.A. magic, it's still here,'' she said.\r\n",
      "   Copyright 2022, City News Service, Inc.\n",
      "\r\n",
      "CNS-12-11-2022 20:50\n"
     ]
    }
   ],
   "source": [
    "import os\n",
    "import openai\n",
    "from dotenv import load_dotenv\n",
    "import requests\n",
    "from bs4 import BeautifulSoup\n",
    "import warnings\n",
    "import re\n",
    "\n",
    "load_dotenv()\n",
    "openai.api_key = os.getenv(\"OPENAI_API_KEY\")\n",
    "\n",
    "def url_to_string(url):\n",
    "    warnings.filterwarnings('ignore', message='Unverified HTTPS request')\n",
    "    response = requests.get(url, verify=False)\n",
    "    soup = BeautifulSoup(response.text, \"html.parser\")\n",
    "    return soup.get_text()\n",
    "\n",
    "def split_text(text, chunk_size=1000):\n",
    "    chunks = []\n",
    "    start = 0\n",
    "    while start < len(text):\n",
    "        end = start + chunk_size\n",
    "        if end < len(text) and text[end] not in '.?!':\n",
    "            while end < len(text) and text[end] not in '.?!':\n",
    "                end += 1\n",
    "        chunks.append(text[start:end + 1].strip())\n",
    "        start = end + 1\n",
    "    return chunks\n",
    "\n",
    "def openai_edit(text, i = \"Rewrite it in narrative style\") :\n",
    "    response = openai.Edit.create(\n",
    "      model = \"text-davinci-edit-001\",\n",
    "      input = text,\n",
    "      instruction = i\n",
    "    )   \n",
    "    return response['choices'][0]['text']\n",
    "\n",
    "def openai_complete(text, i = \"in a narrative style rewrite text below\") :\n",
    "    response = openai.Completion.create(\n",
    "        model = \"text-davinci-003\",\n",
    "        prompt = i+\"\\n\"+ text +\"\",\n",
    "        temperature = 0.5,\n",
    "        max_tokens = 2048,\n",
    "        top_p = 1,\n",
    "        frequency_penalty = 0.2,\n",
    "    )       \n",
    "    return response['choices'][-1]['text']\n",
    "\n",
    "def rewrite_text(chunks, func):\n",
    "    rewritten_text = \"\"\n",
    "    for chunk in chunks:\n",
    "        chunk_rewritten_text = func(chunk)\n",
    "        rewritten_text += chunk_rewritten_text\n",
    "    return rewritten_text\n",
    "    \n",
    "text = url_to_string('http://socalnews.com/la-story-3.html')\n",
    "text_chunks = split_text(text)\n",
    "\n",
    "small_text_example = \"The Burbank-based Walt Disney Co. will slash 7,000 jobs as part of a $5.5 billion cost-cutting effort, CEO Bob Iger announced Wednesday.The possibility of layoffs at Disney has been rumored for weeks, with Iger regaining his footing in the CEO’s office following the surprise ouster of CEO Bob Chapek in November. Iger broke the news during an earnings call Wednesday afternoon, following the release of the company’s first-quarter earnings report. Iger said he is targeting $5.5 billion in cost savings “across the company.”\"\n",
    "print(text)\n"
   ]
  },
  {
   "cell_type": "code",
   "execution_count": 47,
   "id": "d85cdd8c",
   "metadata": {},
   "outputs": [
    {
     "name": "stdout",
     "output_type": "stream",
     "text": [
      "Example #1\n",
      "Model: Edit\n",
      "\n",
      "The Burbank-based Walt Disney Co. announced Wednesday it will slash 7,000 jobs as part of a $5.5 billion cost-cutting effort.\n",
      "The possibility of layoffs had been rumored for weeks, with CEO Bob Iger regaining his footing in the CEO’s office following the surprise ouster of former CEO Bob Chapek in November.\n",
      "Iger announced this during an earnings call Wednesday, following the release of the company’s first-quarter earnings report.\n",
      "Iger said he is targeting $5.5 billion in cost savings “across the company.”\n",
      "\n"
     ]
    }
   ],
   "source": [
    "# new_text = rewrite_text(text_chunks, openai_edit)\n",
    "edit_model = openai_edit(small_text_example)\n",
    "print(\"Example #1\\nModel: Edit\\n\\n\" +edit_model)"
   ]
  },
  {
   "cell_type": "code",
   "execution_count": 48,
   "id": "8b49a2cb",
   "metadata": {},
   "outputs": [
    {
     "name": "stdout",
     "output_type": "stream",
     "text": [
      "Example #2\n",
      "Model: Edit\n",
      "\n",
      "Earlier today, the Burbank-based Walt Disney Co. announced a plan to slash 7,000 jobs as part of a $5.5 billion cost-cutting effort.\n",
      "CEO Bob Iger announced the plan during the company’s first-quarter earnings call on Wednesday.\n",
      "The possibility of layoffs at Disney has been rumored for weeks, with Iger regaining his footing in the CEO’s office following the surprise ouster of CEO Bob Chapek in November.\n",
      "Iger said he is targeting $5.5 billion in cost savings “across the company.”\n",
      "\n"
     ]
    }
   ],
   "source": [
    "edit_model = openai_edit(small_text_example)\n",
    "print(\"Example #2\\nModel: Edit\\n\\n\" +edit_model)"
   ]
  },
  {
   "cell_type": "code",
   "execution_count": 56,
   "id": "7c7a3f6d",
   "metadata": {},
   "outputs": [
    {
     "name": "stdout",
     "output_type": "stream",
     "text": [
      "Example #1\n",
      "Model: Complete\n",
      "\n",
      "On Wednesday, Bob Iger, CEO of the Burbank-based Walt Disney Company, confirmed weeks of speculation that the company would be cutting 7,000 jobs as part of a $5.5 billion cost-cutting effort. Iger made the announcement during an earnings call following the release of the company’s first-quarter earnings report. He stated that these reductions will be spread “across the company” and are necessary in order to reach their goal of $5.5 billion in cost savings. This news comes shortly after Iger took back his role as CEO following the unexpected departure of Bob Chapek in November.\n"
     ]
    }
   ],
   "source": [
    "complete_model = openai_complete(small_text_example)\n",
    "print(\"Example #1\\nModel: Complete\" +complete_model)"
   ]
  },
  {
   "cell_type": "code",
   "execution_count": 55,
   "id": "b2e1f189",
   "metadata": {},
   "outputs": [
    {
     "name": "stdout",
     "output_type": "stream",
     "text": [
      "Example #2\n",
      "Model: Complete\n",
      "\n",
      "Bob Iger, CEO of the Burbank-based Walt Disney Co., announced on Wednesday that the company will lay off 7,000 employees in a $5.5 billion cost-cutting effort. This news follows weeks of speculation and rumors after Bob Chapek was unexpectedly removed from the CEO's office in November. Iger made the announcement during an earnings call after the release of the company's first-quarter earnings report. He stated that the company is aiming for $5.5 billion in savings \"across the company.\"\n"
     ]
    }
   ],
   "source": [
    "complete_model = openai_complete(small_text_example)\n",
    "print(\"Example #2\\nModel: Complete\" +complete_model)"
   ]
  },
  {
   "cell_type": "code",
   "execution_count": 69,
   "id": "32dc5aa8",
   "metadata": {},
   "outputs": [
    {
     "name": "stdout",
     "output_type": "stream",
     "text": [
      "88\n",
      "[('69', 'DATE'),\n",
      " ('241-year', 'DATE'),\n",
      " ('african american', 'NORP'),\n",
      " ('2022', 'DATE'),\n",
      " ('city council', 'ORG'),\n",
      " ('fairfax', 'GPE'),\n",
      " ('daily', 'DATE'),\n",
      " ('five', 'CARDINAL'),\n",
      " ('bass', 'PERSON'),\n",
      " ('first', 'ORDINAL'),\n",
      " ('monday', 'DATE'),\n",
      " ('la', 'GPE'),\n",
      " ('six', 'CARDINAL'),\n",
      " ('toni atkins', 'PERSON'),\n",
      " ('city hall', 'FAC'),\n",
      " (\"robert f. kennedy's\", 'PERSON'),\n",
      " ('world war ii', 'EVENT'),\n",
      " ('los angeles', 'GPE'),\n",
      " ('the jim crow', 'ORG'),\n",
      " ('one', 'CARDINAL'),\n",
      " ('three', 'CARDINAL'),\n",
      " ('nearly a decade', 'DATE'),\n",
      " ('17,000', 'CARDINAL'),\n",
      " ('sunday', 'DATE'),\n",
      " ('l.a.', 'GPE'),\n",
      " ('14', 'DATE'),\n",
      " ('the congressional black caucus', 'ORG'),\n",
      " ('8:50 pm', 'TIME'),\n",
      " ('nov. 8', 'DATE'),\n",
      " ('chloe bailey', 'PERSON'),\n",
      " ('living for the city', 'WORK_OF_ART'),\n",
      " ('1968', 'DATE'),\n",
      " ('angelenos', 'PERSON'),\n",
      " ('stevie wonder', 'PERSON'),\n",
      " ('2013', 'DATE'),\n",
      " ('the u.s. house', 'ORG'),\n",
      " ('40,000', 'CARDINAL'),\n",
      " ('every month', 'DATE'),\n",
      " (\"joe biden's\", 'PERSON'),\n",
      " ('cns', 'ORG'),\n",
      " ('9 a.m.', 'TIME'),\n",
      " ('assembly', 'ORG'),\n",
      " ('friday', 'DATE'),\n",
      " ('her first\\r\\nyear', 'DATE'),\n",
      " ('the los angeles county democratic party', 'ORG'),\n",
      " ('two', 'CARDINAL'),\n",
      " ('october\\r\\n2021', 'DATE'),\n",
      " ('los\\r\\nangeles', 'GPE'),\n",
      " ('today', 'DATE'),\n",
      " ('de león', 'PERSON'),\n",
      " ('krekorian', 'PERSON'),\n",
      " ('city news service', 'ORG'),\n",
      " ('evening', 'TIME'),\n",
      " ('3rd', 'ORDINAL'),\n",
      " ('mark gonzalez', 'PERSON'),\n",
      " ('rick caruso', 'PERSON'),\n",
      " ('keep our love', 'WORK_OF_ART'),\n",
      " ('atkins', 'PERSON'),\n",
      " ('paul krekorian', 'PERSON'),\n",
      " ('2010', 'DATE'),\n",
      " ('7th', 'ORDINAL'),\n",
      " ('lax', 'ORG'),\n",
      " ('1990', 'DATE'),\n",
      " ('city\\r\\nhall', 'FAC'),\n",
      " ('gorman', 'PERSON'),\n",
      " ('2019', 'DATE'),\n",
      " ('a day', 'DATE'),\n",
      " ('legislature', 'ORG'),\n",
      " ('the los\\r\\nangeles city council', 'ORG'),\n",
      " ('amanda gorman', 'PERSON'),\n",
      " ('12', 'CARDINAL'),\n",
      " ('venice', 'GPE'),\n",
      " ('eric he\\r\\n\\xa0\\xa0 city news service', 'PERSON'),\n",
      " ('councilman kevin de\\r\\nleón', 'PERSON'),\n",
      " ('california', 'GPE'),\n",
      " ('bass inauguration', 'PERSON'),\n",
      " ('new city', 'GPE'),\n",
      " ('an office of community\\r\\nsafety', 'ORG'),\n",
      " ('hold news conference\\r\\n\\xa0\\xa0 eds', 'ORG'),\n",
      " ('community\\r\\ncoalition', 'ORG'),\n",
      " ('senate', 'ORG'),\n",
      " ('gavin newsom', 'PERSON'),\n",
      " ('eric garcetti', 'PERSON'),\n",
      " ('four years later', 'DATE'),\n",
      " ('second', 'ORDINAL'),\n",
      " ('kamala harris', 'PERSON'),\n",
      " ('the microsoft theater', 'ORG'),\n",
      " ('2004', 'DATE')]\n"
     ]
    }
   ],
   "source": [
    "import nltk\n",
    "from nltk.tokenize import word_tokenize\n",
    "from nltk.tag import pos_tag\n",
    "from nltk.chunk import ne_chunk\n",
    "# import spacy\n",
    "import en_core_web_sm\n",
    "from pprint import pprint\n",
    "\n",
    "def text_to_ents(text):\n",
    "    nlp = en_core_web_sm.load()\n",
    "    doc = nlp(text)\n",
    "    unique_names = set([ent.text.lower() for ent in doc.ents])\n",
    "    unique_ents = []\n",
    "    for n in unique_names:\n",
    "        appended = False\n",
    "        for X in doc.ents:\n",
    "            if X.text.lower() in n and appended == False and (X.text.lower(), X.label_) not in unique_ents:\n",
    "                unique_ents.append((X.text.lower(), X.label_))\n",
    "                appended = True\n",
    "    return unique_ents\n",
    "#     return doc.ents\n",
    "\n",
    "entities = text_to_ents(text)\n",
    "print(len(entities))\n",
    "pprint([(X[0], X[1]) for X in entities])\n",
    "# pprint([(X.text, X.label_) for X in entities])"
   ]
  },
  {
   "cell_type": "code",
   "execution_count": 62,
   "id": "b5460907",
   "metadata": {},
   "outputs": [
    {
     "data": {
      "text/plain": [
       "Counter({'DATE': 22,\n",
       "         'NORP': 1,\n",
       "         'ORG': 16,\n",
       "         'GPE': 8,\n",
       "         'CARDINAL': 8,\n",
       "         'PERSON': 21,\n",
       "         'ORDINAL': 4,\n",
       "         'FAC': 2,\n",
       "         'EVENT': 1,\n",
       "         'TIME': 3,\n",
       "         'WORK_OF_ART': 2})"
      ]
     },
     "execution_count": 62,
     "metadata": {},
     "output_type": "execute_result"
    }
   ],
   "source": [
    "from collections import Counter\n",
    "labels = [x[1] for x in entities]\n",
    "Counter(labels)"
   ]
  },
  {
   "cell_type": "code",
   "execution_count": 68,
   "id": "472dce77",
   "metadata": {},
   "outputs": [
    {
     "data": {
      "text/plain": [
       "[('Bass', 29), ('today', 7), ('first', 6)]"
      ]
     },
     "execution_count": 68,
     "metadata": {},
     "output_type": "execute_result"
    }
   ],
   "source": [
    "items = [x.text for x in entities]\n",
    "Counter(items).most_common(3)"
   ]
  },
  {
   "cell_type": "code",
   "execution_count": 167,
   "id": "d4535aae",
   "metadata": {},
   "outputs": [
    {
     "data": {
      "text/html": [
       "Tracking run with wandb version 0.13.10"
      ],
      "text/plain": [
       "<IPython.core.display.HTML object>"
      ]
     },
     "metadata": {},
     "output_type": "display_data"
    },
    {
     "data": {
      "text/html": [
       "Run data is saved locally in <code>C:\\Users\\beaconproduction\\sites\\local\\python\\heywire\\openai\\demos\\wandb\\run-20230215_143259-l6gg4mkr</code>"
      ],
      "text/plain": [
       "<IPython.core.display.HTML object>"
      ]
     },
     "metadata": {},
     "output_type": "display_data"
    },
    {
     "data": {
      "text/html": [
       "Syncing run <strong><a href='https://wandb.ai/heywire/HeywireAI/runs/l6gg4mkr' target=\"_blank\">beloved-sweetheart-37</a></strong> to <a href='https://wandb.ai/heywire/HeywireAI' target=\"_blank\">Weights & Biases</a> (<a href='https://wandb.me/run' target=\"_blank\">docs</a>)<br/>"
      ],
      "text/plain": [
       "<IPython.core.display.HTML object>"
      ]
     },
     "metadata": {},
     "output_type": "display_data"
    },
    {
     "data": {
      "text/html": [
       " View project at <a href='https://wandb.ai/heywire/HeywireAI' target=\"_blank\">https://wandb.ai/heywire/HeywireAI</a>"
      ],
      "text/plain": [
       "<IPython.core.display.HTML object>"
      ]
     },
     "metadata": {},
     "output_type": "display_data"
    },
    {
     "data": {
      "text/html": [
       " View run at <a href='https://wandb.ai/heywire/HeywireAI/runs/l6gg4mkr' target=\"_blank\">https://wandb.ai/heywire/HeywireAI/runs/l6gg4mkr</a>"
      ],
      "text/plain": [
       "<IPython.core.display.HTML object>"
      ]
     },
     "metadata": {},
     "output_type": "display_data"
    }
   ],
   "source": [
    "import wandb\n",
    "\n",
    "run = wandb.init(project='HeywireAI', entity=\"heywire\")\n",
    "\n",
    "prediction_table = wandb.Table(columns=[\"original_story\", \"prompt\", \"usage\", \"completion\"])\n",
    "\n",
    "def generate_story(origin, entities, summary):\n",
    "\n",
    "    mod = \"text-davinci-003\"\n",
    "    prompt = \"Generate a story that involves the following entities and origin example. Please make sure the story you generate is at least 500 words long.\"\n",
    "    \n",
    "#     completions = openai.Completion.create(\n",
    "#         model=mod,\n",
    "#         prompt=prompt,\n",
    "#         max_tokens=1024\n",
    "#     )\n",
    "\n",
    "    entity_string = \"\\n\".join([f\"- {entity[0]}: {entity[1]}\" for entity in entities])\n",
    "    \n",
    "    if summary:\n",
    "        story_prompt = f\"{prompt}\\nOriginal example: {summary}\\n Entities: {entity_string}\\n\\nBegin story:\"\n",
    "    else:\n",
    "        story_prompt = f\"{prompt}\\n{entity_string}\\n\\nBegin story:\"\n",
    "    \n",
    "    story_completions = openai.Completion.create(\n",
    "        model = mod,\n",
    "        prompt = story_prompt,\n",
    "        max_tokens=int(4000 - (len(story_prompt) / 3)),\n",
    "    )\n",
    "        \n",
    "    print(story_completions[\"usage\"])\n",
    "    \n",
    "    prediction_table.add_data(origin, story_prompt, story_completions['usage'], story_completions['choices'][0]['text'])\n",
    "    \n",
    "    return story_completions['choices'][0]['text']"
   ]
  },
  {
   "cell_type": "code",
   "execution_count": 40,
   "id": "ce31a3b2",
   "metadata": {},
   "outputs": [
    {
     "name": "stdout",
     "output_type": "stream",
     "text": [
      "\n",
      "\n",
      "Karen Bass was inaugurated as the 43rd mayor of Los Angeles today, at the Microsoft Theater. Bass, first elected to the Los Angeles City Council in 2007, and re-elected to the council in 2011 and 2015, was sworn in by California Senator Kamala Harris during a ceremony attended by Governor Gavin Newsom.\n",
      "\n",
      "Bass addressed a crowd of 40,000 Angelenos gathered at City Hall, saying she was humbled to have been chosen as the city's first female African American mayor. She noted that the inauguration marked the 241-year anniversary of the first day of the City of Los Angeles.\n",
      "\n",
      "The ceremony featured musical performances by Mark Gonzalez, Stevie Wonder, Chloe Bailey, and Las Cafeteras, as well as a poem by Amanda Gorman, the first person to hold the title of Youth Poet Laureate of the United States. Gorman read her poem at the inauguration of President Joe Biden's on Sunday.\n",
      "\n",
      "Bass, who was elected mayor of Los Angeles on November 8, 2020, also noted that the inauguration was taking place after two months of protests against police brutality and racism in the city.\n",
      "\n",
      "She said the city had been working on the goals of the protests for the past three years, and that she was looking forward to the next three. Bass said she had already begun to make progress in her first year, including the creation of an Office of Community Safety.\n",
      "\n",
      "On Sunday, Bass also announced that Los Angeles would be the first major city in the nation to create a Department of Transportation, which will be responsible for making the city more bike and pedestrian friendly.\n",
      "\n",
      "Bass said she was also looking forward to the next two years, when the city will celebrate its 69th anniversary, and the next three years, when Venice and Fairfax will be celebrating the 50th anniversary of Robert F. Kennedy's assassination in 1968.\n",
      "\n",
      "Bass noted that the city had made great progress in the past 14 years, including the creation of the Community Coalition in South Los Angeles in 2004, and her election to the California Legislature in 2008, and then to the U.S. House of Representatives in 2010.\n",
      "\n",
      "She also noted that she had been the first woman to chair the Congressional Black Caucus in 2019, and the first woman to serve as Speaker of the California Assembly in 2020.\n",
      "\n",
      "Bass said her commitment to the people of Los Angeles was to work hard every day to make the city a better place. She said she was looking forward to the next four years, to making sure that all Angelenos have access to the same opportunities, and to ensuring that the city continues to be a safe and prosperous place to live.\n",
      "\n",
      "\n",
      "Harvey Weinstein, the disgraced movie mogul, is due in court on LdDate, 12-01-2022, at 5:36 PM. He is facing 963Harvey charges in his 2nd court appearance in the afternoon at 9:30 a.m. TOMORROW in the Dept. 110 Criminal Courts Building at 210 W. Temple St. in LOS ANGELES. \n",
      "\n",
      "CNS reported today that Weinstein is accused of four counts of rape and one count of sexual assault. Weinstein is expected to appear in court on Friday and his defense team is expected to argue that the alleged incidents occurred more than 70 seven years ago. \n",
      "\n",
      "Gavin Newsom's wife, Jennifer Siebel Newsom, has spoken out against Weinstein in the past. Weinstein is also accused of raping a woman at a Beverly Hills hotel room 17 years ago. He is facing four counts of rape, one count of sexual assault and one count of sexual battery.\n",
      "\n",
      "Weinstein is also accused of sexual assault by Alan Jackson in Los Angeles five years ago. Weinstein is accused of four counts of rape and two counts of sexual battery by Marlene Martinez. Jackson is also accused of one count of sexual battery against Weinstein.\n",
      "\n",
      "Weinstein is also accused of sexually assaulting Jane in 2010 and 2013. Jane is seeking $2 million in damages from Weinstein. Weinstein is also accused of two counts of sexual battery by Jennifer Siebel Newsom and 100% of the proceeds from the lawsuit will be donated to the #MeToo movement.\n",
      "\n",
      "Harvey Weinstein is due in court on Thursday to face charges of eight counts of sexual assault and battery. The alleged assaults occurred between October 2005 and September 2013. Weinstein is accused of one count of rape, one count of sexual assault, four counts of sexual battery and two counts of forcible rape. \n",
      "\n",
      "Weinstein is also accused of rape by Paul Thompson in 2010 and 2013. Bob Weinstein, his brother, is the co-founder of Miramax Films, which produced movies such as ``Good Will Hunting'' and ``Shakespeare In Love. Matt Damon, Ben Affleck, Gwyneth Paltrow and Quentin Tarantino have all spoken out against Weinstein. \n",
      "\n",
      "Thompson is seeking $2 million in damages from Weinstein. Weinstein is expected to appear in court on Thursday in New York. His trial is expected to begin in 2022. According to City News Service, the date for the trial is 01-2022.\n",
      "\n",
      "\n",
      "Officials from the Los Angeles Natural History Museum, the California Department of Fish and Wildlife, and the National Park Service are planning a memorial hike in Griffith Park to honor the iconic mountain lion P-22. \n",
      "\n",
      "The hike will take place on Saturday, December 18th, 2022 at 4 p.m. at the Charlie Turner Trailhead, 2840, and will be led by City Councilwoman Nithya Raman's office. The hike will honor the beloved mountain lion that was found dead in Los Angeles several days ago. \n",
      "\n",
      "Karen Tongson, a spokesperson for the California Department of Fish and Wildlife, said P-22 was found dead in the Hollywood Hills near the Los Angeles Zoo, where he had lived for more than 10 years. \n",
      "\n",
      "Chuck Bonham, director of the California Department of Fish and Wildlife, said P-22 was estimated to be about 11 or 12 years old when he died. He was first spotted in the Santa Monica Mountains in 2012 and weighed 123 pounds. \n",
      "\n",
      "The memorial hike is being organized by the Los Angeles Natural History Museum, the California Department of Fish and Wildlife, and the National Park Service. It will begin at the Charlie Turner Trailhead at 4 p.m. on Saturday and will be led by City Councilwoman Nithya Raman's office. \n",
      "\n",
      "The hike will take participants from the trailhead to the Hollywood Hills, where P-22 lived for more than 10 years. It will also include stops at the San Diego Zoo, the 405 and 101 freeways, Griffith Park, and the Los Angeles Zoo. \n",
      "\n",
      "The hike is intended to honor P-22 and celebrate the life of the beloved mountain lion. Christian, a spokesperson for the Los Angeles Natural History Museum, said the hike is a way for Angelenos to come together to remember P-22 and celebrate his life. \n",
      "\n",
      "Gavin Newsom, the governor of California, also released a statement honoring P-22. He said, “P-22 was an icon of the Southland and a symbol of the resilience of wildlife in the face of the urban environment.” \n",
      "\n",
      "The memorial hike is being organized in partnership with the Mountain Lion Foundation, and Gerry Hans, Executive Director of the organization, said it was FoGP that first suggested the idea. \n",
      "\n",
      "P-22 was first spotted in the Santa Monica Mountains in 2012 and was estimated to be about 11 or 12 years old when he died. He was a beloved mountain lion who was known for his incredible journey from the Santa Monica Mountains to Griffith Park, a distance of about nine miles. \n",
      "\n",
      "The memorial hike will be the first of several events that will be held in honor of P-22 in the coming year. The Los Angeles Natural History Museum will also be hosting an event called “The Story of P-22” on February 12, 2017. \n",
      "\n",
      "Miguel Ordeñana, Community Science Manager at the Natural History Museum of Los Angeles County, said the event will include a discussion about the life of P-22 and the importance of mountain lions in the L.A. landscape. \n",
      "\n",
      "The memorial hike is being organized by the Natural History Museum of Los Angeles County, the California Department of Fish and Wildlife, and the National Park Service. It will take place on Saturday, December 18th, 2022 at 4 p.m. at the Charlie Turner Trailhead, 2840. \n",
      "\n",
      "The hike is free and open to the public and will be led by City Councilwoman Nithya Raman's office. Participants are encouraged to bring a donation of $85 million for the Wallis Annenberg Wildlife Crossing in Agoura Hills, which is scheduled to open in 2025. \n",
      "\n",
      "The memorial hike is a way for Angelenos to come together to remember P-22 and celebrate his life. P-22 was a beloved mountain lion who was known for his incredible journey from the Santa Monica Mountains to Griffith Park, a distance of about nine miles. He was first spotted in the Santa Monica Mountains in 2012 and was estimated to be about 11 or 12 years old when he died. \n",
      "\n",
      "The hike is also intended to raise awareness about mountain lions and the importance of preserving their habitat in the Santa Monica Mountains and beyond. The National Park Service, the California Department of Fish and Wildlife, and the Los Angeles Zoo are all partnering with the Natural History Museum of Los Angeles County to make the event a success. \n",
      "\n",
      "The memorial hike will be followed by a celebration of P-22's life at the Liberty Canyon in the Hollywood Hills on Sunday evening. The celebration will include music, food, and activities for all ages. \n",
      "\n",
      "The memorial hike for P-22 is a way for Angelenos to come together to remember the beloved mountain lion and celebrate his life. It will be held on Saturday, December 18th, 2022 at 4 p.m. at the Charlie Turner Trailhead, 2840. Everyone is invited to join in the celebration and\n"
     ]
    },
    {
     "name": "stdout",
     "output_type": "stream",
     "text": [
      "\n",
      "\n",
      "Robert Luna was appointed as the new sheriff of Los Angeles County on Saturday, replacing Jim McDonnell, who held the post for the past four years. Luna, who was previously the Long Beach police chief, was sworn in during a ceremony held at the Hall of Administration in downtown Los Angeles.\n",
      "\n",
      "The ceremony was attended by more than 18,000 people, including Los Angeles Mayor Alex Villanueva and Long Beach Mayor Robert Garcia. Luna was also joined by Supervisor Holly Mitchell and other county officials.\n",
      "\n",
      "In his speech, Luna thanked McDonnell for his service to the county and said he was honored to be the first sheriff in roughly a century to come from the Long Beach Police Department. He also thanked the people of Los Angeles County for their support in the Nov. 8 election, when he was elected to the post with more than 60 percent of the vote.\n",
      "\n",
      "Luna then discussed his plans for the department, which include increasing the number of deputies to more than 18,000 and implementing new tan-and-green uniforms. He also spoke about the need to address police reform in the wake of the death of George Floyd in Minneapolis in May 2020.\n",
      "\n",
      "Finally, Luna introduced the new command staff, which includes Jason Skeen, the new chief of Personnel Command, and April Tardy, the new chief of Central Patrol Division. Skeen has been with the department for 28 years, while Tardy has been a part of the department for more than 36 years.\n",
      "\n",
      "Luna ended his speech by thanking the people of Los Angeles County for their support, and said he was looking forward to the next four years of service.\n",
      "\n",
      "\n",
      "Michael Avenatti was sentenced to 14 years in prison today by U.S. District Judge James V. Selna in Orange County, California. The sentence is the result of Avenatti's conviction on charges related to his extortion of Nike and defrauding of his former client Stormy Daniels and other clients. The sentence is longer than the five years requested by prosecutors and the 12 months requested by Avenatti's lawyers.\n",
      "\n",
      "Avenatti, a 51-year-old Newport Beach attorney, was convicted in February of all three counts he faced: honest services wire fraud, extortion and transmission of interstate communications with intent to extort. He was found guilty of attempting to extort Nike for at least $85 million and defrauding Daniels of about $300,000.\n",
      "\n",
      "At the sentencing hearing in Santa Ana, Selna said Avenatti had committed \"a very serious offense\" and that \"a substantial term of imprisonment is required.\" He imposed a sentence of 14 years in prison, followed by five years of supervised release.\n",
      "\n",
      "Avenatti had already been sentenced in the Nike case in New York to three years in prison and in the Daniels case in California to 17 1/2 years, but Selna said he would run the sentences concurrently. This means Avenatti will only serve 14 years, rather than the combined total of about 19 years.\n",
      "\n",
      "In addition to the prison sentence, Selna ordered Avenatti to pay restitution of $10,810,709 to victims in four separate cases, including the IRS. Avenatti was also ordered to pay a $250,000 fine and to forfeit $2.75 million.\n",
      "\n",
      "Avenatti had been in custody since last year, when he was arrested in Palm Springs, California, on charges of violating the terms of his release in the New York case. U.S. District Judge Brett Sagel had ordered him to stay in the Southern District of New York, but Avenatti had gone to California.\n",
      "\n",
      "At the sentencing hearing, Avenatti's lawyer, Alexis Gardner, compared Avenatti to David, the biblical figure who fought Goliath. She said Avenatti had taken on \"some of the most powerful Goliaths in the world,\" including Donald Trump and Nike.\n",
      "\n",
      "Gardner said Avenatti had been punished enough by the time he'd already served in jail and by the \"public humiliation\" he had suffered. She asked Selna to sentence Avenatti to only six years in prison.\n",
      "\n",
      "Avenatti had faced a maximum sentence of 335 years in prison for the three convictions.\n",
      "\n",
      "Selna said on Monday that he believed Avenatti had a \"history of deception\" and had \"abused the trust of those around him.\" He noted that Avenatti had failed to pay $8 million in taxes and had failed to pay $12.35 million in restitution to a former client.\n",
      "\n",
      "The judge also noted that Avenatti had lied to the IRS about the amount of money he had made from Tully's Coffee and had lied to the court about his finances. He said Avenatti had \"failed to pay taxes for about four years\" and had \"failed to pay about $3.2 million in taxes and about $1.6 million in trust taxes\" to the IRS.\n",
      "\n",
      "Avenatti's lawyer, Dean Steward, argued that his client had made mistakes, but had also done a lot of good in his life. He said Avenatti had worked hard, graduating from George Washington University Law School and becoming a successful lawyer in California.\n",
      "\n",
      "Steward said Avenatti had been the first lawyer to take on Donald Trump and that he had done it pro bono. He said Avenatti had also represented workers at McDonald's in St. Louis who were trying to unionize, and that he had taken on the first case of its kind in the country.\n",
      "\n",
      "Steward also said Avenatti had been the first lawyer to represent a group of homeless people in Venice, California, who were being evicted from their camp on Terminal Island. He said Avenatti had also attended Alcoholics Anonymous meetings and had been sober since March 15.\n",
      "\n",
      "Before being sentenced, Avenatti apologized to the court and to the victims of his crimes. He said he had been \"a fool\" and that he had made mistakes. He said he had been \"deeply ashamed\" of his actions.\n",
      "\n",
      "Avenatti had been facing charges in four separate cases in New York, California, the Central District of California and the Southern District of New York. In the New York case, U.S. Attorney Geoffrey Berman's office accused him of attempting to extort Nike. In the California case, U.S. Attorney Nichola Hanna's office accused him of defrauding Daniels.\n",
      "\n",
      "In the Central District case, U.S. Attorney Martin Estrada accused Avenatti of attempting to embezzle money from a client. In the Southern District case, U.S. Attorney Ranee Katzenstein accused Avenatti of attempting to\n",
      "\n",
      "\n",
      "On December 4, Orange County's COVID-19 cases surpassed 2,359,862, with at least one new case reported daily. According to the Orange County Health Care Agency, 219,228 cases were reported in the last seven-day lag, with 16,517 new cases reported in the last week.\n",
      "\n",
      "Andrew Noymer, a professor of public health and sociology at UC Irvine, said Orange County's COVID-19 cases began to rise last winter, but the surge really began in mid-February. Noymer said Orange County saw a sharp increase in cases in the summer, and it has continued to rise ever since.\n",
      "\n",
      "As of November 30, Orange County had 388 new cases reported, with 38 new hospitalizations and 48 new deaths. Noymer said the numbers started to increase again after the Christmas holiday and have been steadily rising ever since.\n",
      "\n",
      "Noymer said the Orange County Health Care Agency reported 1,421,959 cases of COVID-19 since the pandemic began, with 1,425,506 cases reported this year alone. He said the majority of cases have been in people up to 4 years old, with 16,779 cases reported in children 11 and younger.\n",
      "\n",
      "Noymer said the data also showed that 36.7% of cases were in people ages 12 to 17, 69.7% were in people ages 18 to 49, 8.6% were in people ages 50 to 64, and 13% were in people 65 and older. He said the numbers are similar to what was reported last week, with 8.3% in people ages 50 to 64 and 13.4% in people 65 and older.\n",
      "\n",
      "Noymer said the number of new daily cases has been increasing since early February, with 100,000 new cases reported in the last seven-day lag. He said the seven-day average of new cases has been steadily increasing, with 9.1 cases reported per 100,000 people and 13.4 cases reported per 100,000 people in the last seven-day lag.\n",
      "\n",
      "The OCHCA reported that 65.4% of all COVID-19 tests came back positive in the last seven-day lag, up from 66.6% the week before. As of December 4, Orange County had 4,449 new cases of COVID-19 reported, with 687,334 total cases since the pandemic began.\n",
      "\n",
      "Noymer said the data also showed that Seventeen new deaths were reported in the last week, with 7,594 total deaths since the pandemic began. Nine new hospitalizations were also reported this month, with 97,120 total hospitalizations since the pandemic began.\n",
      "\n",
      "Noymer said the data showed that the percentage of positive tests has been steadily increasing since October, with 36.7% of tests coming back positive in October, 42.2% in November, and 66.6% in the last week. He said the numbers could continue to increase into 2022 if the current trend continues.\n",
      "\n",
      "City News Service reported that Orange County public health officials are urging residents to take precautions to help prevent the spread of COVID-19, such as wearing a face covering, washing hands frequently, and avoiding large gatherings.\n"
     ]
    },
    {
     "data": {
      "text/html": [
       "Waiting for W&B process to finish... <strong style=\"color:green\">(success).</strong>"
      ],
      "text/plain": [
       "<IPython.core.display.HTML object>"
      ]
     },
     "metadata": {},
     "output_type": "display_data"
    },
    {
     "data": {
      "text/html": [
       " View run <strong style=\"color:#cdcd00\">vague-dragon-7</strong> at: <a href='https://wandb.ai/heywire/HeywireAI/runs/bua1vyg4' target=\"_blank\">https://wandb.ai/heywire/HeywireAI/runs/bua1vyg4</a><br/>Synced 5 W&B file(s), 1 media file(s), 1 artifact file(s) and 0 other file(s)"
      ],
      "text/plain": [
       "<IPython.core.display.HTML object>"
      ]
     },
     "metadata": {},
     "output_type": "display_data"
    },
    {
     "data": {
      "text/html": [
       "Find logs at: <code>.\\wandb\\run-20230210_123023-bua1vyg4\\logs</code>"
      ],
      "text/plain": [
       "<IPython.core.display.HTML object>"
      ]
     },
     "metadata": {},
     "output_type": "display_data"
    }
   ],
   "source": [
    "articles = [\n",
    "    'https://socalnews.com/la-story-3.html',\n",
    "    'https://socalnews.com/la-story-4.html',\n",
    "    'https://socalnews.com/la-story-5.html',\n",
    "    'https://socalnews.com/la-story-6.html',\n",
    "    'https://socalnews.com/orange-story3.htm',\n",
    "    'https://socalnews.com/orange-story4.htm'\n",
    "]\n",
    "\n",
    "def stories_run(stories):\n",
    "    for story in stories:\n",
    "        article_text = url_to_string(story)\n",
    "        ents = text_to_ents(article_text)\n",
    "        new_story = generate_story(article_text, ents)\n",
    "        print(new_story)\n",
    "    \n",
    "    wandb.log({'predictions': prediction_table})\n",
    "    wandb.finish()\n",
    "    return\n",
    "\n",
    "stories_run(articles)"
   ]
  },
  {
   "cell_type": "code",
   "execution_count": 70,
   "id": "062ce9a4",
   "metadata": {},
   "outputs": [
    {
     "data": {
      "text/plain": [
       "\"Bass Inauguration, 3rd LdDate: 12-11-2022 8:50 PM - Word Count: 1283Bass Inauguration, 3rd Ld\\r\\n\\xa0\\xa0 Karen Bass Inaugurated as Mayor, to Hold News Conference\\r\\n\\xa0\\xa0 Eds: UPDATES with Bass to hold news conference, in 7th graf. Bass'\\r\\noffice can be reached at press@karenbass.com.\\r\\n\\xa0\\xa0 By ERIC HE\\r\\n\\xa0\\xa0 City News Service\\r\\n\\xa0\\xa0 LOS ANGELES (CNS) - Karen Bass was sworn in as the 43rd mayor of Los\\r\\nAngeles today in a historic inauguration at the Microsoft Theater, becoming the\\r\\nfirst woman and second Black person to lead the city.\\r\\n\\xa0\\xa0 Bass was sworn in by Vice President Kamala Harris, a former California\\r\\nsenator and the first woman to serve as the nation's second-in-command.\\r\\n\\xa0\\xa0 Nearly every major city official, along with Gov. Gavin Newsom,\\r\\nattended the ceremony.\\r\\n\\xa0\\xa0 ``Making history with each of you today is a monumental moment in my\\r\\nlife and for Los Angeles,'' Bass said in her speech.\\r\\n\\xa0\\xa0 Bass addressed what she described as an ``inflection point in our\\r\\nhistory,'' with issues including ``the pandemic, the rapidly changing economy,\\r\\nthe rapidly changing climate, the cost of living, (and) 40,000 people sleeping\\r\\non the street.''\\r\\n\\xa0\\xa0 ``I believe that times of inflection require reflection -- I believe,\\r\\nit's time for Angelenos to remind ourselves where we come from and who we\\r\\nare,'' she said.\\r\\n\\xa0\\xa0 Bass scheduled a news conference at 9 a.m. Monday to declare a state\\r\\nof emergency on homelessness as her first act as mayor. Her reference to that\\r\\naction drew a standing ovation. The emergency declaration will ``recognize the\\r\\nseverity of our crisis and break new ground to maximize our ability to urgently\\r\\nmove people inside, and do so for good.\\r\\n\\xa0\\xa0 ``It will create the structure necessary for us to have a true,\\r\\nunified and citywide strategy to set us on the path to solve homelessness,''\\r\\nBass said.\\r\\n\\xa0\\xa0 Bass' plan also includes housing 17,000 homeless people in her first\\r\\nyear. She said Los Angeles has earned the ``shameful crown'' of having some of\\r\\nthe most overcrowded neighborhoods in the country and called for residents to\\r\\n``welcome housing to every neighborhood.''\\r\\n\\xa0\\xa0 ``We know our mission: We must build housing in every neighborhood,''\\r\\nBass said. ``We cannot continue to overcrowd neighborhoods that are already\\r\\novercrowded.''\\r\\n\\xa0\\xa0 On crime, Bass sought a strategy to make neighborhoods safe ``that is\\r\\ninformed by our communities,'' which includes launching an Office of Community\\r\\nSafety.\\r\\n\\xa0\\xa0 ``Of course, we must stop crimes in progress and hold people\\r\\naccountable,'' Bass said. ``Some neighborhoods have asked for additional\\r\\nofficers, and we will deliver. But what neighborhoods are asking for and what\\r\\nthey need is as diverse as our city.''\\r\\n\\xa0\\xa0 Sunday's ceremony was initially scheduled to take place outside City\\r\\nHall, but rain in the forecast led to a venue shift indoors. Instead, Bass was\\r\\nsworn in on the theater's stage, with two large ``LA'' letters in the mold of\\r\\nthe LAX sign to her right and a picture of the Spring Street City Hall steps\\r\\nbehind the stage.\\r\\n\\xa0\\xa0 ``In our city's 241-year history, we've never witnessed a day like\\r\\ntoday as Los Angeles came together to celebrate the swearing in of Mayor Karen\\r\\nBass,'' said Mark Gonzalez, chair of the Los Angeles County Democratic Party,\\r\\nin a statement.\\r\\n\\xa0\\xa0 Surprise performers at the inauguration included Stevie Wonder, who\\r\\nsang ``Keep Our Love Alive'' and ``Living for the City,'' and Chloe Bailey and\\r\\nLas Cafeteras. Amanda Gorman, the first National Youth Poet Laureate, who also\\r\\ndelivered a poem at President Joe Biden's inauguration, said in her reading\\r\\nSunday that ``the time of never before is officially past.''\\r\\n\\xa0\\xa0 ``For where there's will, there's women,'' Gorman said. ``And where\\r\\nthere's women, there's forever a way.''\\r\\n\\xa0\\xa0 Sunday's event marked the first mayoral inauguration in Los Angeles in\\r\\nnearly a decade, with outgoing mayor Eric Garcetti holding the post since 2013.\\r\\n\\xa0\\xa0 Bass defeated developer Rick Caruso on Nov. 8 in an expensive and at-\\r\\ntimes contentious race.\\r\\n\\xa0\\xa0 She will inherit leadership of a city grappling with a scandal that\\r\\nhas embroiled City Hall for the past two months, after three council members\\r\\nand a top county labor official took part in a recorded conversation in October\\r\\n2021 that included racist comments and attempts to manipulate redistricting.\\r\\n\\xa0\\xa0 The fallout has continued to roil City Hall, with Councilman Kevin de\\r\\nLeón -- one of the participants in the conversation -- unexpectedly returning\\r\\nto the chamber on Friday, setting off chaos as he continues to defy calls to\\r\\nresign. De León later fought with an activist at a holiday tree lighting event\\r\\non Friday evening.\\r\\n\\xa0\\xa0 City Council President Paul Krekorian, who swore in five new city\\r\\ncouncil members and a new city attorney and city controller at Sunday's\\r\\nceremony, said that there is no leader more capable of bringing the city\\r\\ntogether than Bass.\\r\\n\\xa0\\xa0 ``This is a time of unprecedented challenges in our city, but today as\\r\\nI look out at this audience and see the people with us, I know that this is\\r\\nalso a time of unprecedented opportunity,'' Krekorian said.\\r\\n\\xa0\\xa0 Krekorian added that Bass will have a ``very strong part in the Los\\r\\nAngeles City Council,'' a positive sign for Bass -- who will need to have the\\r\\ncouncil renew her state of emergency for homelessness every month.\\r\\n\\xa0\\xa0 Bass, 69, grew up in the midst of the civil rights movement with three\\r\\nbrothers in the Venice and Fairfax neighborhoods. She was drawn to\\r\\ncommunity activism after watching the movement on television, volunteering for\\r\\nRobert F. Kennedy's 1968 presidential campaign when she was 14. Bass said while\\r\\nher parents did not live to see her take elected office, ``their love, support\\r\\nand guidance is why I stand before you today.''\\r\\n\\xa0\\xa0 Bass' father fled the Jim Crow south during the great African American\\r\\nmigration after World War II and found work as a letter carrier. His\\r\\npaycheck supported Bass and her siblings, and allowed her mother to choose to\\r\\nbe a homemaker.\\r\\n\\xa0\\xa0 ``When I think about the dreams of working people today, I reflect on\\r\\nthe fact that my mother and father were able to buy a home in Los Angeles for\\r\\ntheir family of six with one paycheck,'' Bass said.\\r\\n\\xa0\\xa0 Bass' organizing career began in 1990 when she founded Community\\r\\nCoalition, a South Los Angeles social justice group in response to the crack\\r\\ncocaine crisis. In 2004, Bass was the only Black woman in the state Legislature\\r\\nwhen she was elected to the Assembly. Four years later, she became the first\\r\\nBlack woman to lead the chamber. Bass was elected to the U.S. House of\\r\\nRepresentatives in 2010 and chaired the Congressional Black Caucus in 2019 and\\r\\n2020.\\r\\n\\xa0\\xa0 State Senate President pro-Tempore Toni Atkins said that Bass didn't\\r\\nrun for mayor for ``credit or photo-opps.''\\r\\n\\xa0\\xa0 ``She is here to work,'' Atkins said. ``She is here because she loves\\r\\nthis city, she loves its people. She is here to answer the call to serve. And\\r\\nthat is who she is.''\\r\\n\\xa0\\xa0 The new mayor called for the city to focus on solutions rather than\\r\\njurisdiction, to link arms rather than point fingers.\\r\\n\\xa0\\xa0 ``If we just focus on bringing people inside, comprehensively\\r\\naddressing their needs, and moving them to permanent housing with a way to pay\\r\\ntheir bills, we will save lives and save our city,'' Bass said. ``That is my\\r\\nmission as your mayor.''\\r\\n\\xa0\\xa0 Bass said her father taught her to be a critical thinker, and to\\r\\nunderstand the historical context of national and international events.\\r\\n\\xa0\\xa0 ``My daily conversations with him led me to make a lifetime commitment\\r\\nto do whatever I can to change the world,'' she said.\\r\\n\\xa0\\xa0 Through the ``unaffordability, the difficulty, the struggle working\\r\\npeople face today in Los Angeles,'' Bass said that Angelenos have ``never, ever\\r\\ngiven up.''\\r\\n\\xa0\\xa0 ``And our magic, L.A. magic, it's still here,'' she said.\\r\\n\\xa0\\xa0 Copyright 2022, City News Service, Inc.\\n\\r\\nCNS-12-11-2022 20:50\""
      ]
     },
     "execution_count": 70,
     "metadata": {},
     "output_type": "execute_result"
    }
   ],
   "source": [
    "from __future__ import absolute_import\n",
    "from __future__ import division, print_function, unicode_literals\n",
    "\n",
    "from sumy.parsers.html import HtmlParser\n",
    "from sumy.parsers.plaintext import PlaintextParser\n",
    "from sumy.nlp.tokenizers import Tokenizer\n",
    "from sumy.summarizers.lsa import LsaSummarizer as Summarizer\n",
    "from sumy.nlp.stemmers import Stemmer\n",
    "from sumy.utils import get_stop_words\n",
    "\n",
    "def get_summary(article, count):\n",
    "    LANGUAGE = \"english\"\n",
    "    SENTENCES_COUNT = count\n",
    "\n",
    "    if __name__ == \"__main__\":\n",
    "        parser = PlaintextParser.from_string(article, Tokenizer(LANGUAGE))\n",
    "        stemmer = Stemmer(LANGUAGE)\n",
    "\n",
    "        summarizer = Summarizer(stemmer)\n",
    "        summarizer.stop_words = get_stop_words(LANGUAGE)\n",
    "\n",
    "        summary = \" \".join(str(sentence) for sentence in summarizer(parser.document, SENTENCES_COUNT))\n",
    "        return summary\n",
    "\n",
    "s = get_summary(text, 8)\n",
    "text"
   ]
  },
  {
   "cell_type": "code",
   "execution_count": 102,
   "id": "6dcbe6a0",
   "metadata": {},
   "outputs": [
    {
     "name": "stdout",
     "output_type": "stream",
     "text": [
      "1350.0\n"
     ]
    },
    {
     "data": {
      "text/plain": [
       "'\\nKaren Bass was inaugurated as the 43rd mayor of Los Angeles on Sunday at the Microsoft Theater, making her the first woman and second African American to hold the office. Bass was sworn in by California\\'s first and second female U.S. senators, Kamala Harris and Dianne Feinstein, and was joined by Gov. Gavin Newsom and other state and local officials. \\n\\nBass, who was elected in November with more than 40,000 votes, thanked Angelenos for their support. “It’s been nine days since the election and I’m already getting to work,\" she said, adding that she was already preparing for her first day in office on Monday at 9 a.m.\\n\\nBass, who previously served in the state legislature and the U.S. House, is the first mayor of Los Angeles in nearly a decade who is not Eric Garcetti. After being elected in 2013, Garcetti was reelected in 2017 and was term-limited from running again. \\n\\nBass won the election with a campaign focused on economic and racial justice, and on Sunday she promised to continue to fight for those causes. She also promised to create an Office of Community Safety, which she said would be “a new model of public safety that puts people first.” \\n\\nThe inauguration ceremony was originally scheduled to take place outside City Hall, but rain in the forecast led to a venue shift indoors. Among the surprise performers at the event were Stevie Wonder, who sang “Keep Our Love Alive” and “Living for the City,” and Chloe Bailey and Las Cafeteras. Amanda Gorman, the first National Youth Poet Laureate, who also delivered a poem at President Joe Biden\\'s inauguration, said in her reading Sunday that “the time of never before is officially past.” \\n\\nBass\\' father fled the Jim Crow south during the great African American migration after World War II and found work as a letter carrier. “When I think about the dreams of working people today, I reflect on the fact that my mother and father were able to buy a home in Los Angeles for their family of six with one paycheck,” Bass said. \\n\\nBass\\' organizing career began in 1990 when she founded Community Coalition, a South Los Angeles social justice group in response to the crack cocaine crisis. State Senate President pro-Tempore Toni Atkins said that Bass didn\\'t run for mayor for “credit or photo-opps.”\\n\\n“Karen Bass has been the mayor of Los Angeles for the past two months,” Atkins said. “She has been the one leading the way, holding news conferences, and making sure that the public is informed on what is happening in our city.” \\n\\nBass was elected in November with more than 40,000 votes, and on Friday, the Los Angeles City Council unanimously approved her nomination of Mark Gonzalez as the city’s new police chief. Gonzalez, a member of the Los Angeles County Democratic Party, was sworn in at the ceremony on Sunday. \\n\\nStevie Wonder, Chloe Bailey and Las Cafeteras performed at the ceremony, and Amanda Gorman, the first National Youth Poet Laureate, delivered a poem. Gorman said in her reading that “the time of never before is officially past.” \\n\\nBass\\' father fled the Jim Crow south during the great African American migration after World War II and found work as a letter carrier. “When I think about the dreams of working people today, I reflect on the fact that my mother and father were able to buy a home in Los Angeles for their family of six with one paycheck,” Bass said. \\n\\nBass\\' organizing career began in 1990 when she founded Community Coalition, a South Los Angeles social justice group in response to the crack cocaine crisis. Bass was elected to the state legislature in 2004 and to Congress in 2010, where she was a member of the Congressional Black Caucus. In 2019, she was elected to the state Senate. \\n\\nAt the inauguration ceremony, Bass said she would be holding daily press conferences starting today, and that she would be meeting with Angelenos every month. She also announced that she would be launching a new initiative to celebrate the 241-year anniversary of the founding of Los Angeles on a day that will be known as “LA Day.” \\n\\nBass also announced that she would be launching a new program to make LAX more accessible for Angelenos, and that she would be making a special effort to honor the legacy of Robert F. Kennedy\\'s visit to Los Angeles in 1968, which was 14 days before his assassination. \\n\\nBass said she was committed to making Los Angeles a city that works for all its residents. “We are the city of dreams, and together we will make those dreams come true,” she said.'"
      ]
     },
     "execution_count": 102,
     "metadata": {},
     "output_type": "execute_result"
    }
   ],
   "source": [
    "new_story_summary = generate_story(text, entities, s)\n",
    "new_story_summary"
   ]
  },
  {
   "cell_type": "code",
   "execution_count": 103,
   "id": "e012322b",
   "metadata": {},
   "outputs": [
    {
     "data": {
      "text/html": [
       "Waiting for W&B process to finish... <strong style=\"color:green\">(success).</strong>"
      ],
      "text/plain": [
       "<IPython.core.display.HTML object>"
      ]
     },
     "metadata": {},
     "output_type": "display_data"
    },
    {
     "data": {
      "text/html": [
       " View run <strong style=\"color:#cdcd00\">noble-grass-20</strong> at: <a href='https://wandb.ai/heywire/HeywireAI/runs/suu77zoo' target=\"_blank\">https://wandb.ai/heywire/HeywireAI/runs/suu77zoo</a><br/>Synced 5 W&B file(s), 1 media file(s), 1 artifact file(s) and 0 other file(s)"
      ],
      "text/plain": [
       "<IPython.core.display.HTML object>"
      ]
     },
     "metadata": {},
     "output_type": "display_data"
    },
    {
     "data": {
      "text/html": [
       "Find logs at: <code>.\\wandb\\run-20230210_165248-suu77zoo\\logs</code>"
      ],
      "text/plain": [
       "<IPython.core.display.HTML object>"
      ]
     },
     "metadata": {},
     "output_type": "display_data"
    },
    {
     "name": "stdout",
     "output_type": "stream",
     "text": [
      "\n",
      "Karen Bass was inaugurated as the 43rd mayor of Los Angeles on Sunday at the Microsoft Theater, making her the first woman and second African American to hold the office. Bass was sworn in by California's first and second female U.S. senators, Kamala Harris and Dianne Feinstein, and was joined by Gov. Gavin Newsom and other state and local officials. \n",
      "\n",
      "Bass, who was elected in November with more than 40,000 votes, thanked Angelenos for their support. “It’s been nine days since the election and I’m already getting to work,\" she said, adding that she was already preparing for her first day in office on Monday at 9 a.m.\n",
      "\n",
      "Bass, who previously served in the state legislature and the U.S. House, is the first mayor of Los Angeles in nearly a decade who is not Eric Garcetti. After being elected in 2013, Garcetti was reelected in 2017 and was term-limited from running again. \n",
      "\n",
      "Bass won the election with a campaign focused on economic and racial justice, and on Sunday she promised to continue to fight for those causes. She also promised to create an Office of Community Safety, which she said would be “a new model of public safety that puts people first.” \n",
      "\n",
      "The inauguration ceremony was originally scheduled to take place outside City Hall, but rain in the forecast led to a venue shift indoors. Among the surprise performers at the event were Stevie Wonder, who sang “Keep Our Love Alive” and “Living for the City,” and Chloe Bailey and Las Cafeteras. Amanda Gorman, the first National Youth Poet Laureate, who also delivered a poem at President Joe Biden's inauguration, said in her reading Sunday that “the time of never before is officially past.” \n",
      "\n",
      "Bass' father fled the Jim Crow south during the great African American migration after World War II and found work as a letter carrier. “When I think about the dreams of working people today, I reflect on the fact that my mother and father were able to buy a home in Los Angeles for their family of six with one paycheck,” Bass said. \n",
      "\n",
      "Bass' organizing career began in 1990 when she founded Community Coalition, a South Los Angeles social justice group in response to the crack cocaine crisis. State Senate President pro-Tempore Toni Atkins said that Bass didn't run for mayor for “credit or photo-opps.”\n",
      "\n",
      "“Karen Bass has been the mayor of Los Angeles for the past two months,” Atkins said. “She has been the one leading the way, holding news conferences, and making sure that the public is informed on what is happening in our city.” \n",
      "\n",
      "Bass was elected in November with more than 40,000 votes, and on Friday, the Los Angeles City Council unanimously approved her nomination of Mark Gonzalez as the city’s new police chief. Gonzalez, a member of the Los Angeles County Democratic Party, was sworn in at the ceremony on Sunday. \n",
      "\n",
      "Stevie Wonder, Chloe Bailey and Las Cafeteras performed at the ceremony, and Amanda Gorman, the first National Youth Poet Laureate, delivered a poem. Gorman said in her reading that “the time of never before is officially past.” \n",
      "\n",
      "Bass' father fled the Jim Crow south during the great African American migration after World War II and found work as a letter carrier. “When I think about the dreams of working people today, I reflect on the fact that my mother and father were able to buy a home in Los Angeles for their family of six with one paycheck,” Bass said. \n",
      "\n",
      "Bass' organizing career began in 1990 when she founded Community Coalition, a South Los Angeles social justice group in response to the crack cocaine crisis. Bass was elected to the state legislature in 2004 and to Congress in 2010, where she was a member of the Congressional Black Caucus. In 2019, she was elected to the state Senate. \n",
      "\n",
      "At the inauguration ceremony, Bass said she would be holding daily press conferences starting today, and that she would be meeting with Angelenos every month. She also announced that she would be launching a new initiative to celebrate the 241-year anniversary of the founding of Los Angeles on a day that will be known as “LA Day.” \n",
      "\n",
      "Bass also announced that she would be launching a new program to make LAX more accessible for Angelenos, and that she would be making a special effort to honor the legacy of Robert F. Kennedy's visit to Los Angeles in 1968, which was 14 days before his assassination. \n",
      "\n",
      "Bass said she was committed to making Los Angeles a city that works for all its residents. “We are the city of dreams, and together we will make those dreams come true,” she said.\n"
     ]
    }
   ],
   "source": [
    "wandb.log({'predictions': prediction_table})\n",
    "wandb.finish()\n",
    "print(new_story_summary)"
   ]
  },
  {
   "cell_type": "code",
   "execution_count": 72,
   "id": "aeb92f0d",
   "metadata": {},
   "outputs": [],
   "source": [
    "story_1 = \"\"\"Another Chinese Balloon Flew Over Latin America, China Confirms\n",
    "The Chinese government said the balloon that Colombia spotted in its airspace on Friday was for civilian purposes and was being used for flight tests.\n",
    "Give this article\n",
    "A Chinese balloon floating off the coast of South Carolina before being shot down by an American fighter jet on Saturday.\n",
    "A Chinese balloon floating off the coast of South Carolina before being shot down by an American fighter jet on Saturday.Credit...Chad Fish, via Associated Press\n",
    "Emma Bubola\n",
    "By Emma Bubola\n",
    "Feb. 6, 2023\n",
    "A Chinese balloon floated over Latin America and the Caribbean, the Chinese government confirmed on Monday, adding that it was for civilian purposes and was being used for flight tests.\n",
    "“Affected by the weather and with limited self-steering capability, the airship deviated far from its planned course and entered into the airspace of Latin America and the Caribbean,” a spokeswoman for China’s foreign ministry, Mao Ning, said at a news conference on Monday.\n",
    "On Friday morning, before the United States shot down a Chinese spy balloon that had spent the last week traversing the country, the Colombian National Air Defense System detected an object that had entered the northern part of the country’s airspace, the Colombian Air Force said in a statement.\n",
    "Officials determined that the object had “characteristics similar to those of a balloon,” and that it was flying at an altitude of over 55,000 feet and moving at an average speed of 25 knots.\n",
    "On Saturday, the United States confirmed that a balloon was observed transiting Central and South America, and said that it was another Chinese surveillance balloon.\n",
    "“These balloons are all part of a P.R.C. fleet of balloons developed to conduct surveillance operations, which have also violated the sovereignty of other countries,” Brig. Gen. Patrick S. Ryder, the Pentagon’s press secretary, told reporters.\n",
    "Dig deeper into the moment.\n",
    "Special offer: Subscribe for $1 a week for the first year.\n",
    "The Colombian Air Force said it had tracked the object until it left the country’s airspace, adding that officials determined it did not pose a threat to national security and were investigating its origin.\n",
    "On Sunday, the Venezuelan Ministry of Foreign Affairs, referring to the U.S. decision to shoot down the balloon, said the government “rejects the attack by the United States against a civilian unmanned aircraft of Chinese origin.” In a statement, the Venezuelan government said, “Once again, the United States resorts to the use of force, instead of treating this situation with the seriousness and responsibility that the case deserves.”\n",
    "President Nicolás Maduro of Venezuela has recently proposed establishing a new international bloc of Latin American and Caribbean countries and referred to Presidents Xi Jinping of China and Vladimir V. Putin of Russia as each being an “older brother.”\n",
    "Editors’ Picks\n",
    "A Secret for Falling Asleep So Good It’s a British National Treasure\n",
    "When a Visit to the Museum Becomes an Ethical Dilemma\n",
    "Is That the Enticing Smell of Spaghetti Cooking? Nope, It’s a Candle.\n",
    "Ms. Mao said that the Chinese government had informed relevant officials in other nations about the balloon flying over Latin America and that “they have expressed their understanding.”\n",
    "The United States, Ms. Mao said, had “a clear overreaction.”\n",
    "Elda Cantú contributed reporting from Mexico City.\n",
    "Emma Bubola is a reporter based in London. \"\"\""
   ]
  },
  {
   "cell_type": "code",
   "execution_count": 73,
   "id": "e35e06ae",
   "metadata": {},
   "outputs": [],
   "source": [
    "story_2 = \"\"\"Balloon over Latin America belongs to China, Beijing says\n",
    "A balloon spotted over the skies of Latin America belongs to China and was used for flight tests, a Chinese foreign ministry spokesperson said Monday in response to CNN’s queries.\n",
    "This is the first time Beijing has admitted the balloon spotted over two Latin American countries belongs to China.\n",
    "The balloon “seriously deviated” from its planned course and entered the skies over Latin America and the Caribbean “by mistake” due to weather conditions and limited control ability over the craft, Chinese foreign ministry spokesperson Mao Ning said in a regular press briefing on Monday.\n",
    "A jet flies by a suspected Chinese spy balloon after shooting it down off the coast in Surfside Beach, South Carolina, U.S. February 4, 2023.  REUTERS/Randall Hill\n",
    "Why the Chinese balloon crisis could be a defining moment in the new Cold War\n",
    "This is the second Chinese balloon Beijing claims has drifted off course due to the weather after the US military on Saturday shot down a suspected Chinese spy balloon that flew over the continental US for days.\n",
    "“China is a responsible country. We have always strictly abided by international law. We have informed all relevant parties and appropriately handled the situation, which did not pose any threats to any countries,” Mao said, adding that all parties “expressed their understanding.”\n",
    "The Colombian Air Force and Costa Rica’s Civil Aviation Authority both confirmed that a white observation balloon similar to the one spotted over the US was tracked in their airspace last week, though they did not attribute the vessel to China.\n",
    "\"\"\""
   ]
  },
  {
   "cell_type": "code",
   "execution_count": 74,
   "id": "976b952d",
   "metadata": {},
   "outputs": [],
   "source": [
    "story_3 = \"\"\"Second balloon over Latin America is ours - China\n",
    "The Chinese government has admitted a balloon spotted over Latin America on Friday is from China - but claimed it is intended for civilian use.\n",
    "Foreign ministry spokesperson Mao Ning said the aircraft had deviated from its route, having been blown off course.\n",
    "A similar balloon was shot down in US airspace by military jets on Saturday amid allegations that it was being used for surveillance.\n",
    "China has denied accusations of spying, saying it was monitoring the weather.\n",
    "The incident has led to a diplomatic row between Washington and Beijing.\n",
    "On Friday - before fighter jets brought down the balloon at the weekend - US military officials said a second Chinese balloon had been spotted over Latin America.\n",
    "On Monday, China admitted an aircraft had \"accidentally entered Latin American and Caribbean airspace\".\n",
    "Ms Mao told reporters the second balloon had \"deviated greatly\" from its intended route, citing the aircraft's \"limited manoeuvrability\" and the weather conditions.\n",
    "\"The unmanned airship in question that came from China is of a civilian nature and used for flight tests,\" she added.\n",
    "\"China is a responsible country and has always strictly abided by international law in order to inform and properly deal with all parties concerned, without posing any threat to any country.\"\n",
    "At the weekend, Colombia's air force said an object with \"characteristics similar to those of a balloon\" had been detected on 3 February in the country's airspace at above 55,000ft.\n",
    "Colombia said it had followed the object until it left the airspace, adding that it did not represent a threat to national security.\n",
    "High-altitude spying marks new low for US-China ties\n",
    "Was China balloon blown off course?\n",
    "Why use a spy balloon instead of satellites?\n",
    "Meanwhile, work by US Navy divers continues to recover the wreckage of the surveillance balloon that was shot down off the coast of South Carolina on Saturday.\n",
    "US President Joe Biden first approved the plan to bring down the balloon on Wednesday, but decided to wait until it was over water so as not to put people on the ground at risk.\n",
    "The US believes the balloon was being used to monitor sensitive military sites.\n",
    "Adm Mike Mullen, former chair of the US Joint Chiefs of Staff, rejected China's suggestion it might have blown off course, saying it was manoeuvrable because \"it has propellers on it\".\n",
    "\"This was not an accident. This was deliberate. It was intelligence,\" he added.\n",
    "Relations between China and the US have been strained by the incident, with the Pentagon calling it an \"unacceptable violation\" of its sovereignty. A planned trip by Secretary of State Antony Blinken to China was cancelled as a result of the row.\n",
    "China has lodged a formal complaint with the US embassy in Beijing over the incident.\n",
    "\"\"\""
   ]
  },
  {
   "cell_type": "code",
   "execution_count": 123,
   "id": "af748548",
   "metadata": {},
   "outputs": [
    {
     "data": {
      "text/plain": [
       "'Give this article A Chinese balloon floating off the coast of South Carolina before being shot down by an American fighter jet on Saturday. “Affected by the weather and with limited self-steering capability, the airship deviated far from its planned course and entered into the airspace of Latin America and the Caribbean,” a spokeswoman for China’s foreign ministry, Mao Ning, said at a news conference on Monday. On Friday morning, before the United States shot down a Chinese spy balloon that had spent the last week traversing the country, the Colombian National Air Defense System detected an object that had entered the northern part of the country’s airspace, the Colombian Air Force said in a statement. Officials determined that the object had “characteristics similar to those of a balloon,” and that it was flying at an altitude of over 55,000 feet and moving at an average speed of 25 knots. fleet of balloons developed to conduct surveillance operations, which have also violated the sovereignty of other countries,” Brig. The Colombian Air Force said it had tracked the object until it left the country’s airspace, adding that officials determined it did not pose a threat to national security and were investigating its origin. On Sunday, the Venezuelan Ministry of Foreign Affairs, referring to the U.S. decision to shoot down the balloon, said the government “rejects the attack by the United States against a civilian unmanned aircraft of Chinese origin.” In a statement, the Venezuelan government said, “Once again, the United States resorts to the use of force, instead of treating this situation with the seriousness and responsibility that the case deserves.” President Nicolás Maduro of Venezuela has recently proposed establishing a new international bloc of Latin American and Caribbean countries and referred to Presidents Xi Jinping of China and Vladimir V. Putin of Russia as each being an “older brother.” Editors’ Picks A Secret for Falling Asleep So Good It’s a British National Treasure When a Visit to the Museum Becomes an Ethical Dilemma Is That the Enticing Smell of Spaghetti Cooking? Ms. Mao said that the Chinese government had informed relevant officials in other nations about the balloon flying over Latin America and that “they have expressed their understanding.” The United States, Ms. Mao said, had “a clear overreaction.” Elda Cantú contributed reporting from Mexico City.'"
      ]
     },
     "execution_count": 123,
     "metadata": {},
     "output_type": "execute_result"
    }
   ],
   "source": [
    "s1 = get_summary(story_1, 8)\n",
    "full_sum = s1\n",
    "s1"
   ]
  },
  {
   "cell_type": "code",
   "execution_count": 124,
   "id": "ed81d943",
   "metadata": {},
   "outputs": [
    {
     "data": {
      "text/plain": [
       "'Balloon over Latin America belongs to China, Beijing says A balloon spotted over the skies of Latin America belongs to China and was used for flight tests, a Chinese foreign ministry spokesperson said Monday in response to CNN’s queries. This is the first time Beijing has admitted the balloon spotted over two Latin American countries belongs to China. The balloon “seriously deviated” from its planned course and entered the skies over Latin America and the Caribbean “by mistake” due to weather conditions and limited control ability over the craft, Chinese foreign ministry spokesperson Mao Ning said in a regular press briefing on Monday. A jet flies by a suspected Chinese spy balloon after shooting it down off the coast in Surfside Beach, South Carolina, U.S. February 4, 2023. REUTERS/Randall Hill Why the Chinese balloon crisis could be a defining moment in the new Cold War This is the second Chinese balloon Beijing claims has drifted off course due to the weather after the US military on Saturday shot down a suspected Chinese spy balloon that flew over the continental US for days. “China is a responsible country. We have always strictly abided by international law. We have informed all relevant parties and appropriately handled the situation, which did not pose any threats to any countries,” Mao said, adding that all parties “expressed their understanding.” The Colombian Air Force and Costa Rica’s Civil Aviation Authority both confirmed that a white observation balloon similar to the one spotted over the US was tracked in their airspace last week, though they did not attribute the vessel to China.'"
      ]
     },
     "execution_count": 124,
     "metadata": {},
     "output_type": "execute_result"
    }
   ],
   "source": [
    "s2 = get_summary(story_2, 8)\n",
    "full_sum += s2\n",
    "s2"
   ]
  },
  {
   "cell_type": "code",
   "execution_count": 125,
   "id": "a03a8091",
   "metadata": {},
   "outputs": [
    {
     "name": "stdout",
     "output_type": "stream",
     "text": [
      "A similar balloon was shot down in US airspace by military jets on Saturday amid allegations that it was being used for surveillance. On Monday, China admitted an aircraft had \"accidentally entered Latin American and Caribbean airspace\". Ms Mao told reporters the second balloon had \"deviated greatly\" from its intended route, citing the aircraft's \"limited manoeuvrability\" and the weather conditions. At the weekend, Colombia's air force said an object with \"characteristics similar to those of a balloon\" had been detected on 3 February in the country's airspace at above 55,000ft. Meanwhile, work by US Navy divers continues to recover the wreckage of the surveillance balloon that was shot down off the coast of South Carolina on Saturday. US President Joe Biden first approved the plan to bring down the balloon on Wednesday, but decided to wait until it was over water so as not to put people on the ground at risk. Adm Mike Mullen, former chair of the US Joint Chiefs of Staff, rejected China's suggestion it might have blown off course, saying it was manoeuvrable because \"it has propellers on it\". A planned trip by Secretary of State Antony Blinken to China was cancelled as a result of the row.\n"
     ]
    }
   ],
   "source": [
    "s3 = get_summary(story_3, 8)\n",
    "full_sum += s3\n",
    "print(s3)"
   ]
  },
  {
   "cell_type": "code",
   "execution_count": 126,
   "id": "2a7a1073",
   "metadata": {},
   "outputs": [
    {
     "name": "stdout",
     "output_type": "stream",
     "text": [
      "“Affected by the weather and with limited self-steering capability, the airship deviated far from its planned course and entered into the airspace of Latin America and the Caribbean,” a spokeswoman for China’s foreign ministry, Mao Ning, said at a news conference on Monday. The Colombian Air Force said it had tracked the object until it left the country’s airspace, adding that officials determined it did not pose a threat to national security and were investigating its origin. On Sunday, the Venezuelan Ministry of Foreign Affairs, referring to the U.S. decision to shoot down the balloon, said the government “rejects the attack by the United States against a civilian unmanned aircraft of Chinese origin.” In a statement, the Venezuelan government said, “Once again, the United States resorts to the use of force, instead of treating this situation with the seriousness and responsibility that the case deserves.” President Nicolás Maduro of Venezuela has recently proposed establishing a new international bloc of Latin American and Caribbean countries and referred to Presidents Xi Jinping of China and Vladimir V. Putin of Russia as each being an “older brother.” Editors’ Picks A Secret for Falling Asleep So Good It’s a British National Treasure When a Visit to the Museum Becomes an Ethical Dilemma Is That the Enticing Smell of Spaghetti Cooking? The balloon “seriously deviated” from its planned course and entered the skies over Latin America and the Caribbean “by mistake” due to weather conditions and limited control ability over the craft, Chinese foreign ministry spokesperson Mao Ning said in a regular press briefing on Monday. We have informed all relevant parties and appropriately handled the situation, which did not pose any threats to any countries,” Mao said, adding that all parties “expressed their understanding.” The Colombian Air Force and Costa Rica’s Civil Aviation Authority both confirmed that a white observation balloon similar to the one spotted over the US was tracked in their airspace last week, though they did not attribute the vessel to China.A similar balloon was shot down in US airspace by military jets on Saturday amid allegations that it was being used for surveillance. Ms Mao told reporters the second balloon had \"deviated greatly\" from its intended route, citing the aircraft's \"limited manoeuvrability\" and the weather conditions. Meanwhile, work by US Navy divers continues to recover the wreckage of the surveillance balloon that was shot down off the coast of South Carolina on Saturday. US President Joe Biden first approved the plan to bring down the balloon on Wednesday, but decided to wait until it was over water so as not to put people on the ground at risk.\n"
     ]
    }
   ],
   "source": [
    "full_sum_comp = get_summary(full_sum, 8)\n",
    "print(full_sum_comp)"
   ]
  },
  {
   "cell_type": "code",
   "execution_count": 130,
   "id": "cf97c2a7",
   "metadata": {},
   "outputs": [
    {
     "data": {
      "text/plain": [
       "[('the colombian national air defense system', 'ORG'),\n",
       " ('nicolás maduro', 'PERSON'),\n",
       " ('civil aviation authority', 'ORG'),\n",
       " ('caribbean', 'LOC'),\n",
       " ('the united states', 'GPE'),\n",
       " ('mao', 'PERSON'),\n",
       " ('wednesday', 'DATE'),\n",
       " ('above 55,000', 'CARDINAL'),\n",
       " ('latin america', 'LOC'),\n",
       " ('over 55,000 feet', 'QUANTITY'),\n",
       " ('beijing', 'GPE'),\n",
       " ('chinese', 'NORP'),\n",
       " ('mao ning', 'PERSON'),\n",
       " ('british', 'NORP'),\n",
       " ('us', 'GPE'),\n",
       " ('saturday', 'DATE'),\n",
       " ('the weekend', 'DATE'),\n",
       " ('first', 'ORDINAL'),\n",
       " ('monday', 'DATE'),\n",
       " ('the museum becomes an ethical dilemma is that the enticing smell', 'ORG'),\n",
       " ('american', 'NORP'),\n",
       " ('reuters', 'ORG'),\n",
       " ('cold war', 'EVENT'),\n",
       " ('china', 'GPE'),\n",
       " ('south carolina', 'GPE'),\n",
       " ('u.s.', 'GPE'),\n",
       " ('two', 'CARDINAL'),\n",
       " ('joe biden', 'PERSON'),\n",
       " ('adm mike mullen', 'PERSON'),\n",
       " ('state', 'ORG'),\n",
       " ('costa rica’s', 'GPE'),\n",
       " ('russia', 'GPE'),\n",
       " ('days', 'DATE'),\n",
       " ('brig', 'PERSON'),\n",
       " ('the colombian air force', 'ORG'),\n",
       " ('february 4, 2023', 'DATE'),\n",
       " ('the us joint chiefs of staff', 'ORG'),\n",
       " ('colombia', 'GPE'),\n",
       " ('elda cantú', 'PERSON'),\n",
       " ('mexico city', 'GPE'),\n",
       " ('the last week', 'DATE'),\n",
       " ('sunday', 'DATE'),\n",
       " ('the venezuelan ministry of foreign affairs', 'ORG'),\n",
       " ('last week', 'DATE'),\n",
       " ('ms mao', 'PERSON'),\n",
       " ('venezuela', 'GPE'),\n",
       " ('antony blinken', 'PERSON'),\n",
       " ('vladimir v. putin', 'PERSON'),\n",
       " ('cnn', 'ORG'),\n",
       " ('25', 'CARDINAL'),\n",
       " ('second', 'ORDINAL'),\n",
       " ('friday', 'DATE'),\n",
       " ('3 february', 'DATE'),\n",
       " ('surfside beach', 'GPE'),\n",
       " ('venezuelan', 'NORP'),\n",
       " ('morning', 'TIME')]"
      ]
     },
     "execution_count": 130,
     "metadata": {},
     "output_type": "execute_result"
    }
   ],
   "source": [
    "full_sum_ents = text_to_ents(full_sum)\n",
    "full_sum_ents"
   ]
  },
  {
   "cell_type": "code",
   "execution_count": 159,
   "id": "4bf51868",
   "metadata": {},
   "outputs": [
    {
     "name": "stdout",
     "output_type": "stream",
     "text": [
      "{\n",
      "  \"completion_tokens\": 693,\n",
      "  \"prompt_tokens\": 1042,\n",
      "  \"total_tokens\": 1735\n",
      "}\n"
     ]
    },
    {
     "data": {
      "text/plain": [
       "'\\nIt had all started the Wednesday morning, when military personnel from the Colombian National Air Defense System first tracked a white observation balloon soaring through the skies at a height of over 55,000 feet. The Colombian authorities alerted the Civil Aviation Authority in neighboring Costa Rica, who were quick to take on the responsibility of monitoring the air-borne craft and reporting its trajectory when it came within a few miles of their own airspace. \\n\\nFor the better part of the week, the balloon’s journey remained largely unrestricted and unquestioned. That was until last Friday morning, when the US Joint Chiefs of Staff took note and identified the mysterious vessel as a Chinese craft. There had been simmering tensions between China and the United States over both economic and political issues that had reached another boiling point due to the US’s decision to enforce sanctions on Chinese companies in the lead up to the next Cold War. \\n\\nChinese foreign ministry spokesperson Mao Ning was quick to respond to the US’s accusations. In a news conference on Monday she explained that the balloon had “seriously deviated” from its planned course, citing the limited control ability over the craft due to unfavorable weather conditions. Furthermore, the spokeswoman added that China had “informed all relevant parties and appropriately handled the situation, which did not pose any threats to any countries.” This was quickly backed up by statements from the Colombian Air Force, the Venezuelan Ministry of Foreign Affairs, and the Costa Rican Civil Aviation Authority, all of whom had tracked the object and explicitly stated that it posed no danger to national security. \\n\\nThe following day, US President Joe Biden authorized the shooting down of the craft, despite vehement protests from its creator, Chinese President Xi Jinping. In a statement released by the White House, military advisor Admiral Mike Mullen declared the craft to have been on a clear mission to perform surveillance of US airspace and thus posed a direct threat to national security. \\n\\nBut late Sunday night, Venezuela’s President Nicolás Maduro, who had only recently proposed establishing a new international bloc of Latin American and Caribbean countries, strongly condemned the US’s decision to bring down the balloon, claiming that the US government had “once again resorted to the use of force, instead of treating this situation with the seriousness and responsibility that the case deserves.” He further referred to the Presidents Xi Jinping of China and Vladimir V. Putin of Russia as the “older brothers”, implying an even stronger alliance between the three countries than ever before.\\n\\nThe White House, however, remained adamant in its stance that the incident had required military action for the safety and security of the US. “Given the nature of the observation craft,” stated White House Press Secretary Elda Cantú, “and the lack of a response from the Beijing government, the President made the decision to cause it no harm and ensure that it be safely taken out of the air by Navy divers near the coast of Mexico City.” \\n\\nSo, on the morning of February 4th, 2023, US Navy divers showed up to the site of the shooting 3 days earlier, near the town of Surfside Beach in South Carolina, and began their task of recovering the wreckage of the surveillance balloon. What began as the white observation balloon soaring through the skies above the Caribbean and Latin America, had now been brought to an abrupt end.'"
      ]
     },
     "execution_count": 159,
     "metadata": {},
     "output_type": "execute_result"
    }
   ],
   "source": [
    "new_story_summary_from_sums = generate_story([\n",
    "    'https://www.nytimes.com/2023/02/06/world/americas/chinese-balloon-latin-america-colombia.html',\n",
    "    'https://www.cnn.com/2023/02/06/asia/china-balloon-latin-america-intl/index.html',\n",
    "    'https://www.bbc.com/news/world-64537098'\n",
    "], full_sum_ents, full_sum_comp)\n",
    "new_story_summary_from_sums"
   ]
  },
  {
   "cell_type": "code",
   "execution_count": 160,
   "id": "4d9cda06",
   "metadata": {},
   "outputs": [
    {
     "name": "stdout",
     "output_type": "stream",
     "text": [
      "\n",
      "It had all started the Wednesday morning, when military personnel from the Colombian National Air Defense System first tracked a white observation balloon soaring through the skies at a height of over 55,000 feet. The Colombian authorities alerted the Civil Aviation Authority in neighboring Costa Rica, who were quick to take on the responsibility of monitoring the air-borne craft and reporting its trajectory when it came within a few miles of their own airspace. \n",
      "\n",
      "For the better part of the week, the balloon’s journey remained largely unrestricted and unquestioned. That was until last Friday morning, when the US Joint Chiefs of Staff took note and identified the mysterious vessel as a Chinese craft. There had been simmering tensions between China and the United States over both economic and political issues that had reached another boiling point due to the US’s decision to enforce sanctions on Chinese companies in the lead up to the next Cold War. \n",
      "\n",
      "Chinese foreign ministry spokesperson Mao Ning was quick to respond to the US’s accusations. In a news conference on Monday she explained that the balloon had “seriously deviated” from its planned course, citing the limited control ability over the craft due to unfavorable weather conditions. Furthermore, the spokeswoman added that China had “informed all relevant parties and appropriately handled the situation, which did not pose any threats to any countries.” This was quickly backed up by statements from the Colombian Air Force, the Venezuelan Ministry of Foreign Affairs, and the Costa Rican Civil Aviation Authority, all of whom had tracked the object and explicitly stated that it posed no danger to national security. \n",
      "\n",
      "The following day, US President Joe Biden authorized the shooting down of the craft, despite vehement protests from its creator, Chinese President Xi Jinping. In a statement released by the White House, military advisor Admiral Mike Mullen declared the craft to have been on a clear mission to perform surveillance of US airspace and thus posed a direct threat to national security. \n",
      "\n",
      "But late Sunday night, Venezuela’s President Nicolás Maduro, who had only recently proposed establishing a new international bloc of Latin American and Caribbean countries, strongly condemned the US’s decision to bring down the balloon, claiming that the US government had “once again resorted to the use of force, instead of treating this situation with the seriousness and responsibility that the case deserves.” He further referred to the Presidents Xi Jinping of China and Vladimir V. Putin of Russia as the “older brothers”, implying an even stronger alliance between the three countries than ever before.\n",
      "\n",
      "The White House, however, remained adamant in its stance that the incident had required military action for the safety and security of the US. “Given the nature of the observation craft,” stated White House Press Secretary Elda Cantú, “and the lack of a response from the Beijing government, the President made the decision to cause it no harm and ensure that it be safely taken out of the air by Navy divers near the coast of Mexico City.” \n",
      "\n",
      "So, on the morning of February 4th, 2023, US Navy divers showed up to the site of the shooting 3 days earlier, near the town of Surfside Beach in South Carolina, and began their task of recovering the wreckage of the surveillance balloon. What began as the white observation balloon soaring through the skies above the Caribbean and Latin America, had now been brought to an abrupt end.\n"
     ]
    }
   ],
   "source": [
    "print(new_story_summary_from_sums)"
   ]
  },
  {
   "cell_type": "code",
   "execution_count": 161,
   "id": "b2a56895",
   "metadata": {},
   "outputs": [
    {
     "name": "stdout",
     "output_type": "stream",
     "text": [
      "{\n",
      "  \"completion_tokens\": 641,\n",
      "  \"prompt_tokens\": 1552,\n",
      "  \"total_tokens\": 2193\n",
      "}\n"
     ]
    },
    {
     "data": {
      "text/plain": [
       "'\\nOn Saturday, the Colombian National Air Defense System detected a mysterious object entering the northern part of its airspace. The object had characteristics similar to a balloon and was moving at an altitude of over 55,000 feet and an average speed of 25 knots. Colombia immediately contacted its neighbor countries of Latin America and the Caribbean to notify them of the object, prompting the United States to take action and shoot down the suspected Chinese spy balloon.\\n\\nThe incident did not go unnoticed by Nicolás Maduro, the President of Venezuela, who quickly proposed a new international bloc of Latin American and Caribbean countries with Xi Jinping of China and Vladimir V. Putin of Russia as \"older brothers\". A spokeswoman for China\\'s foreign ministry, Mao Ning, chimed in as well, telling reporters at a news conference that the Chinese government had informed relevant officials about the balloon before it entered Latin American airspace, and that the U.S. had a clear “overreaction” to the situation.\\n\\nFast forward to Monday, Mao confirmed that the balloon was indeed of Chinese origin, as it had \"seriously deviated\" from its planned course and entered the airspace of Latin America and the Caribbean “by mistake” due to weather conditions and limited control ability over the craft. She also reaffirmed that the balloon \"did not pose any threats to any countries\".\\n\\nThe U.S. government soon responded with full force, as President Joe Biden had approved the plan to shoot down the balloon as early as Wednesday, with the intention to do so when it was over water in order to avoid putting people on the ground at risk. Adm Mike Mullen of the US Joint Chiefs of Staff quickly rejected China\\'s suggestion that it might have blown off course, pointing out that it has \"propellers on it\".\\n\\nThe wreckage of the balloon continued to be collected by US Navy divers over the weekend, while a planned trip by Secretary of State Antony Blinken to China was canceled due to the escalating tension between the two countries. Costa Rica\\'s Civil Aviation Authority and the Colombian Air Force both confirmed that a white observation balloon similar to the one spotted over the US was tracked in their airspace last week, though they did not attribute the vessel to China.\\n\\nGiven the opportunity, the Venezuelan Ministry of Foreign Affairs was quick to criticize the US, saying “Once again, the United States resorts to the use of force, instead of treating this situation with the seriousness and responsibility that the case deserves”.\\n\\nIt wasn\\'t until later on Monday that Beijing admitted the aircraft had \"accidentally entered Latin American and Caribbean airspace\", and Mao made it clear that China abides by international law and did not pose any threats to any countries with the balloon. She also expressed her disappointment with the U.S.\\'s \"clear overreaction\" to the situation.\\n\\nSince then, the U.S. government has been unable to comment on the matter, due to the rising tensions between the two countries. Even as of today, we can only look to China and Latin America for news about the situation, as the U.S. continues to gather information and analyze the incident.'"
      ]
     },
     "execution_count": 161,
     "metadata": {},
     "output_type": "execute_result"
    }
   ],
   "source": [
    "new_story_from_sums_stacked = generate_story([\n",
    "    'https://www.nytimes.com/2023/02/06/world/americas/chinese-balloon-latin-america-colombia.html',\n",
    "    'https://www.cnn.com/2023/02/06/asia/china-balloon-latin-america-intl/index.html',\n",
    "    'https://www.bbc.com/news/world-64537098'\n",
    "], full_sum_ents, full_sum)\n",
    "new_story_from_sums_stacked"
   ]
  },
  {
   "cell_type": "code",
   "execution_count": 163,
   "id": "6427bd87",
   "metadata": {},
   "outputs": [
    {
     "data": {
      "text/html": [
       "Waiting for W&B process to finish... <strong style=\"color:green\">(success).</strong>"
      ],
      "text/plain": [
       "<IPython.core.display.HTML object>"
      ]
     },
     "metadata": {},
     "output_type": "display_data"
    },
    {
     "data": {
      "text/html": [
       " View run <strong style=\"color:#cdcd00\">resplendent-darling-36</strong> at: <a href='https://wandb.ai/heywire/HeywireAI/runs/ccifavcq' target=\"_blank\">https://wandb.ai/heywire/HeywireAI/runs/ccifavcq</a><br/>Synced 5 W&B file(s), 1 media file(s), 1 artifact file(s) and 0 other file(s)"
      ],
      "text/plain": [
       "<IPython.core.display.HTML object>"
      ]
     },
     "metadata": {},
     "output_type": "display_data"
    },
    {
     "data": {
      "text/html": [
       "Find logs at: <code>.\\wandb\\run-20230215_142817-ccifavcq\\logs</code>"
      ],
      "text/plain": [
       "<IPython.core.display.HTML object>"
      ]
     },
     "metadata": {},
     "output_type": "display_data"
    }
   ],
   "source": [
    "wandb.log({'predictions': prediction_table})\n",
    "wandb.finish()"
   ]
  },
  {
   "cell_type": "code",
   "execution_count": 162,
   "id": "dd3f37d2",
   "metadata": {},
   "outputs": [
    {
     "name": "stdout",
     "output_type": "stream",
     "text": [
      "\n",
      "On Saturday, the Colombian National Air Defense System detected a mysterious object entering the northern part of its airspace. The object had characteristics similar to a balloon and was moving at an altitude of over 55,000 feet and an average speed of 25 knots. Colombia immediately contacted its neighbor countries of Latin America and the Caribbean to notify them of the object, prompting the United States to take action and shoot down the suspected Chinese spy balloon.\n",
      "\n",
      "The incident did not go unnoticed by Nicolás Maduro, the President of Venezuela, who quickly proposed a new international bloc of Latin American and Caribbean countries with Xi Jinping of China and Vladimir V. Putin of Russia as \"older brothers\". A spokeswoman for China's foreign ministry, Mao Ning, chimed in as well, telling reporters at a news conference that the Chinese government had informed relevant officials about the balloon before it entered Latin American airspace, and that the U.S. had a clear “overreaction” to the situation.\n",
      "\n",
      "Fast forward to Monday, Mao confirmed that the balloon was indeed of Chinese origin, as it had \"seriously deviated\" from its planned course and entered the airspace of Latin America and the Caribbean “by mistake” due to weather conditions and limited control ability over the craft. She also reaffirmed that the balloon \"did not pose any threats to any countries\".\n",
      "\n",
      "The U.S. government soon responded with full force, as President Joe Biden had approved the plan to shoot down the balloon as early as Wednesday, with the intention to do so when it was over water in order to avoid putting people on the ground at risk. Adm Mike Mullen of the US Joint Chiefs of Staff quickly rejected China's suggestion that it might have blown off course, pointing out that it has \"propellers on it\".\n",
      "\n",
      "The wreckage of the balloon continued to be collected by US Navy divers over the weekend, while a planned trip by Secretary of State Antony Blinken to China was canceled due to the escalating tension between the two countries. Costa Rica's Civil Aviation Authority and the Colombian Air Force both confirmed that a white observation balloon similar to the one spotted over the US was tracked in their airspace last week, though they did not attribute the vessel to China.\n",
      "\n",
      "Given the opportunity, the Venezuelan Ministry of Foreign Affairs was quick to criticize the US, saying “Once again, the United States resorts to the use of force, instead of treating this situation with the seriousness and responsibility that the case deserves”.\n",
      "\n",
      "It wasn't until later on Monday that Beijing admitted the aircraft had \"accidentally entered Latin American and Caribbean airspace\", and Mao made it clear that China abides by international law and did not pose any threats to any countries with the balloon. She also expressed her disappointment with the U.S.'s \"clear overreaction\" to the situation.\n",
      "\n",
      "Since then, the U.S. government has been unable to comment on the matter, due to the rising tensions between the two countries. Even as of today, we can only look to China and Latin America for news about the situation, as the U.S. continues to gather information and analyze the incident.\n"
     ]
    }
   ],
   "source": [
    "print(new_story_from_sums_stacked)"
   ]
  },
  {
   "cell_type": "code",
   "execution_count": 98,
   "id": "f6747533",
   "metadata": {},
   "outputs": [],
   "source": [
    "bass2 = \"\"\"\n",
    "Kamala Harris to swear in Karen Bass as first female mayor of Los Angeles\n",
    "Vice President Kamala Harris will swear in Karen Bass as the 43rd mayor of Los Angeles in an inauguration ceremony on Sunday in a meeting of two Democratic women who have broken barriers in politics.\n",
    "Bass will make history as the first female mayor of Los Angeles, also making her the first woman of color to hold the job. Harris, just the second-ever Black female US senator, made history when she became the first female, first Black and first South Asian person to serve as vice president.\n",
    "Bass, who will succeed term-limited Mayor Eric Garcetti, will begin her mayoral term on December 12. When she takes office, the four largest cities in the US will all have Black mayors – that includes Eric Adams of New York City, Lori Lightfoot of Chicago and Sylvester Turner of Houston.\n",
    "Bass, who was elected to the California state Assembly in 2004, made history some four years later as the first Black woman to serve as speaker of any state legislature.\n",
    "Bass alluded to her history of firsts shortly after winning her race when she told reporters that the accomplishment of becoming the first female mayor of Los Angeles was still “sinking in.”\n",
    "“When you’re in a position like this – and I was in a similar position when I was sworn in as speaker – it means that you have extra responsibility. You always have to make sure that you maintain excellence in every step of the way,” Bass said. “The path that you go is laying the foundation for those that come behind you.”\n",
    "After her victory, Bass promised to solve the homelessness crisis in the nation’s second-largest city.\n",
    "“She is holding her inaugural ceremony on Sunday to make it easier for Angelenos to attend and to ensure her first day as mayor is dedicated to bringing unhoused Angelenos inside and making our city safer and more livable for all,” the mayor-elect’s office said in a statement announcing the ceremony.\n",
    "The six-term congresswoman, who currently represents South and West Los Angeles, defeated real estate developer Rick Caruso in the general election last month. Caruso had spent more than $104 million – outspending his opponent by more than 11-to-1.\n",
    "During her campaign, Bass leaned into her experience bringing together Black and Latino community organizers in South Los Angeles in the early 1990s to address the root causes of crime and the crack epidemic. She was able to put together a winning coalition of Black voters in South Los Angeles and White progressives on the city’s west side to help overcome Caruso’s spending.\n",
    "The mayor-elect began her career as a physician assistant in the emergency room in Los Angeles County.\n",
    "Joe Biden had vetted Bass, the then-chair of the Congressional Black Caucus, to be his running mate in 2020 as she helped lead the negotiations on legislation to create greater police accountability following the police killing of George Floyd in Minneapolis.\n",
    "\"\"\""
   ]
  },
  {
   "cell_type": "code",
   "execution_count": 99,
   "id": "94d25a12",
   "metadata": {},
   "outputs": [
    {
     "name": "stdout",
     "output_type": "stream",
     "text": [
      "Kamala Harris to swear in Karen Bass as first female mayor of Los Angeles Vice President Kamala Harris will swear in Karen Bass as the 43rd mayor of Los Angeles in an inauguration ceremony on Sunday in a meeting of two Democratic women who have broken barriers in politics. Bass alluded to her history of firsts shortly after winning her race when she told reporters that the accomplishment of becoming the first female mayor of Los Angeles was still “sinking in.” “When you’re in a position like this – and I was in a similar position when I was sworn in as speaker – it means that you have extra responsibility. “The path that you go is laying the foundation for those that come behind you.” After her victory, Bass promised to solve the homelessness crisis in the nation’s second-largest city. “She is holding her inaugural ceremony on Sunday to make it easier for Angelenos to attend and to ensure her first day as mayor is dedicated to bringing unhoused Angelenos inside and making our city safer and more livable for all,” the mayor-elect’s office said in a statement announcing the ceremony. The six-term congresswoman, who currently represents South and West Los Angeles, defeated real estate developer Rick Caruso in the general election last month. During her campaign, Bass leaned into her experience bringing together Black and Latino community organizers in South Los Angeles in the early 1990s to address the root causes of crime and the crack epidemic. She was able to put together a winning coalition of Black voters in South Los Angeles and White progressives on the city’s west side to help overcome Caruso’s spending. The mayor-elect began her career as a physician assistant in the emergency room in Los Angeles County.\n"
     ]
    }
   ],
   "source": [
    "b2 = get_summary(bass2, 8)\n",
    "print(b2)"
   ]
  },
  {
   "cell_type": "code",
   "execution_count": 100,
   "id": "e2ff8316",
   "metadata": {},
   "outputs": [],
   "source": [
    "bass3 = \"\"\"\n",
    "Karen Bass sworn in as LA's 43rd mayor in historic inauguration\n",
    "Karen Bass has been sworn in as the 43rd Mayor of Los Angeles in a historic inauguration at the Microsoft Theater. \n",
    "The ceremony got underway at 1 p.m. with early arrival encouraged and masks required for attendees. The ceremony was initially scheduled to take place outside of City Hall, but due to the rain, was moved indoors. \n",
    "Instead of being sworn in on City Hall's steps as tradition would have it, the city adapted to the powerful storm moving through the area, posting the letters \"LA\" in the mold of the LAX sign to her right and a picture of the Spring Street City Hall steps behind the stage.\n",
    "Ready to get down to business, Bass said she would spend her first day in office declaring a state of emergency on the homeless issue plaguing the city. \n",
    "\"I will start my first day as mayor at the city's emergency operations centers, where my first act as mayor will be to declare a state of emergency on homelessness,\" Bass said, noting that she will \"recognize the severity of our crisis and break new ground to maximize our ability to urgently move people inside, and do so for good.\"\n",
    "She plans to house 17,000 people in her first year in office, hoping to \"welcome housing to every neighborhood.\"\n",
    "\"We know our mission: We must build housing in every neighborhood,\" she said. \"We cannot continue to overcrowd neighborhoods that are already overcrowded.\"\n",
    "Bass also touched on another pressing issue facing her in her first day as mayor. \n",
    "\"Of course, we must stop crimes in progress and hold people accountable,\" Bass said. \"Some neighborhoods have asked for additional officers, and we will deliver. But what neighborhoods are asking for and what they need is as diverse as our city.\"\n",
    "Dozens of prominent politicians were in attendance for the inauguration, including California State Senate President pro-tempore Toni Atkins, Los Angeles County Democratic Party Chairman Mark Gonzalez and Governor Gavin Newsom.\n",
    "\"Making history with each of you today is a monumental moment in my life and for Los Angeles,\" Bass said during her speech.\n",
    "Additionally, Stevie Wonder sang for the crowd, performing \"Living for the City\" and \"Keeping Our Love Alive.\" Chloe Bailey and Los Cafeteras also performed. \n",
    "Bass, 69, was a social worker and community activist before representing Los Angeles in the state Assembly for six years, where she also served as the first African American speaker. \n",
    "In 2010, she was elected to Congress and served Los Angeles before coming back home and becoming the first Black female mayor of Los Angeles. \n",
    "\"I believe that times of inflection require reflection — I believe, it's time for Angelenos to remind ourselves where we come from and who we are,\" she said.\n",
    "She takes over in a time of turmoil, as the Los Angeles City Council struggles to conduct business through a racially-charged scandal involving several prominent members, but also at a time of hope, as the council will hold more women than ever before after the five newest members swore in over the weekend. \n",
    "Council President Paul Krekorian spoke at the event, predicting that Bass is just the leader the city of Los Angeles needs to bring people together. \n",
    "\"This is a time of unprecedented challenges in our city, but today as I look out at this audience and see the people with us, I know that this is also a time of unprecedented opportunity,\" Krekorian said.\n",
    "Bass will replace fellow Democrat Eric Garcetti, who came to the end of two mayoral terms on Saturday. He now awaits further plans pending his nomination to become U.S. ambassador to India, which has hit a snag due to opposition from some on Senate, concerned with sexual misconduct allegations against a former Garcetti staff member.\n",
    "Bass was named mayor-elect in November after a close race with her competitor Rick Caruso, the billionaire developer who spent more than $100 million on his campaign. \n",
    "\"\"\""
   ]
  },
  {
   "cell_type": "code",
   "execution_count": 101,
   "id": "32e80b6b",
   "metadata": {},
   "outputs": [
    {
     "name": "stdout",
     "output_type": "stream",
     "text": [
      "The ceremony was initially scheduled to take place outside of City Hall, but due to the rain, was moved indoors. Ready to get down to business, Bass said she would spend her first day in office declaring a state of emergency on the homeless issue plaguing the city. \"I will start my first day as mayor at the city's emergency operations centers, where my first act as mayor will be to declare a state of emergency on homelessness,\" Bass said, noting that she will \"recognize the severity of our crisis and break new ground to maximize our ability to urgently move people inside, and do so for good.\" Dozens of prominent politicians were in attendance for the inauguration, including California State Senate President pro-tempore Toni Atkins, Los Angeles County Democratic Party Chairman Mark Gonzalez and Governor Gavin Newsom. Bass, 69, was a social worker and community activist before representing Los Angeles in the state Assembly for six years, where she also served as the first African American speaker. Council President Paul Krekorian spoke at the event, predicting that Bass is just the leader the city of Los Angeles needs to bring people together. He now awaits further plans pending his nomination to become U.S. ambassador to India, which has hit a snag due to opposition from some on Senate, concerned with sexual misconduct allegations against a former Garcetti staff member. Bass was named mayor-elect in November after a close race with her competitor Rick Caruso, the billionaire developer who spent more than $100 million on his campaign.\n"
     ]
    }
   ],
   "source": [
    "b3 = get_summary(bass3, 8)\n",
    "print(b3)"
   ]
  },
  {
   "cell_type": "code",
   "execution_count": 103,
   "id": "4baf4dcc",
   "metadata": {},
   "outputs": [
    {
     "data": {
      "text/plain": [
       "\"The emergency declaration will ``recognize the severity of our crisis and break new ground to maximize our ability to urgently move people inside, and do so for good. Sunday's ceremony was initially scheduled to take place outside City Hall, but rain in the forecast led to a venue shift indoors. Surprise performers at the inauguration included Stevie Wonder, who sang ``Keep Our Love Alive'' and ``Living for the City,'' and Chloe Bailey and Las Cafeteras. Amanda Gorman, the first National Youth Poet Laureate, who also delivered a poem at President Joe Biden's inauguration, said in her reading Sunday that ``the time of never before is officially past.'' Bass' father fled the Jim Crow south during the great African American migration after World War II and found work as a letter carrier. ``When I think about the dreams of working people today, I reflect on the fact that my mother and father were able to buy a home in Los Angeles for their family of six with one paycheck,'' Bass said. Bass' organizing career began in 1990 when she founded Community Coalition, a South Los Angeles social justice group in response to the crack cocaine crisis. State Senate President pro-Tempore Toni Atkins said that Bass didn't run for mayor for ``credit or photo-opps.''\""
      ]
     },
     "execution_count": 103,
     "metadata": {},
     "output_type": "execute_result"
    }
   ],
   "source": [
    "bass1 = url_to_string('https://socalnews.com/la-story-3.html')\n",
    "b1 = get_summary(bass1, 8)\n",
    "b1"
   ]
  },
  {
   "cell_type": "code",
   "execution_count": 107,
   "id": "309cdfc3",
   "metadata": {},
   "outputs": [
    {
     "name": "stdout",
     "output_type": "stream",
     "text": [
      "The emergency declaration will ``recognize the severity of our crisis and break new ground to maximize our ability to urgently move people inside, and do so for good. Sunday's ceremony was initially scheduled to take place outside City Hall, but rain in the forecast led to a venue shift indoors. Surprise performers at the inauguration included Stevie Wonder, who sang ``Keep Our Love Alive'' and ``Living for the City,'' and Chloe Bailey and Las Cafeteras. Amanda Gorman, the first National Youth Poet Laureate, who also delivered a poem at President Joe Biden's inauguration, said in her reading Sunday that ``the time of never before is officially past.'' Bass' father fled the Jim Crow south during the great African American migration after World War II and found work as a letter carrier. ``When I think about the dreams of working people today, I reflect on the fact that my mother and father were able to buy a home in Los Angeles for their family of six with one paycheck,'' Bass said. Bass' organizing career began in 1990 when she founded Community Coalition, a South Los Angeles social justice group in response to the crack cocaine crisis. State Senate President pro-Tempore Toni Atkins said that Bass didn't run for mayor for ``credit or photo-opps.''Kamala Harris to swear in Karen Bass as first female mayor of Los Angeles Vice President Kamala Harris will swear in Karen Bass as the 43rd mayor of Los Angeles in an inauguration ceremony on Sunday in a meeting of two Democratic women who have broken barriers in politics. Bass alluded to her history of firsts shortly after winning her race when she told reporters that the accomplishment of becoming the first female mayor of Los Angeles was still “sinking in.” “When you’re in a position like this – and I was in a similar position when I was sworn in as speaker – it means that you have extra responsibility. “The path that you go is laying the foundation for those that come behind you.” After her victory, Bass promised to solve the homelessness crisis in the nation’s second-largest city. “She is holding her inaugural ceremony on Sunday to make it easier for Angelenos to attend and to ensure her first day as mayor is dedicated to bringing unhoused Angelenos inside and making our city safer and more livable for all,” the mayor-elect’s office said in a statement announcing the ceremony. The six-term congresswoman, who currently represents South and West Los Angeles, defeated real estate developer Rick Caruso in the general election last month. During her campaign, Bass leaned into her experience bringing together Black and Latino community organizers in South Los Angeles in the early 1990s to address the root causes of crime and the crack epidemic. She was able to put together a winning coalition of Black voters in South Los Angeles and White progressives on the city’s west side to help overcome Caruso’s spending. The mayor-elect began her career as a physician assistant in the emergency room in Los Angeles County.The ceremony was initially scheduled to take place outside of City Hall, but due to the rain, was moved indoors. Ready to get down to business, Bass said she would spend her first day in office declaring a state of emergency on the homeless issue plaguing the city. \"I will start my first day as mayor at the city's emergency operations centers, where my first act as mayor will be to declare a state of emergency on homelessness,\" Bass said, noting that she will \"recognize the severity of our crisis and break new ground to maximize our ability to urgently move people inside, and do so for good.\" Dozens of prominent politicians were in attendance for the inauguration, including California State Senate President pro-tempore Toni Atkins, Los Angeles County Democratic Party Chairman Mark Gonzalez and Governor Gavin Newsom. Bass, 69, was a social worker and community activist before representing Los Angeles in the state Assembly for six years, where she also served as the first African American speaker. Council President Paul Krekorian spoke at the event, predicting that Bass is just the leader the city of Los Angeles needs to bring people together. He now awaits further plans pending his nomination to become U.S. ambassador to India, which has hit a snag due to opposition from some on Senate, concerned with sexual misconduct allegations against a former Garcetti staff member. Bass was named mayor-elect in November after a close race with her competitor Rick Caruso, the billionaire developer who spent more than $100 million on his campaign.\n"
     ]
    }
   ],
   "source": [
    "bass_sums_stacked = b1 + b2 + b3\n",
    "print(bass_sums_stacked)"
   ]
  },
  {
   "cell_type": "code",
   "execution_count": 106,
   "id": "14fb6186",
   "metadata": {},
   "outputs": [
    {
     "data": {
      "text/plain": [
       "\"Amanda Gorman, the first National Youth Poet Laureate, who also delivered a poem at President Joe Biden's inauguration, said in her reading Sunday that ``the time of never before is officially past.'' Bass' father fled the Jim Crow south during the great African American migration after World War II and found work as a letter carrier. Bass' organizing career began in 1990 when she founded Community Coalition, a South Los Angeles social justice group in response to the crack cocaine crisis. During her campaign, Bass leaned into her experience bringing together Black and Latino community organizers in South Los Angeles in the early 1990s to address the root causes of crime and the crack epidemic. The mayor-elect began her career as a physician assistant in the emergency room in Los Angeles County.The ceremony was initially scheduled to take place outside of City Hall, but due to the rain, was moved indoors. Dozens of prominent politicians were in attendance for the inauguration, including California State Senate President pro-tempore Toni Atkins, Los Angeles County Democratic Party Chairman Mark Gonzalez and Governor Gavin Newsom. Bass, 69, was a social worker and community activist before representing Los Angeles in the state Assembly for six years, where she also served as the first African American speaker. He now awaits further plans pending his nomination to become U.S. ambassador to India, which has hit a snag due to opposition from some on Senate, concerned with sexual misconduct allegations against a former Garcetti staff member.\""
      ]
     },
     "execution_count": 106,
     "metadata": {},
     "output_type": "execute_result"
    }
   ],
   "source": [
    "bass_sum_from_sums = get_summary(b1 + b2 + b3, 8)\n",
    "bass_sum_from_sums"
   ]
  },
  {
   "cell_type": "code",
   "execution_count": 168,
   "id": "8d90a09b",
   "metadata": {},
   "outputs": [
    {
     "name": "stdout",
     "output_type": "stream",
     "text": [
      "{\n",
      "  \"completion_tokens\": 740,\n",
      "  \"prompt_tokens\": 1650,\n",
      "  \"total_tokens\": 2390\n",
      "}\n"
     ]
    },
    {
     "data": {
      "text/plain": [
       "'\\nIt was just days before Karen Bass\\' mayoral inauguration ceremony when the Los Angeles City council voted to make her the first female mayor of the City of Los Angeles. The 69-year-old Bass had first broken into politics nearly a decade before as a member of the California State legislature, representing the Los Angeles County. On Sunday, January 14, 2022, history would be made as she became the 43rd mayor of Los Angeles.\\n\\nThe ceremony was scheduled to take place at City Hall, but due to bad weather it was shifted indoors to the Microsoft Theater. A confirmed list of guests included Vice President Kamala Harris who swore in Bass as mayor, California State Senate President pro-Tempore Toni Atkins, Los Angeles County Democratic Party Chair Mark Gonzalez, and Governor Gavin Newsom. Bass was not alone in making history, however– Amanda Gorman, first National Youth Poet Laureate, made a surprise appearance and said, “The time of never before is officially past.”\\n\\nAs her story is intertwined with the city of Los Angeles and an epic fight against poverty and addiction, Bass took this time to honor and reflect on her roots and the legacy of civil rights leaders such as Robert F. Kennedy and Rev. Martin Luther King.\\n\\n\"My father fled the Jim Crow South during the great African American migration after World War II and found work as a letter carrier,” Bass said at the ceremony. “When I think about the dreams of working people today, I reflect on the fact that my mother and father were able to buy a home in Los Angeles for their family of six with one paycheck.\" \\n\\nBass\\'s career in politics began in 1990 when she founded the Community Coalition, a South Los Angeles-based social justice group in response to the crack cocaine crisis. She soon after became a member of the state legislature, and served as the first African American Speaker of the Assembly from 2004 to 2010.\\n\\nIn 2013, Bass was chosen as the 3rd female member of the L.A. Congressional Delegation and was elected to serve in the U.S. House. During her time in Congress, Bass was a member of the prestigious Congressional Black Caucus, joining Councilman Kevin de León, Council President Paul Krekorian, Congresswoman Janice Hahn, Congresswoman Judy Chu, and Congresswoman Lucille Roybal-Allard. \\n\\nBass was elected mayor-elect of Los Angeles in November of 2021, toppling her competitor Rick Caruso in a close race. She ran on a platform to solve the homelessness crisis in the nation\\'s second-largest city and declared a state of emergency on her first day in office. She laid out her plans for the city during her inaugural address, which was largely focused on her commitment to taking action on targeted issues.\\n\\n\"I will start my first day as mayor at the city\\'s emergency operations center, where my first act as mayor will be to declare a state of emergency on homelessness,\" she said. \" that\\'s why I\\'m here. To make sure that everyone, everyone, everyone... everyone has a chance in Los Angeles. Everyone has a chance for an education, for affordable housing, for access to healthcare, for a safe and secure neighborhood, for jobs that pay a living wage, and for dignity, security, and opportunity.\" \\n\\nShe ended her speech on an optimistic note, vowing that while the task of getting the city back on its feet is a daunting one, it is not impossible. As Bass begins her term as mayor, it\\'s clear that Los Angeles is ready to make history under her leadership.'"
      ]
     },
     "execution_count": 168,
     "metadata": {},
     "output_type": "execute_result"
    }
   ],
   "source": [
    "bass_from_stacked = generate_story([\n",
    "    'https://socalnews.com/la-story-3.html',\n",
    "    'https://www.cnn.com/2022/12/05/politics/karen-bass-kamala-harris-inauguration/index.html',\n",
    "    'https://www.cbsnews.com/losangeles/news/karen-bass-sworn-in-as-43rd-mayor-of-los-angeles-inauguration/'\n",
    "], entities, bass_sums_stacked)\n",
    "bass_from_stacked"
   ]
  },
  {
   "cell_type": "code",
   "execution_count": 169,
   "id": "b5a82f66",
   "metadata": {},
   "outputs": [
    {
     "name": "stdout",
     "output_type": "stream",
     "text": [
      "\n",
      "It was just days before Karen Bass' mayoral inauguration ceremony when the Los Angeles City council voted to make her the first female mayor of the City of Los Angeles. The 69-year-old Bass had first broken into politics nearly a decade before as a member of the California State legislature, representing the Los Angeles County. On Sunday, January 14, 2022, history would be made as she became the 43rd mayor of Los Angeles.\n",
      "\n",
      "The ceremony was scheduled to take place at City Hall, but due to bad weather it was shifted indoors to the Microsoft Theater. A confirmed list of guests included Vice President Kamala Harris who swore in Bass as mayor, California State Senate President pro-Tempore Toni Atkins, Los Angeles County Democratic Party Chair Mark Gonzalez, and Governor Gavin Newsom. Bass was not alone in making history, however– Amanda Gorman, first National Youth Poet Laureate, made a surprise appearance and said, “The time of never before is officially past.”\n",
      "\n",
      "As her story is intertwined with the city of Los Angeles and an epic fight against poverty and addiction, Bass took this time to honor and reflect on her roots and the legacy of civil rights leaders such as Robert F. Kennedy and Rev. Martin Luther King.\n",
      "\n",
      "\"My father fled the Jim Crow South during the great African American migration after World War II and found work as a letter carrier,” Bass said at the ceremony. “When I think about the dreams of working people today, I reflect on the fact that my mother and father were able to buy a home in Los Angeles for their family of six with one paycheck.\" \n",
      "\n",
      "Bass's career in politics began in 1990 when she founded the Community Coalition, a South Los Angeles-based social justice group in response to the crack cocaine crisis. She soon after became a member of the state legislature, and served as the first African American Speaker of the Assembly from 2004 to 2010.\n",
      "\n",
      "In 2013, Bass was chosen as the 3rd female member of the L.A. Congressional Delegation and was elected to serve in the U.S. House. During her time in Congress, Bass was a member of the prestigious Congressional Black Caucus, joining Councilman Kevin de León, Council President Paul Krekorian, Congresswoman Janice Hahn, Congresswoman Judy Chu, and Congresswoman Lucille Roybal-Allard. \n",
      "\n",
      "Bass was elected mayor-elect of Los Angeles in November of 2021, toppling her competitor Rick Caruso in a close race. She ran on a platform to solve the homelessness crisis in the nation's second-largest city and declared a state of emergency on her first day in office. She laid out her plans for the city during her inaugural address, which was largely focused on her commitment to taking action on targeted issues.\n",
      "\n",
      "\"I will start my first day as mayor at the city's emergency operations center, where my first act as mayor will be to declare a state of emergency on homelessness,\" she said. \" that's why I'm here. To make sure that everyone, everyone, everyone... everyone has a chance in Los Angeles. Everyone has a chance for an education, for affordable housing, for access to healthcare, for a safe and secure neighborhood, for jobs that pay a living wage, and for dignity, security, and opportunity.\" \n",
      "\n",
      "She ended her speech on an optimistic note, vowing that while the task of getting the city back on its feet is a daunting one, it is not impossible. As Bass begins her term as mayor, it's clear that Los Angeles is ready to make history under her leadership.\n"
     ]
    }
   ],
   "source": [
    "print(bass_from_stacked)"
   ]
  },
  {
   "cell_type": "code",
   "execution_count": 170,
   "id": "32b8d687",
   "metadata": {},
   "outputs": [
    {
     "name": "stdout",
     "output_type": "stream",
     "text": [
      "{\n",
      "  \"completion_tokens\": 881,\n",
      "  \"prompt_tokens\": 1020,\n",
      "  \"total_tokens\": 1901\n",
      "}\n"
     ]
    },
    {
     "data": {
      "text/plain": [
       "'\\n\\nIt was a historic day for Los Angeles on Monday as Sharon Bass, 69, was sworn in as the city’s first female Black mayor. The inauguration, which was originally going to be held outside City Hall, was moved indoors due to rain but that didn’t dampen the festive spirit of the day. A large crowd gathered to witness the special occasion, including prominent politicians such as California State Senate President pro-tempore Toni Atkins, Los Angeles County Democratic Party Chairman Mark Gonzalez, Governor Gavin Newsom, and Kamala Harris.\\n\\nMayor-elect Bass began her career in 1990 as a physician assistant in the emergency room at a Los Angeles County hospital. But it was her founding of the South Los Angeles social justice organization, Community Coalition, in response to the crack cocaine crisis that really had an impact. This experience of bringing together Black and Latino community organizers to tackle the root causes of crime and drug addiction in the city established her as a leader in local politics.\\n\\nIn 2002, Bass began her first term in the California State Assembly, where she eventually became the first African American Speaker. Four years later she was elected to the Los Angeles City Council, where she served for six years, before running for mayor. During her campaign she honed in on her experience from nearly a decade prior to bring social justice to South Los Angeles. Her hard work was rewarded when she was elected to office in the historic November 8, 2020 election, beating out her competitors City Councilman Kevin De León, incumbent Mayor Eric Garcetti, and Paul Kerkorain. \\n\\nAt 8:50 pm on Sunday, March 14th, 2021, that hard work paid off. Bass was sworn into office at the Microsoft Theater in what had been planned to be an outdoor ceremony in front of City Hall. Along with her were her fellow Angelenos, speakers like former State Senator Robert F. Kennedy, Jr., and first National Youth Poet Laureate, Amanda Gorman. \\n\\nGorman, who had read her own poem at President Joe Biden’s inauguration in January, was delighted to be part of the celebration. “The time of never before is officially past,” she read with emotion. Bass and Gorman were joined by singer Chloe Bailey who performed a soulful rendition of Stevie Wonder’s Living for the City and Keep Our Love from 1968. This was followed by Eds from LAX who rapped, and over 40,000 people watched the live stream of the event.\\n\\nFriends, family, and political figures alike came to celebrate the inaugural of Bass’ first year in office, and the Los Angeles County Democratic Party Chairman, Mark Gonzalez, presented Bass with a rose, calling it a “token of the admiration we have for you.” Governor Gavin Newsom also attended the swearing in ceremony, and Rick Caruso, the CEO of the real estate firm Caruso Affiliated, presented Bass with the keys to New City, a real estate development currently in development.\\n\\nDue to Mayor Bass’ work earlier in her career to bring together Black and Latino Angelenos to address the root causes of crime and the crack epidemic, Los Angeles City Council President Nury Martinez set in motion the Office of Community Safety and issued a memorandum noting that 17,000 people had been employed as a direct result of the organization’s actions. In addition, Martinez and members of the Congressional Black Caucus, have sought to commemorate the momentous occasion by launching the“Bass Inauguration”, a campaign that involves the donation of more than 1,200 meals every month to support Black and Latino families, something that Bass herself supported during her campaign.\\n\\nOne can’t help but think of Robert F. Kennedy’s famous quote “A small act of kindness can change the world”. It’s this sentiment that has underpinned Sharon Bass’ work and continues to guide her as mayor of Los Angeles. The city of Los Angeles has come a long way since its beginnings back in 2019, and there is still much to be done. The day marked the official beginning of a new chapter for the City of Angels and for Mayor Bass, one that is sure to be filled with continued effort and compassion for her fellow Angelenos.'"
      ]
     },
     "execution_count": 170,
     "metadata": {},
     "output_type": "execute_result"
    }
   ],
   "source": [
    "bass_from_sums = generate_story([\n",
    "    'https://socalnews.com/la-story-3.html',\n",
    "    'https://www.cnn.com/2022/12/05/politics/karen-bass-kamala-harris-inauguration/index.html',\n",
    "    'https://www.cbsnews.com/losangeles/news/karen-bass-sworn-in-as-43rd-mayor-of-los-angeles-inauguration/'\n",
    "], entities, bass_sum_from_sums)\n",
    "bass_from_sums"
   ]
  },
  {
   "cell_type": "code",
   "execution_count": 171,
   "id": "dfdca4f2",
   "metadata": {},
   "outputs": [
    {
     "name": "stdout",
     "output_type": "stream",
     "text": [
      "\n",
      "\n",
      "It was a historic day for Los Angeles on Monday as Sharon Bass, 69, was sworn in as the city’s first female Black mayor. The inauguration, which was originally going to be held outside City Hall, was moved indoors due to rain but that didn’t dampen the festive spirit of the day. A large crowd gathered to witness the special occasion, including prominent politicians such as California State Senate President pro-tempore Toni Atkins, Los Angeles County Democratic Party Chairman Mark Gonzalez, Governor Gavin Newsom, and Kamala Harris.\n",
      "\n",
      "Mayor-elect Bass began her career in 1990 as a physician assistant in the emergency room at a Los Angeles County hospital. But it was her founding of the South Los Angeles social justice organization, Community Coalition, in response to the crack cocaine crisis that really had an impact. This experience of bringing together Black and Latino community organizers to tackle the root causes of crime and drug addiction in the city established her as a leader in local politics.\n",
      "\n",
      "In 2002, Bass began her first term in the California State Assembly, where she eventually became the first African American Speaker. Four years later she was elected to the Los Angeles City Council, where she served for six years, before running for mayor. During her campaign she honed in on her experience from nearly a decade prior to bring social justice to South Los Angeles. Her hard work was rewarded when she was elected to office in the historic November 8, 2020 election, beating out her competitors City Councilman Kevin De León, incumbent Mayor Eric Garcetti, and Paul Kerkorain. \n",
      "\n",
      "At 8:50 pm on Sunday, March 14th, 2021, that hard work paid off. Bass was sworn into office at the Microsoft Theater in what had been planned to be an outdoor ceremony in front of City Hall. Along with her were her fellow Angelenos, speakers like former State Senator Robert F. Kennedy, Jr., and first National Youth Poet Laureate, Amanda Gorman. \n",
      "\n",
      "Gorman, who had read her own poem at President Joe Biden’s inauguration in January, was delighted to be part of the celebration. “The time of never before is officially past,” she read with emotion. Bass and Gorman were joined by singer Chloe Bailey who performed a soulful rendition of Stevie Wonder’s Living for the City and Keep Our Love from 1968. This was followed by Eds from LAX who rapped, and over 40,000 people watched the live stream of the event.\n",
      "\n",
      "Friends, family, and political figures alike came to celebrate the inaugural of Bass’ first year in office, and the Los Angeles County Democratic Party Chairman, Mark Gonzalez, presented Bass with a rose, calling it a “token of the admiration we have for you.” Governor Gavin Newsom also attended the swearing in ceremony, and Rick Caruso, the CEO of the real estate firm Caruso Affiliated, presented Bass with the keys to New City, a real estate development currently in development.\n",
      "\n",
      "Due to Mayor Bass’ work earlier in her career to bring together Black and Latino Angelenos to address the root causes of crime and the crack epidemic, Los Angeles City Council President Nury Martinez set in motion the Office of Community Safety and issued a memorandum noting that 17,000 people had been employed as a direct result of the organization’s actions. In addition, Martinez and members of the Congressional Black Caucus, have sought to commemorate the momentous occasion by launching the“Bass Inauguration”, a campaign that involves the donation of more than 1,200 meals every month to support Black and Latino families, something that Bass herself supported during her campaign.\n",
      "\n",
      "One can’t help but think of Robert F. Kennedy’s famous quote “A small act of kindness can change the world”. It’s this sentiment that has underpinned Sharon Bass’ work and continues to guide her as mayor of Los Angeles. The city of Los Angeles has come a long way since its beginnings back in 2019, and there is still much to be done. The day marked the official beginning of a new chapter for the City of Angels and for Mayor Bass, one that is sure to be filled with continued effort and compassion for her fellow Angelenos.\n"
     ]
    }
   ],
   "source": [
    "print(bass_from_sums)"
   ]
  },
  {
   "cell_type": "code",
   "execution_count": 172,
   "id": "e1f86078",
   "metadata": {},
   "outputs": [
    {
     "data": {
      "text/html": [
       "Waiting for W&B process to finish... <strong style=\"color:green\">(success).</strong>"
      ],
      "text/plain": [
       "<IPython.core.display.HTML object>"
      ]
     },
     "metadata": {},
     "output_type": "display_data"
    },
    {
     "data": {
      "text/html": [
       " View run <strong style=\"color:#cdcd00\">beloved-sweetheart-37</strong> at: <a href='https://wandb.ai/heywire/HeywireAI/runs/l6gg4mkr' target=\"_blank\">https://wandb.ai/heywire/HeywireAI/runs/l6gg4mkr</a><br/>Synced 5 W&B file(s), 1 media file(s), 1 artifact file(s) and 0 other file(s)"
      ],
      "text/plain": [
       "<IPython.core.display.HTML object>"
      ]
     },
     "metadata": {},
     "output_type": "display_data"
    },
    {
     "data": {
      "text/html": [
       "Find logs at: <code>.\\wandb\\run-20230215_143259-l6gg4mkr\\logs</code>"
      ],
      "text/plain": [
       "<IPython.core.display.HTML object>"
      ]
     },
     "metadata": {},
     "output_type": "display_data"
    }
   ],
   "source": [
    "wandb.log({'predictions': prediction_table})\n",
    "wandb.finish()"
   ]
  },
  {
   "cell_type": "code",
   "execution_count": null,
   "id": "7b87972d",
   "metadata": {},
   "outputs": [],
   "source": []
  }
 ],
 "metadata": {
  "kernelspec": {
   "display_name": "Python 3 (ipykernel)",
   "language": "python",
   "name": "python3"
  },
  "language_info": {
   "codemirror_mode": {
    "name": "ipython",
    "version": 3
   },
   "file_extension": ".py",
   "mimetype": "text/x-python",
   "name": "python",
   "nbconvert_exporter": "python",
   "pygments_lexer": "ipython3",
   "version": "3.11.1"
  }
 },
 "nbformat": 4,
 "nbformat_minor": 5
}
