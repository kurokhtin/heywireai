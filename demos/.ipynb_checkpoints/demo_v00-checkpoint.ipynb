{
 "cells": [
  {
   "cell_type": "code",
   "execution_count": 11,
   "id": "2f014864",
   "metadata": {},
   "outputs": [
    {
     "data": {
      "text/plain": [
       "'Karen Bass promised to elimnate the work of the Trump administration at the inaugural ceremony of Los Angeles.\\n'"
      ]
     },
     "execution_count": 11,
     "metadata": {},
     "output_type": "execute_result"
    }
   ],
   "source": [
    "import os\n",
    "import openai\n",
    "from dotenv import load_dotenv\n",
    "\n",
    "load_dotenv()\n",
    "openai.api_key = os.getenv(\"OPENAI_API_KEY\")\n",
    "response = openai.Edit.create(\n",
    "  model=\"text-davinci-edit-001\",\n",
    "  input=\"Karen Bass was sworn in as the 43rd mayor of Los Angeles today in a historic inauguration at the Microsoft Theater, becoming the first woman and second Black person to lead the city.\",\n",
    "  instruction=\"Rewrite it to souns like AI\"\n",
    ")\n",
    "\n",
    "saved_response = response\n",
    "converted_text = saved_response['choices'][0]['text']\n",
    "converted_text"
   ]
  },
  {
   "cell_type": "code",
   "execution_count": 12,
   "id": "d85cdd8c",
   "metadata": {},
   "outputs": [
    {
     "name": "stdout",
     "output_type": "stream",
     "text": [
      "Karen Bass promised to elimnate the work of the Trump administration at the inaugural ceremony of Los Angeles.\n",
      "\n"
     ]
    }
   ],
   "source": [
    "print(converted_text)"
   ]
  },
  {
   "cell_type": "code",
   "execution_count": null,
   "id": "8b49a2cb",
   "metadata": {},
   "outputs": [],
   "source": []
  }
 ],
 "metadata": {
  "kernelspec": {
   "display_name": "Python 3 (ipykernel)",
   "language": "python",
   "name": "python3"
  },
  "language_info": {
   "codemirror_mode": {
    "name": "ipython",
    "version": 3
   },
   "file_extension": ".py",
   "mimetype": "text/x-python",
   "name": "python",
   "nbconvert_exporter": "python",
   "pygments_lexer": "ipython3",
   "version": "3.11.1"
  }
 },
 "nbformat": 4,
 "nbformat_minor": 5
}
