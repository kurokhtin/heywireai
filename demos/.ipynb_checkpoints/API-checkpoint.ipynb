{
 "cells": [
  {
   "cell_type": "code",
   "execution_count": 3,
   "id": "47573795",
   "metadata": {},
   "outputs": [
    {
     "data": {
      "text/plain": [
       "<Response [200]>"
      ]
     },
     "execution_count": 3,
     "metadata": {},
     "output_type": "execute_result"
    }
   ],
   "source": [
    "import requests\n",
    "\n",
    "url = 'http://localhost:5000/api/get_stories'\n",
    "data = {\n",
    "    'cats': 'ay.sports.nba, ay.sports.nfl',\n",
    "    'word_count': '500',\n",
    "    'datetime': 'NOW-1DAYS/DAY',\n",
    "    'location': 'Q65',\n",
    "    'writing_style': 'funny',\n",
    "    'total': '5',\n",
    "    'token': '344a7e67c939a28e3a250d57e3b63cf7'\n",
    "}\n",
    "\n",
    "response = requests.post(url, json=data)\n",
    "response"
   ]
  },
  {
   "cell_type": "code",
   "execution_count": 9,
   "id": "9ef953a0",
   "metadata": {},
   "outputs": [
    {
     "data": {
      "text/plain": [
       "{'cats': 'ay.sports.nba, ay.sports.nfl',\n",
       " 'word_count': '500',\n",
       " 'datetime': 'NOW-1DAYS/DAY',\n",
       " 'location': 'Q65',\n",
       " 'writing_style': 'funny',\n",
       " 'total': '5',\n",
       " 'token': '344a7e67c939a28e3a250d57e3b63cf7'}"
      ]
     },
     "execution_count": 9,
     "metadata": {},
     "output_type": "execute_result"
    }
   ],
   "source": [
    "data = {'cats': 'ay.sports.nba, ay.sports.nfl', 'word_count': '500', 'datetime': 'NOW-1DAYS/DAY', 'location': 'Q65', 'writing_style': 'funny', 'total': '5', 'token': '344a7e67c939a28e3a250d57e3b63cf7'}\n",
    "data"
   ]
  },
  {
   "cell_type": "code",
   "execution_count": 18,
   "id": "12c732ac",
   "metadata": {},
   "outputs": [
    {
     "data": {
      "text/plain": [
       "'{taxonomy: aylien AND id:ay.sports.nba}{taxonomy: aylien AND id:ay.sports.nfl}'"
      ]
     },
     "execution_count": 18,
     "metadata": {},
     "output_type": "execute_result"
    }
   ],
   "source": [
    "# url = 'https://api.aylien.com/news/stories?\n",
    "# aql=categories:({{taxonomy:aylien AND id:ay.biz.crime}} OR {{taxonomy:aylien AND id:ay.lifesoc.crime}}) \n",
    "# AND entities:({{id:Q65 AND overall_prominence:>=0.65}} OR {{id:Q30 AND overall_prominence:>=0.65}}) \n",
    "# AND sentiment.title.polarity:(negative neutral positive)\n",
    "# &cursor=*&published_at.end=NOW&published_at.start=NOW-1DAYS/DAY'\n",
    "# opts = {\n",
    "#     'published_at_start': data['datetime'],\n",
    "#     'published_at_end': 'NOW',\n",
    "#     'language': ['en'],\n",
    "#     'per_page': 5,\n",
    "#     'source_locations_country': ['US'],\n",
    "#     'categories_taxonomy': 'aylien',\n",
    "#     'aql': 'categories: {{taxonomy: aylien AND id:ay.sports.nba}}',\n",
    "#     'not_entities_id' : ['N25240567620063168378490754444048642724'], #exclude sponsored\n",
    "#     'sort_by': 'relevance'\n",
    "# }\n",
    "categories = data['cats'].split(', ')\n",
    "cat_search_string = \"\"\n",
    "for one_cat in categories:\n",
    "    cat_search_string += (f\"{{taxonomy: aylien AND id:{one_cat}}}\")\n",
    "cat_search_string"
   ]
  },
  {
   "cell_type": "code",
   "execution_count": null,
   "id": "faf736fc",
   "metadata": {},
   "outputs": [],
   "source": []
  }
 ],
 "metadata": {
  "kernelspec": {
   "display_name": "Python 3 (ipykernel)",
   "language": "python",
   "name": "python3"
  },
  "language_info": {
   "codemirror_mode": {
    "name": "ipython",
    "version": 3
   },
   "file_extension": ".py",
   "mimetype": "text/x-python",
   "name": "python",
   "nbconvert_exporter": "python",
   "pygments_lexer": "ipython3",
   "version": "3.11.1"
  }
 },
 "nbformat": 4,
 "nbformat_minor": 5
}
